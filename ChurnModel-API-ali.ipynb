{
 "cells": [
  {
   "cell_type": "markdown",
   "id": "3b1c843a-0b09-4f26-aa50-9da873c0212f",
   "metadata": {},
   "source": [
    "## Import Packages"
   ]
  },
  {
   "cell_type": "code",
   "execution_count": 1,
   "id": "d0fd14bf-cc44-4755-99b6-82e6226f1e3b",
   "metadata": {},
   "outputs": [],
   "source": [
    "import os\n",
    "import pandas as pd\n",
    "import numpy as np\n",
    "import random\n",
    "import pickle\n",
    "import datetime\n",
    "import seaborn as sns\n",
    "import matplotlib.pyplot as plt"
   ]
  },
  {
   "cell_type": "markdown",
   "id": "5c7c909e-9a5b-4a89-b20e-847be44a6040",
   "metadata": {},
   "source": [
    "## Read Training Data"
   ]
  },
  {
   "cell_type": "markdown",
   "id": "7691e9ee-edd5-4760-96fe-76b6fc7bda08",
   "metadata": {},
   "source": [
    "### Training Dataset is the same as the one which the model is trained on"
   ]
  },
  {
   "cell_type": "code",
   "execution_count": 2,
   "id": "a3c4473a-ead2-4a6d-9f56-5e48e3e9193e",
   "metadata": {},
   "outputs": [
    {
     "name": "stdout",
     "output_type": "stream",
     "text": [
      " The shape of training dataset is (7939, 7)\n",
      "* \n",
      "* \n",
      "*\n"
     ]
    },
    {
     "data": {
      "text/html": [
       "<div>\n",
       "<style scoped>\n",
       "    .dataframe tbody tr th:only-of-type {\n",
       "        vertical-align: middle;\n",
       "    }\n",
       "\n",
       "    .dataframe tbody tr th {\n",
       "        vertical-align: top;\n",
       "    }\n",
       "\n",
       "    .dataframe thead th {\n",
       "        text-align: right;\n",
       "    }\n",
       "</style>\n",
       "<table border=\"1\" class=\"dataframe\">\n",
       "  <thead>\n",
       "    <tr style=\"text-align: right;\">\n",
       "      <th></th>\n",
       "      <th>custid</th>\n",
       "      <th>dropperc</th>\n",
       "      <th>mins</th>\n",
       "      <th>consecmonths</th>\n",
       "      <th>income</th>\n",
       "      <th>age</th>\n",
       "      <th>churn_Y</th>\n",
       "    </tr>\n",
       "  </thead>\n",
       "  <tbody>\n",
       "    <tr>\n",
       "      <th>0</th>\n",
       "      <td>844336</td>\n",
       "      <td>0.016364</td>\n",
       "      <td>550</td>\n",
       "      <td>28</td>\n",
       "      <td>89.2</td>\n",
       "      <td>45</td>\n",
       "      <td>0</td>\n",
       "    </tr>\n",
       "    <tr>\n",
       "      <th>1</th>\n",
       "      <td>146041</td>\n",
       "      <td>0.018349</td>\n",
       "      <td>545</td>\n",
       "      <td>33</td>\n",
       "      <td>54.2</td>\n",
       "      <td>43</td>\n",
       "      <td>0</td>\n",
       "    </tr>\n",
       "    <tr>\n",
       "      <th>2</th>\n",
       "      <td>847745</td>\n",
       "      <td>0.018519</td>\n",
       "      <td>378</td>\n",
       "      <td>41</td>\n",
       "      <td>55.3</td>\n",
       "      <td>41</td>\n",
       "      <td>0</td>\n",
       "    </tr>\n",
       "    <tr>\n",
       "      <th>3</th>\n",
       "      <td>285565</td>\n",
       "      <td>0.014493</td>\n",
       "      <td>552</td>\n",
       "      <td>32</td>\n",
       "      <td>66.8</td>\n",
       "      <td>31</td>\n",
       "      <td>0</td>\n",
       "    </tr>\n",
       "    <tr>\n",
       "      <th>4</th>\n",
       "      <td>754611</td>\n",
       "      <td>0.012132</td>\n",
       "      <td>577</td>\n",
       "      <td>4</td>\n",
       "      <td>87.2</td>\n",
       "      <td>43</td>\n",
       "      <td>0</td>\n",
       "    </tr>\n",
       "  </tbody>\n",
       "</table>\n",
       "</div>"
      ],
      "text/plain": [
       "   custid  dropperc  mins  consecmonths  income  age  churn_Y\n",
       "0  844336  0.016364   550            28    89.2   45        0\n",
       "1  146041  0.018349   545            33    54.2   43        0\n",
       "2  847745  0.018519   378            41    55.3   41        0\n",
       "3  285565  0.014493   552            32    66.8   31        0\n",
       "4  754611  0.012132   577             4    87.2   43        0"
      ]
     },
     "execution_count": 2,
     "metadata": {},
     "output_type": "execute_result"
    }
   ],
   "source": [
    "#Bring in data used to train pickled model that is loaded in later\n",
    "df = pd.read_csv('/mnt/code/Test&TrainData/ChurnTrainingDataPP.csv')\n",
    "df.drop('predictionProbability', axis =1,inplace = True)\n",
    "print(f\" The shape of training dataset is {df.shape}\")\n",
    "print(\"\"\"* \\n* \\n*\"\"\")\n",
    "df.head()"
   ]
  },
  {
   "cell_type": "markdown",
   "id": "1062ebf8-fefb-4312-bae6-33b2259c4a5f",
   "metadata": {},
   "source": [
    "## Synthesizing Data (\"df_inf\")"
   ]
  },
  {
   "cell_type": "code",
   "execution_count": 3,
   "id": "0bac4eac-e64e-40d3-be60-0ac12f5f9265",
   "metadata": {},
   "outputs": [
    {
     "name": "stdout",
     "output_type": "stream",
     "text": [
      "Correlations between original and altered vars -\n",
      "custid: 1.0\n",
      "dropperc: 0.7317\n",
      "mins: 0.7414\n",
      "consecmonths: 0.9295\n",
      "income: 0.6178\n",
      "age: 0.9692\n",
      "churn_Y: 1.0\n"
     ]
    }
   ],
   "source": [
    "#append data to istelf to double volume\n",
    "df2 = df.append(df)\n",
    "\n",
    "#Reset custid field so that there are no repeats\n",
    "df2['custid'] = np.random.choice(range(df.custid.min(), df.custid.max()),df2.shape[0], replace=False)\n",
    "\n",
    "##For each input feature adjust data and round/cast as necessary\n",
    "#dropperc - 50%-150%\n",
    "droppJitter = df2.dropperc.apply(lambda x : x*(random.randrange(50,150))/100)\n",
    "#mins - 70%-130%\n",
    "minsJitter = df2.mins.apply(lambda x : x*(random.randrange(70,130)/100)).round(0).astype(int)\n",
    "#consecMonths - 80%-120%\n",
    "consecMonthsJitter = df2.consecmonths.apply(lambda x : x*(random.randrange(80,120)/100)).round(0).astype(int)\n",
    "#Income - 40%-160%\n",
    "incomeJitter = df2.income.apply(lambda x : x*(random.randrange(40,160)/100)).round(1)\n",
    "#age - 90%-110%\n",
    "ageJitter = df2.age.apply(lambda x : x*(random.randrange(90,110)/100)).round(0).astype(int)\n",
    "\n",
    "#Take all the new 'jittered' variables and write to a new df\n",
    "#Keep original custid and churn_Y fields\n",
    "df3 = pd.DataFrame({'custid': df2.custid,\n",
    "       'dropperc': droppJitter, \n",
    "       'mins': minsJitter,\n",
    "       'consecmonths': consecMonthsJitter,\n",
    "       'income': incomeJitter,\n",
    "       'age': ageJitter,\n",
    "       'churn_Y': df2.churn_Y\n",
    "                   })\n",
    "\n",
    "#Understand correlations between new jittered data and original\n",
    "#Should see larger data drift for lower correlations\n",
    "concatset = pd.concat([df2,df3], axis =1)\n",
    "concatset.columns=(list(df2.columns)+list('Jittered_'+df3.columns))\n",
    "print('Correlations between original and altered vars -')\n",
    "for i,k in enumerate(df2.columns):\n",
    "    print('{}: {}'.format(k, concatset.corr()[k]['Jittered_'+k].round(4)))"
   ]
  },
  {
   "cell_type": "code",
   "execution_count": 4,
   "id": "5127d0ab-ae6f-4c85-8155-19607bf3c4b5",
   "metadata": {},
   "outputs": [
    {
     "name": "stdout",
     "output_type": "stream",
     "text": [
      "397 records selected for sample\n",
      " The shape of df_inf aka jittered training dataset is (397, 7)\n",
      "* \n",
      "* \n",
      "*\n"
     ]
    },
    {
     "data": {
      "text/html": [
       "<div>\n",
       "<style scoped>\n",
       "    .dataframe tbody tr th:only-of-type {\n",
       "        vertical-align: middle;\n",
       "    }\n",
       "\n",
       "    .dataframe tbody tr th {\n",
       "        vertical-align: top;\n",
       "    }\n",
       "\n",
       "    .dataframe thead th {\n",
       "        text-align: right;\n",
       "    }\n",
       "</style>\n",
       "<table border=\"1\" class=\"dataframe\">\n",
       "  <thead>\n",
       "    <tr style=\"text-align: right;\">\n",
       "      <th></th>\n",
       "      <th>custid</th>\n",
       "      <th>dropperc</th>\n",
       "      <th>mins</th>\n",
       "      <th>consecmonths</th>\n",
       "      <th>income</th>\n",
       "      <th>age</th>\n",
       "      <th>churn_Y</th>\n",
       "    </tr>\n",
       "  </thead>\n",
       "  <tbody>\n",
       "    <tr>\n",
       "      <th>927</th>\n",
       "      <td>265574</td>\n",
       "      <td>0.020926</td>\n",
       "      <td>535</td>\n",
       "      <td>29</td>\n",
       "      <td>30.1</td>\n",
       "      <td>41</td>\n",
       "      <td>0</td>\n",
       "    </tr>\n",
       "    <tr>\n",
       "      <th>2408</th>\n",
       "      <td>469912</td>\n",
       "      <td>0.027179</td>\n",
       "      <td>459</td>\n",
       "      <td>22</td>\n",
       "      <td>73.2</td>\n",
       "      <td>54</td>\n",
       "      <td>0</td>\n",
       "    </tr>\n",
       "    <tr>\n",
       "      <th>4141</th>\n",
       "      <td>44508</td>\n",
       "      <td>0.012835</td>\n",
       "      <td>459</td>\n",
       "      <td>27</td>\n",
       "      <td>58.8</td>\n",
       "      <td>49</td>\n",
       "      <td>0</td>\n",
       "    </tr>\n",
       "    <tr>\n",
       "      <th>4840</th>\n",
       "      <td>168393</td>\n",
       "      <td>0.043139</td>\n",
       "      <td>553</td>\n",
       "      <td>19</td>\n",
       "      <td>84.6</td>\n",
       "      <td>48</td>\n",
       "      <td>0</td>\n",
       "    </tr>\n",
       "    <tr>\n",
       "      <th>1287</th>\n",
       "      <td>685472</td>\n",
       "      <td>0.017965</td>\n",
       "      <td>655</td>\n",
       "      <td>23</td>\n",
       "      <td>45.0</td>\n",
       "      <td>27</td>\n",
       "      <td>0</td>\n",
       "    </tr>\n",
       "  </tbody>\n",
       "</table>\n",
       "</div>"
      ],
      "text/plain": [
       "      custid  dropperc  mins  consecmonths  income  age  churn_Y\n",
       "927   265574  0.020926   535            29    30.1   41        0\n",
       "2408  469912  0.027179   459            22    73.2   54        0\n",
       "4141   44508  0.012835   459            27    58.8   49        0\n",
       "4840  168393  0.043139   553            19    84.6   48        0\n",
       "1287  685472  0.017965   655            23    45.0   27        0"
      ]
     },
     "execution_count": 4,
     "metadata": {},
     "output_type": "execute_result"
    }
   ],
   "source": [
    "#Grab between 100 and 500 random rows from jittered data\n",
    "df_inf = df3.sample(n = random.randint(100,500))\n",
    "print(df_inf.shape[0], \"records selected for sample\")\n",
    "df_inf.head()\n",
    "\n",
    "print(f\" The shape of df_inf for prediction data is {df_inf.shape}\")\n",
    "print(\"\"\"* \\n* \\n*\"\"\")\n",
    "df_inf.head()"
   ]
  },
  {
   "cell_type": "markdown",
   "id": "17b3ad1d-1dd7-497c-accf-b862a1a5587c",
   "metadata": {},
   "source": [
    "### Synthesize data features (\"X\")"
   ]
  },
  {
   "cell_type": "code",
   "execution_count": null,
   "id": "71284ab4-c068-47bf-a57c-f608f6911951",
   "metadata": {},
   "outputs": [],
   "source": [
    "#Save input features\n",
    "X = df_inf.loc[:, 'dropperc':'age']\n",
    "print(f\"shape of X is {X.shape}\")\n",
    "X.head()"
   ]
  },
  {
   "cell_type": "markdown",
   "id": "bfc48877-49dd-4c6f-b41c-9c73455db41f",
   "metadata": {},
   "source": [
    "## Load Model"
   ]
  },
  {
   "cell_type": "code",
   "execution_count": 5,
   "id": "a2a2f037-7b1b-4a1b-b3db-5c07f07813d1",
   "metadata": {},
   "outputs": [
    {
     "name": "stdout",
     "output_type": "stream",
     "text": [
      "shape of X is (397, 5)\n"
     ]
    },
    {
     "name": "stderr",
     "output_type": "stream",
     "text": [
      "/opt/conda/lib/python3.8/site-packages/sklearn/base.py:329: UserWarning: Trying to unpickle estimator DecisionTreeClassifier from version 0.22.2 when using version 1.0.2. This might lead to breaking code or invalid results. Use at your own risk. For more info please refer to:\n",
      "https://scikit-learn.org/stable/modules/model_persistence.html#security-maintainability-limitations\n",
      "  warnings.warn(\n",
      "/opt/conda/lib/python3.8/site-packages/sklearn/base.py:329: UserWarning: Trying to unpickle estimator AdaBoostClassifier from version 0.22.2 when using version 1.0.2. This might lead to breaking code or invalid results. Use at your own risk. For more info please refer to:\n",
      "https://scikit-learn.org/stable/modules/model_persistence.html#security-maintainability-limitations\n",
      "  warnings.warn(\n"
     ]
    },
    {
     "data": {
      "text/html": [
       "<div>\n",
       "<style scoped>\n",
       "    .dataframe tbody tr th:only-of-type {\n",
       "        vertical-align: middle;\n",
       "    }\n",
       "\n",
       "    .dataframe tbody tr th {\n",
       "        vertical-align: top;\n",
       "    }\n",
       "\n",
       "    .dataframe thead th {\n",
       "        text-align: right;\n",
       "    }\n",
       "</style>\n",
       "<table border=\"1\" class=\"dataframe\">\n",
       "  <thead>\n",
       "    <tr style=\"text-align: right;\">\n",
       "      <th></th>\n",
       "      <th>dropperc</th>\n",
       "      <th>mins</th>\n",
       "      <th>consecmonths</th>\n",
       "      <th>income</th>\n",
       "      <th>age</th>\n",
       "    </tr>\n",
       "  </thead>\n",
       "  <tbody>\n",
       "    <tr>\n",
       "      <th>927</th>\n",
       "      <td>0.020926</td>\n",
       "      <td>535</td>\n",
       "      <td>29</td>\n",
       "      <td>30.1</td>\n",
       "      <td>41</td>\n",
       "    </tr>\n",
       "    <tr>\n",
       "      <th>2408</th>\n",
       "      <td>0.027179</td>\n",
       "      <td>459</td>\n",
       "      <td>22</td>\n",
       "      <td>73.2</td>\n",
       "      <td>54</td>\n",
       "    </tr>\n",
       "    <tr>\n",
       "      <th>4141</th>\n",
       "      <td>0.012835</td>\n",
       "      <td>459</td>\n",
       "      <td>27</td>\n",
       "      <td>58.8</td>\n",
       "      <td>49</td>\n",
       "    </tr>\n",
       "    <tr>\n",
       "      <th>4840</th>\n",
       "      <td>0.043139</td>\n",
       "      <td>553</td>\n",
       "      <td>19</td>\n",
       "      <td>84.6</td>\n",
       "      <td>48</td>\n",
       "    </tr>\n",
       "    <tr>\n",
       "      <th>1287</th>\n",
       "      <td>0.017965</td>\n",
       "      <td>655</td>\n",
       "      <td>23</td>\n",
       "      <td>45.0</td>\n",
       "      <td>27</td>\n",
       "    </tr>\n",
       "  </tbody>\n",
       "</table>\n",
       "</div>"
      ],
      "text/plain": [
       "      dropperc  mins  consecmonths  income  age\n",
       "927   0.020926   535            29    30.1   41\n",
       "2408  0.027179   459            22    73.2   54\n",
       "4141  0.012835   459            27    58.8   49\n",
       "4840  0.043139   553            19    84.6   48\n",
       "1287  0.017965   655            23    45.0   27"
      ]
     },
     "execution_count": 5,
     "metadata": {},
     "output_type": "execute_result"
    }
   ],
   "source": [
    "#Load in trained model object    \n",
    "loaded_model = pickle.load(open('/mnt/code/models/ChurnBinaryClassifier.pkl', 'rb'))"
   ]
  },
  {
   "cell_type": "markdown",
   "id": "5ed88b68-44a5-4344-977b-bdd6f9a3cc93",
   "metadata": {},
   "source": [
    "### a. \"predictions\" values \n",
    "#### Array of binary values which is from loaded model using features of Synthesized data (X) **** 0 or 1"
   ]
  },
  {
   "cell_type": "code",
   "execution_count": 28,
   "id": "feeef570-b4a9-49f7-ae39-38bf85d17701",
   "metadata": {},
   "outputs": [
    {
     "name": "stdout",
     "output_type": "stream",
     "text": [
      "lenght of prediction is 397\n"
     ]
    },
    {
     "name": "stderr",
     "output_type": "stream",
     "text": [
      "/opt/conda/lib/python3.8/site-packages/sklearn/base.py:443: UserWarning: X has feature names, but AdaBoostClassifier was fitted without feature names\n",
      "  warnings.warn(\n"
     ]
    },
    {
     "data": {
      "text/plain": [
       "array([0, 0, 0, 0, 0])"
      ]
     },
     "execution_count": 28,
     "metadata": {},
     "output_type": "execute_result"
    }
   ],
   "source": [
    "#Get model predictions for the sample of input features defined above\n",
    "predictions = loaded_model.predict(X)\n",
    "print(f\"lenght of prediction is {len(predictions)}\")\n",
    "predictions[:5]"
   ]
  },
  {
   "cell_type": "markdown",
   "id": "37d3a54c-6318-443e-90fc-9b1f0371845f",
   "metadata": {},
   "source": [
    "### b. \"probas\" Prediction probability range using features of Synthesized data (df_inf) **** between [0.xx, 0.xx]"
   ]
  },
  {
   "cell_type": "code",
   "execution_count": 13,
   "id": "cd100fb1-93a2-489f-ad10-7655e3aae290",
   "metadata": {},
   "outputs": [
    {
     "name": "stdout",
     "output_type": "stream",
     "text": [
      "lenght of probas is 397\n"
     ]
    },
    {
     "name": "stderr",
     "output_type": "stream",
     "text": [
      "/opt/conda/lib/python3.8/site-packages/sklearn/base.py:443: UserWarning: X has feature names, but AdaBoostClassifier was fitted without feature names\n",
      "  warnings.warn(\n"
     ]
    },
    {
     "data": {
      "text/plain": [
       "[[0.5537376156742894, 0.4462623843257107],\n",
       " [0.5626819529235282, 0.43731804707647187],\n",
       " [0.7032368254094384, 0.2967631745905616],\n",
       " [0.5089288121401815, 0.4910711878598185]]"
      ]
     },
     "execution_count": 13,
     "metadata": {},
     "output_type": "execute_result"
    }
   ],
   "source": [
    "#Get model prediction probabilities for the sample of input features defined above\n",
    "#probas = tuple(loaded_model.predict_proba(X).tolist()) # converting from array to list to be compatible for dataframe probability range\n",
    "probas = loaded_model.predict_proba(X).tolist() # converting from array to list to be compatible for dataframe probability range\n",
    "\n",
    "print(f\"lenght of probas is {len(probas)}\") # probas is a list of ranges\n",
    "probas[:4]"
   ]
  },
  {
   "cell_type": "markdown",
   "id": "fc9632bf-77e6-4b61-9f16-42a5a44448f4",
   "metadata": {},
   "source": []
  },
  {
   "cell_type": "markdown",
   "id": "a920d75b-3d24-4288-a6e3-84a40c18bff0",
   "metadata": {},
   "source": [
    "## ***\"churn_groundTruth\"*** \n",
    "### Synthesized data feature selection only index and output which are custid and churn_Y renamed to y_gt)"
   ]
  },
  {
   "cell_type": "code",
   "execution_count": 29,
   "id": "b98e69aa-edae-4a3d-bbd1-daaa2c280dab",
   "metadata": {},
   "outputs": [
    {
     "data": {
      "text/html": [
       "<div>\n",
       "<style scoped>\n",
       "    .dataframe tbody tr th:only-of-type {\n",
       "        vertical-align: middle;\n",
       "    }\n",
       "\n",
       "    .dataframe tbody tr th {\n",
       "        vertical-align: top;\n",
       "    }\n",
       "\n",
       "    .dataframe thead th {\n",
       "        text-align: right;\n",
       "    }\n",
       "</style>\n",
       "<table border=\"1\" class=\"dataframe\">\n",
       "  <thead>\n",
       "    <tr style=\"text-align: right;\">\n",
       "      <th></th>\n",
       "      <th>custid</th>\n",
       "      <th>y_gt</th>\n",
       "    </tr>\n",
       "  </thead>\n",
       "  <tbody>\n",
       "    <tr>\n",
       "      <th>927</th>\n",
       "      <td>265574</td>\n",
       "      <td>0</td>\n",
       "    </tr>\n",
       "    <tr>\n",
       "      <th>2408</th>\n",
       "      <td>469912</td>\n",
       "      <td>0</td>\n",
       "    </tr>\n",
       "    <tr>\n",
       "      <th>4141</th>\n",
       "      <td>44508</td>\n",
       "      <td>0</td>\n",
       "    </tr>\n",
       "    <tr>\n",
       "      <th>4840</th>\n",
       "      <td>168393</td>\n",
       "      <td>0</td>\n",
       "    </tr>\n",
       "    <tr>\n",
       "      <th>1287</th>\n",
       "      <td>685472</td>\n",
       "      <td>0</td>\n",
       "    </tr>\n",
       "  </tbody>\n",
       "</table>\n",
       "</div>"
      ],
      "text/plain": [
       "      custid  y_gt\n",
       "927   265574     0\n",
       "2408  469912     0\n",
       "4141   44508     0\n",
       "4840  168393     0\n",
       "1287  685472     0"
      ]
     },
     "execution_count": 29,
     "metadata": {},
     "output_type": "execute_result"
    }
   ],
   "source": [
    "churn_groundTruth = pd.DataFrame(df_inf[['custid','churn_Y']]).rename(columns = {'churn_Y': 'y_gt'})\n",
    "churn_groundTruth.head()"
   ]
  },
  {
   "cell_type": "markdown",
   "id": "5d33ab5f-8666-4da2-8d66-f69b4d72d16a",
   "metadata": {},
   "source": [
    "## ***\"churn_inputs_and_preds\"***\n",
    "#### Synthesized data df_inf - output(or churn_Y) + predictions (binaries) + probas (probability range)"
   ]
  },
  {
   "cell_type": "code",
   "execution_count": 35,
   "id": "64468112-c2d1-4863-ab37-8e5c097aab11",
   "metadata": {},
   "outputs": [],
   "source": [
    "#Create data set with predictions and pred probabilities\n",
    "preds_df = pd.DataFrame(data=predictions, columns=['churn_Y'], index=churn_groundTruth.index)\n",
    "#preds_df.head()"
   ]
  },
  {
   "cell_type": "code",
   "execution_count": 36,
   "id": "bfbe8e29-f770-4c4b-afeb-b29e67403952",
   "metadata": {},
   "outputs": [],
   "source": [
    "preds_df['predictionProbability']= probas\n",
    "#preds_df.head()"
   ]
  },
  {
   "cell_type": "code",
   "execution_count": 37,
   "id": "9554d62a-5e01-4f47-97a9-d2b361d1ecb5",
   "metadata": {},
   "outputs": [],
   "source": [
    "#df_inf.head()"
   ]
  },
  {
   "cell_type": "code",
   "execution_count": 38,
   "id": "b11e27d7-7afa-46d2-8451-69134c4c234c",
   "metadata": {},
   "outputs": [],
   "source": [
    "#join prediction and prob data with input features dropping churn_Y\n",
    "churn_inputs_and_preds = df_inf.drop('churn_Y', axis =1)\\\n",
    ".join(preds_df, how = 'inner').drop_duplicates(subset = 'custid')"
   ]
  },
  {
   "cell_type": "markdown",
   "id": "9e1786b5-ccd4-47b0-a6e1-cf14696cea5b",
   "metadata": {},
   "source": [
    "#### Adding Gender feature to the churn_inputs_and_preds"
   ]
  },
  {
   "cell_type": "code",
   "execution_count": 39,
   "id": "a34a6bd2-939b-4f87-824e-be13c14cb846",
   "metadata": {},
   "outputs": [
    {
     "data": {
      "text/html": [
       "<div>\n",
       "<style scoped>\n",
       "    .dataframe tbody tr th:only-of-type {\n",
       "        vertical-align: middle;\n",
       "    }\n",
       "\n",
       "    .dataframe tbody tr th {\n",
       "        vertical-align: top;\n",
       "    }\n",
       "\n",
       "    .dataframe thead th {\n",
       "        text-align: right;\n",
       "    }\n",
       "</style>\n",
       "<table border=\"1\" class=\"dataframe\">\n",
       "  <thead>\n",
       "    <tr style=\"text-align: right;\">\n",
       "      <th></th>\n",
       "      <th>custid</th>\n",
       "      <th>dropperc</th>\n",
       "      <th>mins</th>\n",
       "      <th>consecmonths</th>\n",
       "      <th>income</th>\n",
       "      <th>age</th>\n",
       "      <th>churn_Y</th>\n",
       "      <th>predictionProbability</th>\n",
       "      <th>Gender</th>\n",
       "    </tr>\n",
       "  </thead>\n",
       "  <tbody>\n",
       "    <tr>\n",
       "      <th>33</th>\n",
       "      <td>837846</td>\n",
       "      <td>0.025594</td>\n",
       "      <td>451</td>\n",
       "      <td>34</td>\n",
       "      <td>65.2</td>\n",
       "      <td>32</td>\n",
       "      <td>0</td>\n",
       "      <td>[0.518072815536917, 0.481927184463083]</td>\n",
       "      <td>F</td>\n",
       "    </tr>\n",
       "    <tr>\n",
       "      <th>51</th>\n",
       "      <td>515869</td>\n",
       "      <td>0.013675</td>\n",
       "      <td>509</td>\n",
       "      <td>40</td>\n",
       "      <td>35.6</td>\n",
       "      <td>35</td>\n",
       "      <td>0</td>\n",
       "      <td>[0.70118509288953, 0.29881490711047004]</td>\n",
       "      <td>F</td>\n",
       "    </tr>\n",
       "    <tr>\n",
       "      <th>61</th>\n",
       "      <td>323852</td>\n",
       "      <td>0.030958</td>\n",
       "      <td>431</td>\n",
       "      <td>38</td>\n",
       "      <td>41.0</td>\n",
       "      <td>20</td>\n",
       "      <td>1</td>\n",
       "      <td>[0.499990828816656, 0.500009171183344]</td>\n",
       "      <td>M</td>\n",
       "    </tr>\n",
       "    <tr>\n",
       "      <th>63</th>\n",
       "      <td>254688</td>\n",
       "      <td>0.020693</td>\n",
       "      <td>433</td>\n",
       "      <td>52</td>\n",
       "      <td>48.8</td>\n",
       "      <td>38</td>\n",
       "      <td>0</td>\n",
       "      <td>[0.5465708614836464, 0.4534291385163536]</td>\n",
       "      <td>M</td>\n",
       "    </tr>\n",
       "    <tr>\n",
       "      <th>69</th>\n",
       "      <td>148676</td>\n",
       "      <td>0.014685</td>\n",
       "      <td>339</td>\n",
       "      <td>13</td>\n",
       "      <td>47.5</td>\n",
       "      <td>41</td>\n",
       "      <td>0</td>\n",
       "      <td>[0.7593104108625176, 0.24068958913748234]</td>\n",
       "      <td>F</td>\n",
       "    </tr>\n",
       "  </tbody>\n",
       "</table>\n",
       "</div>"
      ],
      "text/plain": [
       "    custid  dropperc  mins  consecmonths  income  age  churn_Y  \\\n",
       "33  837846  0.025594   451            34    65.2   32        0   \n",
       "51  515869  0.013675   509            40    35.6   35        0   \n",
       "61  323852  0.030958   431            38    41.0   20        1   \n",
       "63  254688  0.020693   433            52    48.8   38        0   \n",
       "69  148676  0.014685   339            13    47.5   41        0   \n",
       "\n",
       "                        predictionProbability Gender  \n",
       "33     [0.518072815536917, 0.481927184463083]      F  \n",
       "51    [0.70118509288953, 0.29881490711047004]      F  \n",
       "61     [0.499990828816656, 0.500009171183344]      M  \n",
       "63   [0.5465708614836464, 0.4534291385163536]      M  \n",
       "69  [0.7593104108625176, 0.24068958913748234]      F  "
      ]
     },
     "execution_count": 39,
     "metadata": {},
     "output_type": "execute_result"
    }
   ],
   "source": [
    "#Create 'protected class' feature to monitor for disparity in target distribution\n",
    "churn_inputs_and_preds['Gender']=np.random.randint(0,3, churn_inputs_and_preds.shape[0])\n",
    "mymap = {0:'M',1: 'F', 2: 'NB'}\n",
    "churn_inputs_and_preds['Gender'] = churn_inputs_and_preds['Gender'].apply(lambda x: mymap.get(x))\n",
    "churn_inputs_and_preds.head()"
   ]
  },
  {
   "cell_type": "markdown",
   "id": "9b47aadf-bfc4-4308-8d9f-0f50a5a67ea8",
   "metadata": {},
   "source": [
    "## Visualization (Gender vs Churn_Y (average))"
   ]
  },
  {
   "cell_type": "code",
   "execution_count": 18,
   "id": "9b331d1c-fe3d-4128-8ec8-b087e31d00ad",
   "metadata": {},
   "outputs": [
    {
     "data": {
      "image/png": "[encoded data removed]",
      "text/plain": [
       "<Figure size 864x288 with 1 Axes>"
      ]
     },
     "metadata": {
      "needs_background": "light"
     },
     "output_type": "display_data"
    }
   ],
   "source": [
    "#Add visualization of protected class for tracking purposes\n",
    "ax = sns.barplot(x = ['F', 'M', 'NB'], y = churn_inputs_and_preds.groupby('Gender').mean()['churn_Y'])\n",
    "\n",
    "ax.set_title('Churn By Gender')\n",
    "ax.set_ylabel('Proportion')\n",
    "ax.set_xlabel('Gender')\n",
    "fig = ax.get_figure()\n",
    "fig.set_size_inches(12,4)\n",
    "plt.gcf().subplots_adjust(left=0.5)\n",
    "\n",
    "#fig.savefig('/mnt/code/Viz/protected_class_monitoring.png')"
   ]
  },
  {
   "cell_type": "markdown",
   "id": "863d3a9d-d4d4-4a31-bd30-7862d76f01b2",
   "metadata": {},
   "source": [
    "## Check Pass for Writing Data ***inputs_and_preds*** & ***groundTruth***"
   ]
  },
  {
   "cell_type": "code",
   "execution_count": 19,
   "id": "49794746-8f5f-42a5-82dd-54a3a74b9a62",
   "metadata": {},
   "outputs": [
    {
     "name": "stdout",
     "output_type": "stream",
     "text": [
      "Length Check Pass: True\n",
      "ID Check Pass: True\n"
     ]
    }
   ],
   "source": [
    "## Run two checks below to validate input and GT data is of same size and contains same custIDs\n",
    "\n",
    "lenCheck = churn_inputs_and_preds.shape[0]==churn_groundTruth.shape[0]\n",
    "print('Length Check Pass:', lenCheck)\n",
    "\n",
    "idCheck= (churn_inputs_and_preds.custid.sort_values()==churn_groundTruth.custid.sort_values())\\\n",
    ".sum() ==churn_inputs_and_preds.shape[0]\n",
    "print('ID Check Pass:', idCheck)"
   ]
  },
  {
   "cell_type": "code",
   "execution_count": 40,
   "id": "f82ead28-b8aa-4fc1-b0a6-85c82e7a711c",
   "metadata": {},
   "outputs": [
    {
     "data": {
      "text/plain": [
       "(397, 9)"
      ]
     },
     "execution_count": 40,
     "metadata": {},
     "output_type": "execute_result"
    }
   ],
   "source": [
    "churn_inputs_and_preds.shape"
   ]
  },
  {
   "cell_type": "code",
   "execution_count": 41,
   "id": "c98da9fe-1c92-43e1-88a1-ab1abe4d9896",
   "metadata": {},
   "outputs": [
    {
     "data": {
      "text/plain": [
       "(397, 2)"
      ]
     },
     "execution_count": 41,
     "metadata": {},
     "output_type": "execute_result"
    }
   ],
   "source": [
    "churn_groundTruth.shape"
   ]
  },
  {
   "cell_type": "markdown",
   "id": "544c3e60-231c-476c-bd93-3d0d1cb26c78",
   "metadata": {},
   "source": [
    "## Writing Prediction and GT data locally to DailyData directory"
   ]
  },
  {
   "cell_type": "code",
   "execution_count": 42,
   "id": "57590c04-151a-410f-bf51-a5fb578ffd60",
   "metadata": {},
   "outputs": [],
   "source": [
    "# Write input and pred data to DailyData folder #\n",
    "daily_data_path = '/mnt/code/DailyData/'\n",
    "input_and_pred_path = str(daily_data_path+'inputs_and_preds_'+str(datetime.date.today())+'.csv')\n",
    "ground_truth_path = str(daily_data_path+'ground_truth_'+str(datetime.date.today())+'.csv')\n",
    "\n",
    "# saving Prediction data to csv\n",
    "churn_inputs_and_preds.to_csv(input_and_pred_path, index = False)\n",
    "\n",
    "# saving Ground Truth data to csv\n",
    "churn_groundTruth.to_csv(ground_truth_path, index = False)"
   ]
  },
  {
   "cell_type": "markdown",
   "id": "079cdf17-a611-4cd1-9c89-edad0150c987",
   "metadata": {},
   "source": [
    "## Upload the Prediction data and Ground Truth to S3 bucket"
   ]
  },
  {
   "cell_type": "code",
   "execution_count": 23,
   "id": "76623338-6525-474a-b3f0-f9e943db68f6",
   "metadata": {},
   "outputs": [],
   "source": [
    "import certs\n",
    "bucket = certs.bucket"
   ]
  },
  {
   "cell_type": "code",
   "execution_count": 24,
   "id": "197458ad-6bc6-4f5b-999a-7eaa923b1d29",
   "metadata": {},
   "outputs": [
    {
     "name": "stdout",
     "output_type": "stream",
     "text": [
      "inputs_and_preds_2022-05-05.csv Upload Successful\n",
      "ground_truth_2022-05-05.csv Upload Successful\n"
     ]
    },
    {
     "data": {
      "text/plain": [
       "True"
      ]
     },
     "execution_count": 24,
     "metadata": {},
     "output_type": "execute_result"
    }
   ],
   "source": [
    "import upload_to_s3\n",
    "#Upload input&pred data and GT data to s3 bucket \n",
    "upload_to_s3.upload(input_and_pred_path, bucket)\n",
    "upload_to_s3.upload(ground_truth_path, bucket)"
   ]
  },
  {
   "cell_type": "markdown",
   "id": "5e340b01-80d4-4c55-9106-22a060e399c7",
   "metadata": {},
   "source": [
    "# DMM Method A: Manual Prediction and GT registration"
   ]
  },
  {
   "cell_type": "markdown",
   "id": "1589f76f-edbb-4297-a93d-6112a60537b2",
   "metadata": {},
   "source": [
    "At the end of the above stage there must be at least 5 files in your Amazon S3 bucket:\n",
    "1. ChurnTrainingDataPP.csv\n",
    "2. inputs_and_preds_2021-09-16.csv\n",
    "3. ground_truth_2021-09-16.csv\n",
    "4. inputs_and_preds_xxxx-xx-xx.csv\n",
    "5. ground_truth_xxxx-xx-xx.csv"
   ]
  },
  {
   "cell_type": "markdown",
   "id": "068dbefa-6aa7-42d9-9a3d-62ad80f08c7f",
   "metadata": {},
   "source": [
    "### 1. Register the model using the following format"
   ]
  },
  {
   "cell_type": "raw",
   "id": "3d55e4e8-a11f-4ce1-b295-a342f6740635",
   "metadata": {},
   "source": [
    "{\n",
    "    \"variables\": [\n",
    "        {\n",
    "            \"name\": \"custid\",\n",
    "            \"valueType\": \"string\",\n",
    "            \"variableType\": \"row_identifier\"\n",
    "        },\n",
    "        {\n",
    "            \"name\": \"dropperc\",\n",
    "            \"valueType\": \"numerical\",\n",
    "            \"variableType\": \"feature\",\n",
    "            \"featureImportance\": 0.7\n",
    "        },\n",
    "        {\n",
    "            \"name\": \"mins\",\n",
    "            \"valueType\": \"numerical\",\n",
    "            \"variableType\": \"feature\",\n",
    "            \"featureImportance\": 0.9\n",
    "        },\n",
    "        {\n",
    "            \"name\": \"consecmonths\",\n",
    "            \"valueType\": \"numerical\",\n",
    "            \"variableType\": \"feature\",\n",
    "            \"featureImportance\": 0.1\n",
    "        },\n",
    "        {\n",
    "            \"name\": \"income\",\n",
    "            \"valueType\": \"numerical\",\n",
    "            \"variableType\": \"feature\",\n",
    "            \"featureImportance\": 0.3\n",
    "        },\n",
    "        {\n",
    "            \"name\": \"age\",\n",
    "            \"valueType\": \"numerical\",\n",
    "            \"variableType\": \"feature\",\n",
    "            \"featureImportance\": 0.5\n",
    "        },\n",
    "        {\n",
    "            \"name\": \"churn_Y\",\n",
    "            \"valueType\": \"categorical\",\n",
    "            \"variableType\": \"prediction\"\n",
    "        },\n",
    "        {\n",
    "            \"name\": \"predictionProbability\",\n",
    "            \"valueType\": \"numerical\",\n",
    "            \"variableType\": \"prediction_probability\",\n",
    "            \"forPredictionOutput\": \"churn_Y\"\n",
    "        }\n",
    "    ],\n",
    "    \"datasetDetails\": {\n",
    "        \"name\": \"ChurnTrainingDataPP.csv\",\n",
    "        \"datasetType\": \"file\",\n",
    "        \"datasetConfig\": {\n",
    "            \"path\": \"ChurnTrainingDataPP.csv\",    \n",
    "            \"fileFormat\": \"csv\"\n",
    "        },\n",
    "        \"datasourceName\": \"DMM-Classification-S3\", # Change it to yours\n",
    "        \"datasourceType\": \"s3\"\n",
    "    },\n",
    "    \"modelMetadata\": {\n",
    "        \"name\": \"customer-churn\",                  # Change it to yours\n",
    "        \"modelType\": \"classification\",\n",
    "        \"version\": \"1.0\",\n",
    "        \"description\": \"Classification model to predict customer churn\",\n",
    "        \"author\": \"Alireza Mounesi\"                # Change it to yours\n",
    "    }\n",
    "}"
   ]
  },
  {
   "cell_type": "markdown",
   "id": "2e47e080-2e61-4e31-8f01-10e1291531e7",
   "metadata": {},
   "source": [
    "### 2. Register the Prediction data"
   ]
  },
  {
   "cell_type": "raw",
   "id": "64a378ed-ac12-4942-ada4-9a3ce9439310",
   "metadata": {},
   "source": [
    "{\n",
    "\n",
    "    \"datasetDetails\": {\n",
    "        \"name\": \"inputs_and_preds_2021-09-16.csv\",\n",
    "        \"datasetType\": \"file\",\n",
    "        \"datasetConfig\": {\n",
    "            \"path\": \"inputs_and_preds_2021-09-16.csv\",\n",
    "            \"fileFormat\": \"csv\"\n",
    "        },\n",
    "        \"datasourceName\": \"DMM-Classification-S3\",      # Change it to yours\n",
    "        \"datasourceType\": \"s3\"\n",
    "    }\n",
    "}"
   ]
  },
  {
   "cell_type": "markdown",
   "id": "fd031350-9f2a-4eec-8220-a4c4223788c6",
   "metadata": {},
   "source": [
    "### 3. Register the Ground Truth data *initial registration*"
   ]
  },
  {
   "cell_type": "raw",
   "id": "18f3f04a-8bd0-48fc-a23b-8a5860173a7a",
   "metadata": {},
   "source": [
    "{\n",
    "    \"variables\": [                                 # Only first time\n",
    "        {                                          # Only first time\n",
    "            \"valueType\": \"categorical\",            # Only first time\n",
    "            \"variableType\": \"ground_truth\",        # Only first time\n",
    "            \"name\": \"y_gt\",                        # Only first time\n",
    "            \"forPredictionOutput\": \"churn_Y\"       # Only first time\n",
    "        }                                          # Only first time\n",
    "    ],                                             # Only first time\n",
    "\n",
    "    \"datasetDetails\": {\n",
    "        \"name\": \"ground_truth_2021-09-16.csv\",     # Change it to yours \n",
    "        \"datasetType\": \"file\",\n",
    "        \"datasetConfig\": {\n",
    "            \"path\": \"ground_truth_2021-09-16.csv\", # Change it to yours\n",
    "            \"fileFormat\": \"csv\"\n",
    "        },\n",
    "        \"datasourceName\": \"DMM-Classification-S3\", # Change it to yours\n",
    "        \"datasourceType\": \"s3\"\n",
    "    }\n",
    "}"
   ]
  },
  {
   "cell_type": "markdown",
   "id": "0d16603d-0510-4cc1-9e3d-ae69304dba45",
   "metadata": {},
   "source": [
    "### 4. Register the Prediction data (calculated in this notebook)"
   ]
  },
  {
   "cell_type": "raw",
   "id": "e5298c2c-e114-48db-90b3-963f22dc6740",
   "metadata": {},
   "source": [
    "{\n",
    "\n",
    "    \"datasetDetails\": {\n",
    "        \"name\": \"inputs_and_preds_2021-09-16.csv\",\n",
    "        \"datasetType\": \"file\",\n",
    "        \"datasetConfig\": {\n",
    "            \"path\": \"inputs_and_preds_2021-09-16.csv\",\n",
    "            \"fileFormat\": \"csv\"\n",
    "        },\n",
    "        \"datasourceName\": \"DMM-Classification-S3\",      # Change it to yours\n",
    "        \"datasourceType\": \"s3\"\n",
    "    }\n",
    "}"
   ]
  },
  {
   "cell_type": "markdown",
   "id": "e72bd0c0-6534-4cac-a17c-de1fafcda30c",
   "metadata": {},
   "source": [
    "### 5. Register the Ground Truth data (calculated in this notebook)"
   ]
  },
  {
   "cell_type": "raw",
   "id": "8bbf4b84-b60a-4954-9920-02253d374267",
   "metadata": {},
   "source": [
    "{\n",
    "    \"datasetDetails\": {\n",
    "        \"name\": \"ground_truth_xxxx-xx-xx.csv\",     # Change it to what calculated in this jupyter file\n",
    "        \"datasetType\": \"file\",\n",
    "        \"datasetConfig\": {\n",
    "            \"path\": \"ground_truth_xxxx-xx-xx.csv\", # Change it to what calculated in this jupyter file\n",
    "            \"fileFormat\": \"csv\"\n",
    "        },\n",
    "        \"datasourceName\": \"DMM-Classification-S3\", # Change it to yours\n",
    "        \"datasourceType\": \"s3\"\n",
    "    }\n",
    "}"
   ]
  },
  {
   "cell_type": "code",
   "execution_count": null,
   "id": "c8a37596-3324-4e20-8321-520d5277aed8",
   "metadata": {},
   "outputs": [],
   "source": []
  },
  {
   "cell_type": "markdown",
   "id": "2671bc29-1a26-4172-926b-ee368a6227ef",
   "metadata": {},
   "source": [
    "# DMM Method B: Prediction and GT registration using API endpoint\n",
    "#### demonstrating the process for step 4 and 5"
   ]
  },
  {
   "cell_type": "markdown",
   "id": "b6fa5f89-e74e-4e72-9a67-d5fd5fb93021",
   "metadata": {},
   "source": [
    "#### At this point the input-pred.csv and the ground_truth.csv are saved in S3 bucket"
   ]
  },
  {
   "cell_type": "code",
   "execution_count": null,
   "id": "4e268377-133d-4bee-a03f-1096c665d02d",
   "metadata": {},
   "outputs": [],
   "source": [
    "import requests"
   ]
  },
  {
   "cell_type": "code",
   "execution_count": null,
   "id": "463055d0-d88c-43cf-824b-b97646a2a919",
   "metadata": {},
   "outputs": [],
   "source": [
    "#import certs\n",
    "\n",
    "dmm_api_key = certs.dmm_api_key\n",
    "\n",
    "#model_id = '<dmm-model-id>'\n",
    "model_id = certs.model_id\n"
   ]
  },
  {
   "cell_type": "code",
   "execution_count": 49,
   "id": "f49184f8-3986-43b2-8510-2b9f111428b6",
   "metadata": {},
   "outputs": [
    {
     "name": "stdout",
     "output_type": "stream",
     "text": [
      " the input_file_name is: inputs_and_preds_2022-05-06.csv\n",
      " The ground_truth_file_name is: ground_truth_2022-05-06.csv\n"
     ]
    }
   ],
   "source": [
    "#Define file names for payload construction below\n",
    "inputs_file_name = str('inputs_and_preds_'+str(datetime.date.today())+'.csv')\n",
    "print(f\" the input_file_name is: {inputs_file_name}\")\n",
    "\n",
    "ground_truth_file_name = str('ground_truth_'+str(datetime.date.today())+'.csv')\n",
    "print(f\" The ground_truth_file_name is: {ground_truth_file_name}\")"
   ]
  },
  {
   "cell_type": "code",
   "execution_count": null,
   "id": "9f36d096-ea91-41d4-b1a3-a872f086927f",
   "metadata": {},
   "outputs": [],
   "source": [
    "#Define api endpoint # Adding dmm model ID\n",
    "inputs_url = \"https://demo.dominodatalab.com/model-monitor/v2/api/model/{}/register-dataset/prediction\".format(model_id)"
   ]
  },
  {
   "cell_type": "code",
   "execution_count": null,
   "id": "8a759cf6-85fe-4705-a15e-69d2d8b229df",
   "metadata": {},
   "outputs": [],
   "source": [
    "inputs_file_name"
   ]
  },
  {
   "cell_type": "code",
   "execution_count": null,
   "id": "d8eddaf5-ea61-4ad6-b29a-e910d4edaed1",
   "metadata": {},
   "outputs": [],
   "source": [
    "#Create inputs and prediction data payload\n",
    "inputs_payload = \"\"\"\n",
    "{{\n",
    "\"datasetDetails\": {{\n",
    "        \"name\": \"{0}\",\n",
    "        \"datasetType\": \"file\",\n",
    "        \"datasetConfig\": {{\n",
    "            \"path\": \"{0}\",\n",
    "            \"fileFormat\": \"csv\"\n",
    "        }},\n",
    "        \"datasourceName\": \"churn-dmm-46\",\n",
    "        \"datasourceType\": \"s3\"\n",
    "    }}\n",
    "}}\n",
    "\"\"\".format(inputs_file_name)"
   ]
  },
  {
   "cell_type": "code",
   "execution_count": null,
   "id": "e6c5363b-6ac5-4f09-9ce9-4380cadd312c",
   "metadata": {},
   "outputs": [],
   "source": [
    "#Set up call headers  # Adding dmm_api_key\n",
    "headers = {\n",
    "           'X-DMM-API-KEY': dmm_api_key,\n",
    "           'Content-Type': 'application/json'\n",
    "          }"
   ]
  },
  {
   "cell_type": "code",
   "execution_count": null,
   "id": "7757d699-5ba0-4055-9c97-5f38db98df9c",
   "metadata": {},
   "outputs": [],
   "source": [
    "#Make API call # importing requests\n",
    "inputs_response = requests.request(\"PUT\", inputs_url, headers=headers, data = inputs_payload)"
   ]
  },
  {
   "cell_type": "code",
   "execution_count": null,
   "id": "aaf4cf08-adb8-4c30-bb34-12fa0d26c45d",
   "metadata": {},
   "outputs": [],
   "source": [
    "#create GT payload    \n",
    "ground_truth_payload = \"\"\"\n",
    "{{\n",
    "\n",
    "\"datasetDetails\": {{\n",
    "        \"name\": \"{0}\",\n",
    "        \"datasetType\": \"file\",\n",
    "        \"datasetConfig\": {{\n",
    "            \"path\": \"{0}\",\n",
    "            \"fileFormat\": \"csv\"\n",
    "        }},\n",
    "        \"datasourceName\": \"churn-dmm-46\",\n",
    "        \"datasourceType\": \"s3\"\n",
    "    }}\n",
    "}}\n",
    "\"\"\".format(ground_truth_file_name)"
   ]
  },
  {
   "cell_type": "code",
   "execution_count": null,
   "id": "c2133137-5899-4abe-9df6-f8bb654deb52",
   "metadata": {},
   "outputs": [],
   "source": [
    "#Define api endpoint\n",
    "ground_truth_url = \"https://demo.dominodatalab.com/model-monitor/v2/api/model/{}/register-dataset/ground_truth\".format(model_id)"
   ]
  },
  {
   "cell_type": "code",
   "execution_count": null,
   "id": "3e2ccdb3-7502-433a-8800-f0352c5a858e",
   "metadata": {},
   "outputs": [],
   "source": [
    "#Make api call\n",
    "ground_truth_response = requests.request(\"PUT\", ground_truth_url, headers=headers, data = ground_truth_payload)"
   ]
  },
  {
   "cell_type": "code",
   "execution_count": null,
   "id": "17d093da-3232-4ed6-af67-13d9b0c6a890",
   "metadata": {},
   "outputs": [],
   "source": [
    "#Print response\n",
    "print(ground_truth_response.text.encode('utf8'))"
   ]
  }
 ],
 "metadata": {
  "kernelspec": {
   "display_name": "Python 3 (ipykernel)",
   "language": "python",
   "name": "python3"
  },
  "language_info": {
   "codemirror_mode": {
    "name": "ipython",
    "version": 3
   },
   "file_extension": ".py",
   "mimetype": "text/x-python",
   "name": "python",
   "nbconvert_exporter": "python",
   "pygments_lexer": "ipython3",
   "version": "3.8.12"
  }
 },
 "nbformat": 4,
 "nbformat_minor": 5
}
