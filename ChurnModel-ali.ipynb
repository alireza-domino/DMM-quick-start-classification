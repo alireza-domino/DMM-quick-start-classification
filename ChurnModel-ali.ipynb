{
 "cells": [
  {
   "cell_type": "code",
   "execution_count": 1,
   "id": "d0fd14bf-cc44-4755-99b6-82e6226f1e3b",
   "metadata": {},
   "outputs": [],
   "source": [
    "import os\n",
    "import pandas as pd\n",
    "import numpy as np\n",
    "import random\n",
    "import pickle\n",
    "import datetime\n",
    "import seaborn as sns\n",
    "import matplotlib.pyplot as plt\n",
    "\n",
    "import requests"
   ]
  },
  {
   "cell_type": "code",
   "execution_count": 2,
   "id": "901f0ea6-4a70-48b2-a2be-e401a5502488",
   "metadata": {},
   "outputs": [],
   "source": [
    "import certs\n",
    "\n",
    "#bucket = '<s3-bucket-name>'\n",
    "bucket = certs.bucket\n",
    "\n",
    "#model_id = '<dmm-model-id>'\n",
    "#model_id = certs.model_id"
   ]
  },
  {
   "cell_type": "code",
   "execution_count": 3,
   "id": "653785cf-6123-48d3-83ce-0e08d3d5179e",
   "metadata": {},
   "outputs": [],
   "source": [
    "#daily_data_path = '/mnt/data/CustomerChurn46/DailyData/'\n",
    "\n",
    "#dmm_api_key = os.environ.get('DMM_API_TOKEN')\n",
    "#dmm_api_key = certs.dmm_api_key\n",
    "\n",
    "#print(dmm_api_key)"
   ]
  },
  {
   "cell_type": "code",
   "execution_count": 4,
   "id": "a3c4473a-ead2-4a6d-9f56-5e48e3e9193e",
   "metadata": {},
   "outputs": [
    {
     "name": "stdout",
     "output_type": "stream",
     "text": [
      "(7939, 7)\n"
     ]
    },
    {
     "data": {
      "text/html": [
       "<div>\n",
       "<style scoped>\n",
       "    .dataframe tbody tr th:only-of-type {\n",
       "        vertical-align: middle;\n",
       "    }\n",
       "\n",
       "    .dataframe tbody tr th {\n",
       "        vertical-align: top;\n",
       "    }\n",
       "\n",
       "    .dataframe thead th {\n",
       "        text-align: right;\n",
       "    }\n",
       "</style>\n",
       "<table border=\"1\" class=\"dataframe\">\n",
       "  <thead>\n",
       "    <tr style=\"text-align: right;\">\n",
       "      <th></th>\n",
       "      <th>custid</th>\n",
       "      <th>dropperc</th>\n",
       "      <th>mins</th>\n",
       "      <th>consecmonths</th>\n",
       "      <th>income</th>\n",
       "      <th>age</th>\n",
       "      <th>churn_Y</th>\n",
       "    </tr>\n",
       "  </thead>\n",
       "  <tbody>\n",
       "    <tr>\n",
       "      <th>0</th>\n",
       "      <td>844336</td>\n",
       "      <td>0.016364</td>\n",
       "      <td>550</td>\n",
       "      <td>28</td>\n",
       "      <td>89.2</td>\n",
       "      <td>45</td>\n",
       "      <td>0</td>\n",
       "    </tr>\n",
       "    <tr>\n",
       "      <th>1</th>\n",
       "      <td>146041</td>\n",
       "      <td>0.018349</td>\n",
       "      <td>545</td>\n",
       "      <td>33</td>\n",
       "      <td>54.2</td>\n",
       "      <td>43</td>\n",
       "      <td>0</td>\n",
       "    </tr>\n",
       "    <tr>\n",
       "      <th>2</th>\n",
       "      <td>847745</td>\n",
       "      <td>0.018519</td>\n",
       "      <td>378</td>\n",
       "      <td>41</td>\n",
       "      <td>55.3</td>\n",
       "      <td>41</td>\n",
       "      <td>0</td>\n",
       "    </tr>\n",
       "    <tr>\n",
       "      <th>3</th>\n",
       "      <td>285565</td>\n",
       "      <td>0.014493</td>\n",
       "      <td>552</td>\n",
       "      <td>32</td>\n",
       "      <td>66.8</td>\n",
       "      <td>31</td>\n",
       "      <td>0</td>\n",
       "    </tr>\n",
       "    <tr>\n",
       "      <th>4</th>\n",
       "      <td>754611</td>\n",
       "      <td>0.012132</td>\n",
       "      <td>577</td>\n",
       "      <td>4</td>\n",
       "      <td>87.2</td>\n",
       "      <td>43</td>\n",
       "      <td>0</td>\n",
       "    </tr>\n",
       "  </tbody>\n",
       "</table>\n",
       "</div>"
      ],
      "text/plain": [
       "   custid  dropperc  mins  consecmonths  income  age  churn_Y\n",
       "0  844336  0.016364   550            28    89.2   45        0\n",
       "1  146041  0.018349   545            33    54.2   43        0\n",
       "2  847745  0.018519   378            41    55.3   41        0\n",
       "3  285565  0.014493   552            32    66.8   31        0\n",
       "4  754611  0.012132   577             4    87.2   43        0"
      ]
     },
     "execution_count": 4,
     "metadata": {},
     "output_type": "execute_result"
    }
   ],
   "source": [
    "#Bring in data used to train pickled model that is loaded in later\n",
    "df = pd.read_csv('/mnt/code/Test&TrainData/ChurnTrainingDataPP.csv')\n",
    "df.drop('predictionProbability', axis =1,inplace = True)\n",
    "print(df.shape)\n",
    "df.head()"
   ]
  },
  {
   "cell_type": "code",
   "execution_count": 5,
   "id": "0bac4eac-e64e-40d3-be60-0ac12f5f9265",
   "metadata": {},
   "outputs": [],
   "source": [
    "#append data to istelf to double volume\n",
    "df2 = df.append(df)"
   ]
  },
  {
   "cell_type": "code",
   "execution_count": 6,
   "id": "e55e03e1-1912-4277-8927-e4be35763095",
   "metadata": {},
   "outputs": [],
   "source": [
    "#Reset custid field so that there are no repeats\n",
    "df2['custid'] = np.random.choice(range(df.custid.min(), df.custid.max()),df2.shape[0], replace=False)"
   ]
  },
  {
   "cell_type": "code",
   "execution_count": 7,
   "id": "42892713-7770-402b-be93-3ec622566e97",
   "metadata": {},
   "outputs": [],
   "source": [
    "##For each input feature adjust data and round/cast as necessary\n",
    "#dropperc - 50%-150%\n",
    "droppJitter = df2.dropperc.apply(lambda x : x*(random.randrange(50,150))/100)\n",
    "#mins - 70%-130%\n",
    "minsJitter = df2.mins.apply(lambda x : x*(random.randrange(70,130)/100)).round(0).astype(int)\n",
    "#consecMonths - 80%-120%\n",
    "consecMonthsJitter = df2.consecmonths.apply(lambda x : x*(random.randrange(80,120)/100)).round(0).astype(int)\n",
    "#Income - 40%-160%\n",
    "incomeJitter = df2.income.apply(lambda x : x*(random.randrange(40,160)/100)).round(1)\n",
    "#age - 90%-110%\n",
    "ageJitter = df2.age.apply(lambda x : x*(random.randrange(90,110)/100)).round(0).astype(int)\n"
   ]
  },
  {
   "cell_type": "code",
   "execution_count": 8,
   "id": "48cec2c7-4d95-444b-9573-015dae2f6312",
   "metadata": {},
   "outputs": [],
   "source": [
    "#Take all the new 'jittered' variables and write to a new df\n",
    "#Keep original custid and churn_Y fields\n",
    "df3 = pd.DataFrame({'custid': df2.custid,\n",
    "       'dropperc': droppJitter, \n",
    "       'mins': minsJitter,\n",
    "       'consecmonths': consecMonthsJitter,\n",
    "       'income': incomeJitter,\n",
    "       'age': ageJitter,\n",
    "       'churn_Y': df2.churn_Y\n",
    "                   })"
   ]
  },
  {
   "cell_type": "code",
   "execution_count": 9,
   "id": "201a84f1-e34d-4dd4-af3c-ba8f4769f0e6",
   "metadata": {},
   "outputs": [
    {
     "data": {
      "text/html": [
       "<div>\n",
       "<style scoped>\n",
       "    .dataframe tbody tr th:only-of-type {\n",
       "        vertical-align: middle;\n",
       "    }\n",
       "\n",
       "    .dataframe tbody tr th {\n",
       "        vertical-align: top;\n",
       "    }\n",
       "\n",
       "    .dataframe thead th {\n",
       "        text-align: right;\n",
       "    }\n",
       "</style>\n",
       "<table border=\"1\" class=\"dataframe\">\n",
       "  <thead>\n",
       "    <tr style=\"text-align: right;\">\n",
       "      <th></th>\n",
       "      <th>custid</th>\n",
       "      <th>dropperc</th>\n",
       "      <th>mins</th>\n",
       "      <th>consecmonths</th>\n",
       "      <th>income</th>\n",
       "      <th>age</th>\n",
       "      <th>churn_Y</th>\n",
       "    </tr>\n",
       "  </thead>\n",
       "  <tbody>\n",
       "    <tr>\n",
       "      <th>0</th>\n",
       "      <td>53853</td>\n",
       "      <td>0.015709</td>\n",
       "      <td>654</td>\n",
       "      <td>30</td>\n",
       "      <td>51.7</td>\n",
       "      <td>41</td>\n",
       "      <td>0</td>\n",
       "    </tr>\n",
       "    <tr>\n",
       "      <th>1</th>\n",
       "      <td>200757</td>\n",
       "      <td>0.027156</td>\n",
       "      <td>474</td>\n",
       "      <td>36</td>\n",
       "      <td>62.3</td>\n",
       "      <td>46</td>\n",
       "      <td>0</td>\n",
       "    </tr>\n",
       "    <tr>\n",
       "      <th>2</th>\n",
       "      <td>111577</td>\n",
       "      <td>0.023889</td>\n",
       "      <td>465</td>\n",
       "      <td>36</td>\n",
       "      <td>62.5</td>\n",
       "      <td>37</td>\n",
       "      <td>0</td>\n",
       "    </tr>\n",
       "    <tr>\n",
       "      <th>3</th>\n",
       "      <td>737469</td>\n",
       "      <td>0.011014</td>\n",
       "      <td>513</td>\n",
       "      <td>36</td>\n",
       "      <td>76.2</td>\n",
       "      <td>30</td>\n",
       "      <td>0</td>\n",
       "    </tr>\n",
       "    <tr>\n",
       "      <th>4</th>\n",
       "      <td>64001</td>\n",
       "      <td>0.010919</td>\n",
       "      <td>594</td>\n",
       "      <td>3</td>\n",
       "      <td>54.9</td>\n",
       "      <td>44</td>\n",
       "      <td>0</td>\n",
       "    </tr>\n",
       "  </tbody>\n",
       "</table>\n",
       "</div>"
      ],
      "text/plain": [
       "   custid  dropperc  mins  consecmonths  income  age  churn_Y\n",
       "0   53853  0.015709   654            30    51.7   41        0\n",
       "1  200757  0.027156   474            36    62.3   46        0\n",
       "2  111577  0.023889   465            36    62.5   37        0\n",
       "3  737469  0.011014   513            36    76.2   30        0\n",
       "4   64001  0.010919   594             3    54.9   44        0"
      ]
     },
     "execution_count": 9,
     "metadata": {},
     "output_type": "execute_result"
    }
   ],
   "source": [
    "df3.head()"
   ]
  },
  {
   "cell_type": "code",
   "execution_count": 10,
   "id": "948141f0-b4d9-4bc2-966e-51a04def9167",
   "metadata": {},
   "outputs": [
    {
     "name": "stdout",
     "output_type": "stream",
     "text": [
      "Correlations between original and altered vars -\n",
      "custid: 1.0\n",
      "dropperc: 0.7306\n",
      "mins: 0.7403\n",
      "consecmonths: 0.9299\n",
      "income: 0.6182\n",
      "age: 0.9691\n",
      "churn_Y: 1.0\n"
     ]
    }
   ],
   "source": [
    "#Understand correlations between new jittered data and original\n",
    "#Should see larger data drift for lower correlations\n",
    "concatset = pd.concat([df2,df3], axis =1)\n",
    "concatset.columns=(list(df2.columns)+list('Jittered_'+df3.columns))\n",
    "print('Correlations between original and altered vars -')\n",
    "for i,k in enumerate(df2.columns):\n",
    "    print('{}: {}'.format(k, concatset.corr()[k]['Jittered_'+k].round(4)))\n"
   ]
  },
  {
   "cell_type": "code",
   "execution_count": 11,
   "id": "a2a2f037-7b1b-4a1b-b3db-5c07f07813d1",
   "metadata": {},
   "outputs": [
    {
     "name": "stderr",
     "output_type": "stream",
     "text": [
      "/opt/conda/lib/python3.8/site-packages/sklearn/base.py:329: UserWarning: Trying to unpickle estimator DecisionTreeClassifier from version 0.22.2 when using version 1.0.2. This might lead to breaking code or invalid results. Use at your own risk. For more info please refer to:\n",
      "https://scikit-learn.org/stable/modules/model_persistence.html#security-maintainability-limitations\n",
      "  warnings.warn(\n",
      "/opt/conda/lib/python3.8/site-packages/sklearn/base.py:329: UserWarning: Trying to unpickle estimator AdaBoostClassifier from version 0.22.2 when using version 1.0.2. This might lead to breaking code or invalid results. Use at your own risk. For more info please refer to:\n",
      "https://scikit-learn.org/stable/modules/model_persistence.html#security-maintainability-limitations\n",
      "  warnings.warn(\n"
     ]
    }
   ],
   "source": [
    "#Load in trained model object    \n",
    "loaded_model = pickle.load(open('/mnt/code/models/ChurnBinaryClassifier.pkl', 'rb'))"
   ]
  },
  {
   "cell_type": "code",
   "execution_count": 12,
   "id": "eede2ca9-0a9b-4701-b318-c6598959d7df",
   "metadata": {},
   "outputs": [
    {
     "name": "stdout",
     "output_type": "stream",
     "text": [
      "293 records selected for sample\n"
     ]
    },
    {
     "data": {
      "text/html": [
       "<div>\n",
       "<style scoped>\n",
       "    .dataframe tbody tr th:only-of-type {\n",
       "        vertical-align: middle;\n",
       "    }\n",
       "\n",
       "    .dataframe tbody tr th {\n",
       "        vertical-align: top;\n",
       "    }\n",
       "\n",
       "    .dataframe thead th {\n",
       "        text-align: right;\n",
       "    }\n",
       "</style>\n",
       "<table border=\"1\" class=\"dataframe\">\n",
       "  <thead>\n",
       "    <tr style=\"text-align: right;\">\n",
       "      <th></th>\n",
       "      <th>custid</th>\n",
       "      <th>dropperc</th>\n",
       "      <th>mins</th>\n",
       "      <th>consecmonths</th>\n",
       "      <th>income</th>\n",
       "      <th>age</th>\n",
       "      <th>churn_Y</th>\n",
       "    </tr>\n",
       "  </thead>\n",
       "  <tbody>\n",
       "    <tr>\n",
       "      <th>3755</th>\n",
       "      <td>774351</td>\n",
       "      <td>0.021010</td>\n",
       "      <td>402</td>\n",
       "      <td>36</td>\n",
       "      <td>75.6</td>\n",
       "      <td>47</td>\n",
       "      <td>0</td>\n",
       "    </tr>\n",
       "    <tr>\n",
       "      <th>1834</th>\n",
       "      <td>438674</td>\n",
       "      <td>0.019779</td>\n",
       "      <td>429</td>\n",
       "      <td>21</td>\n",
       "      <td>112.4</td>\n",
       "      <td>52</td>\n",
       "      <td>0</td>\n",
       "    </tr>\n",
       "    <tr>\n",
       "      <th>4120</th>\n",
       "      <td>784330</td>\n",
       "      <td>0.018610</td>\n",
       "      <td>698</td>\n",
       "      <td>20</td>\n",
       "      <td>50.0</td>\n",
       "      <td>47</td>\n",
       "      <td>0</td>\n",
       "    </tr>\n",
       "    <tr>\n",
       "      <th>7909</th>\n",
       "      <td>565895</td>\n",
       "      <td>0.018765</td>\n",
       "      <td>617</td>\n",
       "      <td>40</td>\n",
       "      <td>111.3</td>\n",
       "      <td>55</td>\n",
       "      <td>0</td>\n",
       "    </tr>\n",
       "    <tr>\n",
       "      <th>1223</th>\n",
       "      <td>913310</td>\n",
       "      <td>0.034198</td>\n",
       "      <td>530</td>\n",
       "      <td>12</td>\n",
       "      <td>46.1</td>\n",
       "      <td>40</td>\n",
       "      <td>0</td>\n",
       "    </tr>\n",
       "  </tbody>\n",
       "</table>\n",
       "</div>"
      ],
      "text/plain": [
       "      custid  dropperc  mins  consecmonths  income  age  churn_Y\n",
       "3755  774351  0.021010   402            36    75.6   47        0\n",
       "1834  438674  0.019779   429            21   112.4   52        0\n",
       "4120  784330  0.018610   698            20    50.0   47        0\n",
       "7909  565895  0.018765   617            40   111.3   55        0\n",
       "1223  913310  0.034198   530            12    46.1   40        0"
      ]
     },
     "execution_count": 12,
     "metadata": {},
     "output_type": "execute_result"
    }
   ],
   "source": [
    "#Grab between 100 and 500 random rows from jittered data\n",
    "df_inf = df3.sample(n = random.randint(100,500))\n",
    "print(df_inf.shape[0], \"records selected for sample\")\n",
    "df_inf.head()"
   ]
  },
  {
   "cell_type": "code",
   "execution_count": 13,
   "id": "a29b4f6d-bf9f-4f26-b3eb-20658cd6b0b5",
   "metadata": {},
   "outputs": [
    {
     "name": "stdout",
     "output_type": "stream",
     "text": [
      "shape of X is (293, 5)\n"
     ]
    },
    {
     "data": {
      "text/html": [
       "<div>\n",
       "<style scoped>\n",
       "    .dataframe tbody tr th:only-of-type {\n",
       "        vertical-align: middle;\n",
       "    }\n",
       "\n",
       "    .dataframe tbody tr th {\n",
       "        vertical-align: top;\n",
       "    }\n",
       "\n",
       "    .dataframe thead th {\n",
       "        text-align: right;\n",
       "    }\n",
       "</style>\n",
       "<table border=\"1\" class=\"dataframe\">\n",
       "  <thead>\n",
       "    <tr style=\"text-align: right;\">\n",
       "      <th></th>\n",
       "      <th>dropperc</th>\n",
       "      <th>mins</th>\n",
       "      <th>consecmonths</th>\n",
       "      <th>income</th>\n",
       "      <th>age</th>\n",
       "    </tr>\n",
       "  </thead>\n",
       "  <tbody>\n",
       "    <tr>\n",
       "      <th>3755</th>\n",
       "      <td>0.021010</td>\n",
       "      <td>402</td>\n",
       "      <td>36</td>\n",
       "      <td>75.6</td>\n",
       "      <td>47</td>\n",
       "    </tr>\n",
       "    <tr>\n",
       "      <th>1834</th>\n",
       "      <td>0.019779</td>\n",
       "      <td>429</td>\n",
       "      <td>21</td>\n",
       "      <td>112.4</td>\n",
       "      <td>52</td>\n",
       "    </tr>\n",
       "    <tr>\n",
       "      <th>4120</th>\n",
       "      <td>0.018610</td>\n",
       "      <td>698</td>\n",
       "      <td>20</td>\n",
       "      <td>50.0</td>\n",
       "      <td>47</td>\n",
       "    </tr>\n",
       "    <tr>\n",
       "      <th>7909</th>\n",
       "      <td>0.018765</td>\n",
       "      <td>617</td>\n",
       "      <td>40</td>\n",
       "      <td>111.3</td>\n",
       "      <td>55</td>\n",
       "    </tr>\n",
       "    <tr>\n",
       "      <th>1223</th>\n",
       "      <td>0.034198</td>\n",
       "      <td>530</td>\n",
       "      <td>12</td>\n",
       "      <td>46.1</td>\n",
       "      <td>40</td>\n",
       "    </tr>\n",
       "  </tbody>\n",
       "</table>\n",
       "</div>"
      ],
      "text/plain": [
       "      dropperc  mins  consecmonths  income  age\n",
       "3755  0.021010   402            36    75.6   47\n",
       "1834  0.019779   429            21   112.4   52\n",
       "4120  0.018610   698            20    50.0   47\n",
       "7909  0.018765   617            40   111.3   55\n",
       "1223  0.034198   530            12    46.1   40"
      ]
     },
     "execution_count": 13,
     "metadata": {},
     "output_type": "execute_result"
    }
   ],
   "source": [
    "#Save input features\n",
    "X = df_inf.loc[:, 'dropperc':'age']\n",
    "print(f\"shape of X is {X.shape}\")\n",
    "X.head()"
   ]
  },
  {
   "cell_type": "code",
   "execution_count": 14,
   "id": "97da2edc-97ad-4857-b348-cb3ad5683052",
   "metadata": {},
   "outputs": [
    {
     "name": "stdout",
     "output_type": "stream",
     "text": [
      "lenght of probas is 293\n"
     ]
    },
    {
     "name": "stderr",
     "output_type": "stream",
     "text": [
      "/opt/conda/lib/python3.8/site-packages/sklearn/base.py:443: UserWarning: X has feature names, but AdaBoostClassifier was fitted without feature names\n",
      "  warnings.warn(\n",
      "/opt/conda/lib/python3.8/site-packages/sklearn/base.py:443: UserWarning: X has feature names, but AdaBoostClassifier was fitted without feature names\n",
      "  warnings.warn(\n"
     ]
    },
    {
     "data": {
      "text/plain": [
       "[[0.5393561017590117, 0.4606438982409882],\n",
       " [0.5915810704662712, 0.4084189295337289],\n",
       " [0.7601891661721021, 0.23981083382789795],\n",
       " [0.5465650051484342, 0.45343499485156574]]"
      ]
     },
     "execution_count": 14,
     "metadata": {},
     "output_type": "execute_result"
    }
   ],
   "source": [
    "#Get model predictions for the sample of input features defined above\n",
    "predictions = loaded_model.predict(X)\n",
    "#Get model prediction probabilities for the sample of input features defined above\n",
    "probas = loaded_model.predict_proba(X).tolist() # I added tolist here\n",
    "print(f\"lenght of probas is {len(probas)}\")\n",
    "probas[:4]"
   ]
  },
  {
   "cell_type": "code",
   "execution_count": 15,
   "id": "d9d747ac-7bb8-4276-afc2-62356a7e3891",
   "metadata": {},
   "outputs": [
    {
     "data": {
      "text/html": [
       "<div>\n",
       "<style scoped>\n",
       "    .dataframe tbody tr th:only-of-type {\n",
       "        vertical-align: middle;\n",
       "    }\n",
       "\n",
       "    .dataframe tbody tr th {\n",
       "        vertical-align: top;\n",
       "    }\n",
       "\n",
       "    .dataframe thead th {\n",
       "        text-align: right;\n",
       "    }\n",
       "</style>\n",
       "<table border=\"1\" class=\"dataframe\">\n",
       "  <thead>\n",
       "    <tr style=\"text-align: right;\">\n",
       "      <th></th>\n",
       "      <th>custid</th>\n",
       "      <th>dropperc</th>\n",
       "      <th>mins</th>\n",
       "      <th>consecmonths</th>\n",
       "      <th>income</th>\n",
       "      <th>age</th>\n",
       "      <th>churn_Y</th>\n",
       "    </tr>\n",
       "  </thead>\n",
       "  <tbody>\n",
       "    <tr>\n",
       "      <th>3755</th>\n",
       "      <td>774351</td>\n",
       "      <td>0.021010</td>\n",
       "      <td>402</td>\n",
       "      <td>36</td>\n",
       "      <td>75.6</td>\n",
       "      <td>47</td>\n",
       "      <td>0</td>\n",
       "    </tr>\n",
       "    <tr>\n",
       "      <th>1834</th>\n",
       "      <td>438674</td>\n",
       "      <td>0.019779</td>\n",
       "      <td>429</td>\n",
       "      <td>21</td>\n",
       "      <td>112.4</td>\n",
       "      <td>52</td>\n",
       "      <td>0</td>\n",
       "    </tr>\n",
       "    <tr>\n",
       "      <th>4120</th>\n",
       "      <td>784330</td>\n",
       "      <td>0.018610</td>\n",
       "      <td>698</td>\n",
       "      <td>20</td>\n",
       "      <td>50.0</td>\n",
       "      <td>47</td>\n",
       "      <td>0</td>\n",
       "    </tr>\n",
       "    <tr>\n",
       "      <th>7909</th>\n",
       "      <td>565895</td>\n",
       "      <td>0.018765</td>\n",
       "      <td>617</td>\n",
       "      <td>40</td>\n",
       "      <td>111.3</td>\n",
       "      <td>55</td>\n",
       "      <td>0</td>\n",
       "    </tr>\n",
       "    <tr>\n",
       "      <th>1223</th>\n",
       "      <td>913310</td>\n",
       "      <td>0.034198</td>\n",
       "      <td>530</td>\n",
       "      <td>12</td>\n",
       "      <td>46.1</td>\n",
       "      <td>40</td>\n",
       "      <td>0</td>\n",
       "    </tr>\n",
       "  </tbody>\n",
       "</table>\n",
       "</div>"
      ],
      "text/plain": [
       "      custid  dropperc  mins  consecmonths  income  age  churn_Y\n",
       "3755  774351  0.021010   402            36    75.6   47        0\n",
       "1834  438674  0.019779   429            21   112.4   52        0\n",
       "4120  784330  0.018610   698            20    50.0   47        0\n",
       "7909  565895  0.018765   617            40   111.3   55        0\n",
       "1223  913310  0.034198   530            12    46.1   40        0"
      ]
     },
     "execution_count": 15,
     "metadata": {},
     "output_type": "execute_result"
    }
   ],
   "source": [
    "df_inf.head()"
   ]
  },
  {
   "cell_type": "code",
   "execution_count": 16,
   "id": "b98e69aa-edae-4a3d-bbd1-daaa2c280dab",
   "metadata": {},
   "outputs": [
    {
     "data": {
      "text/html": [
       "<div>\n",
       "<style scoped>\n",
       "    .dataframe tbody tr th:only-of-type {\n",
       "        vertical-align: middle;\n",
       "    }\n",
       "\n",
       "    .dataframe tbody tr th {\n",
       "        vertical-align: top;\n",
       "    }\n",
       "\n",
       "    .dataframe thead th {\n",
       "        text-align: right;\n",
       "    }\n",
       "</style>\n",
       "<table border=\"1\" class=\"dataframe\">\n",
       "  <thead>\n",
       "    <tr style=\"text-align: right;\">\n",
       "      <th></th>\n",
       "      <th>custid</th>\n",
       "      <th>y_gt</th>\n",
       "    </tr>\n",
       "  </thead>\n",
       "  <tbody>\n",
       "    <tr>\n",
       "      <th>3755</th>\n",
       "      <td>774351</td>\n",
       "      <td>0</td>\n",
       "    </tr>\n",
       "    <tr>\n",
       "      <th>1834</th>\n",
       "      <td>438674</td>\n",
       "      <td>0</td>\n",
       "    </tr>\n",
       "    <tr>\n",
       "      <th>4120</th>\n",
       "      <td>784330</td>\n",
       "      <td>0</td>\n",
       "    </tr>\n",
       "    <tr>\n",
       "      <th>7909</th>\n",
       "      <td>565895</td>\n",
       "      <td>0</td>\n",
       "    </tr>\n",
       "    <tr>\n",
       "      <th>1223</th>\n",
       "      <td>913310</td>\n",
       "      <td>0</td>\n",
       "    </tr>\n",
       "  </tbody>\n",
       "</table>\n",
       "</div>"
      ],
      "text/plain": [
       "      custid  y_gt\n",
       "3755  774351     0\n",
       "1834  438674     0\n",
       "4120  784330     0\n",
       "7909  565895     0\n",
       "1223  913310     0"
      ]
     },
     "execution_count": 16,
     "metadata": {},
     "output_type": "execute_result"
    }
   ],
   "source": [
    "#write ground truth data out\n",
    "churn_groundTruth = pd.DataFrame(df_inf[['custid','churn_Y']]).rename(columns = {'churn_Y': 'y_gt'})\n",
    "churn_groundTruth.head()"
   ]
  },
  {
   "cell_type": "code",
   "execution_count": 17,
   "id": "64468112-c2d1-4863-ab37-8e5c097aab11",
   "metadata": {},
   "outputs": [
    {
     "data": {
      "text/html": [
       "<div>\n",
       "<style scoped>\n",
       "    .dataframe tbody tr th:only-of-type {\n",
       "        vertical-align: middle;\n",
       "    }\n",
       "\n",
       "    .dataframe tbody tr th {\n",
       "        vertical-align: top;\n",
       "    }\n",
       "\n",
       "    .dataframe thead th {\n",
       "        text-align: right;\n",
       "    }\n",
       "</style>\n",
       "<table border=\"1\" class=\"dataframe\">\n",
       "  <thead>\n",
       "    <tr style=\"text-align: right;\">\n",
       "      <th></th>\n",
       "      <th>churn_Y</th>\n",
       "      <th>predictionProbability</th>\n",
       "    </tr>\n",
       "  </thead>\n",
       "  <tbody>\n",
       "    <tr>\n",
       "      <th>3755</th>\n",
       "      <td>0</td>\n",
       "      <td>[0.5393561017590117, 0.4606438982409882]</td>\n",
       "    </tr>\n",
       "    <tr>\n",
       "      <th>1834</th>\n",
       "      <td>0</td>\n",
       "      <td>[0.5915810704662712, 0.4084189295337289]</td>\n",
       "    </tr>\n",
       "    <tr>\n",
       "      <th>4120</th>\n",
       "      <td>0</td>\n",
       "      <td>[0.7601891661721021, 0.23981083382789795]</td>\n",
       "    </tr>\n",
       "    <tr>\n",
       "      <th>7909</th>\n",
       "      <td>0</td>\n",
       "      <td>[0.5465650051484342, 0.45343499485156574]</td>\n",
       "    </tr>\n",
       "    <tr>\n",
       "      <th>1223</th>\n",
       "      <td>0</td>\n",
       "      <td>[0.6997601531901843, 0.30023984680981575]</td>\n",
       "    </tr>\n",
       "    <tr>\n",
       "      <th>...</th>\n",
       "      <td>...</td>\n",
       "      <td>...</td>\n",
       "    </tr>\n",
       "    <tr>\n",
       "      <th>2094</th>\n",
       "      <td>0</td>\n",
       "      <td>[0.5726431413805482, 0.4273568586194519]</td>\n",
       "    </tr>\n",
       "    <tr>\n",
       "      <th>2369</th>\n",
       "      <td>0</td>\n",
       "      <td>[0.5665763456701025, 0.4334236543298976]</td>\n",
       "    </tr>\n",
       "    <tr>\n",
       "      <th>2729</th>\n",
       "      <td>0</td>\n",
       "      <td>[0.5765740711792867, 0.42342592882071317]</td>\n",
       "    </tr>\n",
       "    <tr>\n",
       "      <th>6050</th>\n",
       "      <td>0</td>\n",
       "      <td>[0.5524669986908519, 0.447533001309148]</td>\n",
       "    </tr>\n",
       "    <tr>\n",
       "      <th>4493</th>\n",
       "      <td>0</td>\n",
       "      <td>[0.7241819600237969, 0.2758180399762031]</td>\n",
       "    </tr>\n",
       "  </tbody>\n",
       "</table>\n",
       "<p>293 rows × 2 columns</p>\n",
       "</div>"
      ],
      "text/plain": [
       "      churn_Y                      predictionProbability\n",
       "3755        0   [0.5393561017590117, 0.4606438982409882]\n",
       "1834        0   [0.5915810704662712, 0.4084189295337289]\n",
       "4120        0  [0.7601891661721021, 0.23981083382789795]\n",
       "7909        0  [0.5465650051484342, 0.45343499485156574]\n",
       "1223        0  [0.6997601531901843, 0.30023984680981575]\n",
       "...       ...                                        ...\n",
       "2094        0   [0.5726431413805482, 0.4273568586194519]\n",
       "2369        0   [0.5665763456701025, 0.4334236543298976]\n",
       "2729        0  [0.5765740711792867, 0.42342592882071317]\n",
       "6050        0    [0.5524669986908519, 0.447533001309148]\n",
       "4493        0   [0.7241819600237969, 0.2758180399762031]\n",
       "\n",
       "[293 rows x 2 columns]"
      ]
     },
     "execution_count": 17,
     "metadata": {},
     "output_type": "execute_result"
    }
   ],
   "source": [
    "#Create data set with predictions and pred probabilities\n",
    "preds_df = pd.DataFrame(data=predictions, columns=['churn_Y'], index=churn_groundTruth.index)\n",
    "preds_df['predictionProbability']= tuple(probas)\n",
    "preds_df"
   ]
  },
  {
   "cell_type": "code",
   "execution_count": 18,
   "id": "6564b12f-5133-43ac-9561-96c211432ea7",
   "metadata": {},
   "outputs": [],
   "source": [
    "#x_preds_df=preds_df.predictionProbability.apply(lambda x : str(x))\n",
    "#x_preds_df.head()\n",
    "#preds_df['predictionProbability'] = preds_df['predictionProbability'].str.title()"
   ]
  },
  {
   "cell_type": "code",
   "execution_count": 19,
   "id": "67c7ef85-c23f-467a-9517-1a09a3cd7159",
   "metadata": {},
   "outputs": [
    {
     "data": {
      "text/html": [
       "<div>\n",
       "<style scoped>\n",
       "    .dataframe tbody tr th:only-of-type {\n",
       "        vertical-align: middle;\n",
       "    }\n",
       "\n",
       "    .dataframe tbody tr th {\n",
       "        vertical-align: top;\n",
       "    }\n",
       "\n",
       "    .dataframe thead th {\n",
       "        text-align: right;\n",
       "    }\n",
       "</style>\n",
       "<table border=\"1\" class=\"dataframe\">\n",
       "  <thead>\n",
       "    <tr style=\"text-align: right;\">\n",
       "      <th></th>\n",
       "      <th>churn_Y</th>\n",
       "      <th>predictionProbability</th>\n",
       "    </tr>\n",
       "  </thead>\n",
       "  <tbody>\n",
       "    <tr>\n",
       "      <th>3755</th>\n",
       "      <td>0</td>\n",
       "      <td>[0.5393561017590117, 0.4606438982409882]</td>\n",
       "    </tr>\n",
       "    <tr>\n",
       "      <th>1834</th>\n",
       "      <td>0</td>\n",
       "      <td>[0.5915810704662712, 0.4084189295337289]</td>\n",
       "    </tr>\n",
       "    <tr>\n",
       "      <th>4120</th>\n",
       "      <td>0</td>\n",
       "      <td>[0.7601891661721021, 0.23981083382789795]</td>\n",
       "    </tr>\n",
       "    <tr>\n",
       "      <th>7909</th>\n",
       "      <td>0</td>\n",
       "      <td>[0.5465650051484342, 0.45343499485156574]</td>\n",
       "    </tr>\n",
       "    <tr>\n",
       "      <th>1223</th>\n",
       "      <td>0</td>\n",
       "      <td>[0.6997601531901843, 0.30023984680981575]</td>\n",
       "    </tr>\n",
       "  </tbody>\n",
       "</table>\n",
       "</div>"
      ],
      "text/plain": [
       "      churn_Y                      predictionProbability\n",
       "3755        0   [0.5393561017590117, 0.4606438982409882]\n",
       "1834        0   [0.5915810704662712, 0.4084189295337289]\n",
       "4120        0  [0.7601891661721021, 0.23981083382789795]\n",
       "7909        0  [0.5465650051484342, 0.45343499485156574]\n",
       "1223        0  [0.6997601531901843, 0.30023984680981575]"
      ]
     },
     "execution_count": 19,
     "metadata": {},
     "output_type": "execute_result"
    }
   ],
   "source": [
    "preds_df.head()"
   ]
  },
  {
   "cell_type": "code",
   "execution_count": 20,
   "id": "e70e5f6f-1c6b-4acc-b13a-1ed9751af1c6",
   "metadata": {},
   "outputs": [
    {
     "data": {
      "text/plain": [
       "3755    0\n",
       "1834    0\n",
       "4120    0\n",
       "7909    0\n",
       "1223    0\n",
       "Name: churn_Y, dtype: object"
      ]
     },
     "execution_count": 20,
     "metadata": {},
     "output_type": "execute_result"
    }
   ],
   "source": [
    "x2_preds_df=preds_df.churn_Y.apply(lambda x : str(x))\n",
    "x2_preds_df.head()"
   ]
  },
  {
   "cell_type": "code",
   "execution_count": 21,
   "id": "7a1e90f6-03ad-485a-8293-fd911548a836",
   "metadata": {},
   "outputs": [],
   "source": [
    "#adjust format of pred probabilities\n",
    "#x_preds_df=preds_df.predictionProbability.apply(lambda x : str(x).replace('(', '[').replace(')', ']'))\n",
    "#x_preds_df.head()"
   ]
  },
  {
   "cell_type": "code",
   "execution_count": 22,
   "id": "9554d62a-5e01-4f47-97a9-d2b361d1ecb5",
   "metadata": {},
   "outputs": [
    {
     "data": {
      "text/html": [
       "<div>\n",
       "<style scoped>\n",
       "    .dataframe tbody tr th:only-of-type {\n",
       "        vertical-align: middle;\n",
       "    }\n",
       "\n",
       "    .dataframe tbody tr th {\n",
       "        vertical-align: top;\n",
       "    }\n",
       "\n",
       "    .dataframe thead th {\n",
       "        text-align: right;\n",
       "    }\n",
       "</style>\n",
       "<table border=\"1\" class=\"dataframe\">\n",
       "  <thead>\n",
       "    <tr style=\"text-align: right;\">\n",
       "      <th></th>\n",
       "      <th>custid</th>\n",
       "      <th>dropperc</th>\n",
       "      <th>mins</th>\n",
       "      <th>consecmonths</th>\n",
       "      <th>income</th>\n",
       "      <th>age</th>\n",
       "      <th>churn_Y</th>\n",
       "    </tr>\n",
       "  </thead>\n",
       "  <tbody>\n",
       "    <tr>\n",
       "      <th>3755</th>\n",
       "      <td>774351</td>\n",
       "      <td>0.021010</td>\n",
       "      <td>402</td>\n",
       "      <td>36</td>\n",
       "      <td>75.6</td>\n",
       "      <td>47</td>\n",
       "      <td>0</td>\n",
       "    </tr>\n",
       "    <tr>\n",
       "      <th>1834</th>\n",
       "      <td>438674</td>\n",
       "      <td>0.019779</td>\n",
       "      <td>429</td>\n",
       "      <td>21</td>\n",
       "      <td>112.4</td>\n",
       "      <td>52</td>\n",
       "      <td>0</td>\n",
       "    </tr>\n",
       "    <tr>\n",
       "      <th>4120</th>\n",
       "      <td>784330</td>\n",
       "      <td>0.018610</td>\n",
       "      <td>698</td>\n",
       "      <td>20</td>\n",
       "      <td>50.0</td>\n",
       "      <td>47</td>\n",
       "      <td>0</td>\n",
       "    </tr>\n",
       "    <tr>\n",
       "      <th>7909</th>\n",
       "      <td>565895</td>\n",
       "      <td>0.018765</td>\n",
       "      <td>617</td>\n",
       "      <td>40</td>\n",
       "      <td>111.3</td>\n",
       "      <td>55</td>\n",
       "      <td>0</td>\n",
       "    </tr>\n",
       "    <tr>\n",
       "      <th>1223</th>\n",
       "      <td>913310</td>\n",
       "      <td>0.034198</td>\n",
       "      <td>530</td>\n",
       "      <td>12</td>\n",
       "      <td>46.1</td>\n",
       "      <td>40</td>\n",
       "      <td>0</td>\n",
       "    </tr>\n",
       "  </tbody>\n",
       "</table>\n",
       "</div>"
      ],
      "text/plain": [
       "      custid  dropperc  mins  consecmonths  income  age  churn_Y\n",
       "3755  774351  0.021010   402            36    75.6   47        0\n",
       "1834  438674  0.019779   429            21   112.4   52        0\n",
       "4120  784330  0.018610   698            20    50.0   47        0\n",
       "7909  565895  0.018765   617            40   111.3   55        0\n",
       "1223  913310  0.034198   530            12    46.1   40        0"
      ]
     },
     "execution_count": 22,
     "metadata": {},
     "output_type": "execute_result"
    }
   ],
   "source": [
    "df_inf.head()"
   ]
  },
  {
   "cell_type": "code",
   "execution_count": 23,
   "id": "b11e27d7-7afa-46d2-8451-69134c4c234c",
   "metadata": {},
   "outputs": [],
   "source": [
    "#join prediction and prob data with input features dropping churn_Y\n",
    "churn_inputs_and_preds = df_inf.drop('churn_Y', axis =1)\\\n",
    ".join(preds_df, how = 'inner').drop_duplicates(subset = 'custid')"
   ]
  },
  {
   "cell_type": "code",
   "execution_count": 24,
   "id": "a34a6bd2-939b-4f87-824e-be13c14cb846",
   "metadata": {},
   "outputs": [
    {
     "data": {
      "text/html": [
       "<div>\n",
       "<style scoped>\n",
       "    .dataframe tbody tr th:only-of-type {\n",
       "        vertical-align: middle;\n",
       "    }\n",
       "\n",
       "    .dataframe tbody tr th {\n",
       "        vertical-align: top;\n",
       "    }\n",
       "\n",
       "    .dataframe thead th {\n",
       "        text-align: right;\n",
       "    }\n",
       "</style>\n",
       "<table border=\"1\" class=\"dataframe\">\n",
       "  <thead>\n",
       "    <tr style=\"text-align: right;\">\n",
       "      <th></th>\n",
       "      <th>custid</th>\n",
       "      <th>dropperc</th>\n",
       "      <th>mins</th>\n",
       "      <th>consecmonths</th>\n",
       "      <th>income</th>\n",
       "      <th>age</th>\n",
       "      <th>churn_Y</th>\n",
       "      <th>predictionProbability</th>\n",
       "      <th>Gender</th>\n",
       "    </tr>\n",
       "  </thead>\n",
       "  <tbody>\n",
       "    <tr>\n",
       "      <th>38</th>\n",
       "      <td>107234</td>\n",
       "      <td>0.010258</td>\n",
       "      <td>641</td>\n",
       "      <td>29</td>\n",
       "      <td>47.0</td>\n",
       "      <td>48</td>\n",
       "      <td>0</td>\n",
       "      <td>[0.7023729632754047, 0.2976270367245953]</td>\n",
       "      <td>NB</td>\n",
       "    </tr>\n",
       "    <tr>\n",
       "      <th>64</th>\n",
       "      <td>771011</td>\n",
       "      <td>0.016364</td>\n",
       "      <td>454</td>\n",
       "      <td>19</td>\n",
       "      <td>45.8</td>\n",
       "      <td>51</td>\n",
       "      <td>0</td>\n",
       "      <td>[0.6072108634434678, 0.3927891365565323]</td>\n",
       "      <td>NB</td>\n",
       "    </tr>\n",
       "    <tr>\n",
       "      <th>127</th>\n",
       "      <td>413798</td>\n",
       "      <td>0.017255</td>\n",
       "      <td>565</td>\n",
       "      <td>26</td>\n",
       "      <td>38.0</td>\n",
       "      <td>50</td>\n",
       "      <td>0</td>\n",
       "      <td>[0.5694840525825424, 0.4305159474174576]</td>\n",
       "      <td>NB</td>\n",
       "    </tr>\n",
       "    <tr>\n",
       "      <th>299</th>\n",
       "      <td>720099</td>\n",
       "      <td>0.018440</td>\n",
       "      <td>284</td>\n",
       "      <td>25</td>\n",
       "      <td>74.2</td>\n",
       "      <td>55</td>\n",
       "      <td>0</td>\n",
       "      <td>[0.5764791543097114, 0.4235208456902885]</td>\n",
       "      <td>M</td>\n",
       "    </tr>\n",
       "    <tr>\n",
       "      <th>311</th>\n",
       "      <td>928473</td>\n",
       "      <td>0.018307</td>\n",
       "      <td>585</td>\n",
       "      <td>39</td>\n",
       "      <td>61.0</td>\n",
       "      <td>52</td>\n",
       "      <td>0</td>\n",
       "      <td>[0.5540807406205471, 0.44591925937945287]</td>\n",
       "      <td>F</td>\n",
       "    </tr>\n",
       "  </tbody>\n",
       "</table>\n",
       "</div>"
      ],
      "text/plain": [
       "     custid  dropperc  mins  consecmonths  income  age  churn_Y  \\\n",
       "38   107234  0.010258   641            29    47.0   48        0   \n",
       "64   771011  0.016364   454            19    45.8   51        0   \n",
       "127  413798  0.017255   565            26    38.0   50        0   \n",
       "299  720099  0.018440   284            25    74.2   55        0   \n",
       "311  928473  0.018307   585            39    61.0   52        0   \n",
       "\n",
       "                         predictionProbability Gender  \n",
       "38    [0.7023729632754047, 0.2976270367245953]     NB  \n",
       "64    [0.6072108634434678, 0.3927891365565323]     NB  \n",
       "127   [0.5694840525825424, 0.4305159474174576]     NB  \n",
       "299   [0.5764791543097114, 0.4235208456902885]      M  \n",
       "311  [0.5540807406205471, 0.44591925937945287]      F  "
      ]
     },
     "execution_count": 24,
     "metadata": {},
     "output_type": "execute_result"
    }
   ],
   "source": [
    "#Create 'protected class' feature to monitor for disparity in target distribution\n",
    "churn_inputs_and_preds['Gender']=np.random.randint(0,3, churn_inputs_and_preds.shape[0])\n",
    "mymap = {0:'M',1: 'F', 2: 'NB'}\n",
    "churn_inputs_and_preds['Gender'] = churn_inputs_and_preds['Gender'].apply(lambda x: mymap.get(x))\n",
    "churn_inputs_and_preds.head()"
   ]
  },
  {
   "cell_type": "code",
   "execution_count": 25,
   "id": "9b331d1c-fe3d-4128-8ec8-b087e31d00ad",
   "metadata": {},
   "outputs": [
    {
     "data": {
      "image/png": "[encoded data removed]",
      "text/plain": [
       "<Figure size 864x288 with 1 Axes>"
      ]
     },
     "metadata": {
      "needs_background": "light"
     },
     "output_type": "display_data"
    }
   ],
   "source": [
    "#Add visualization of protected class for tracking purposes\n",
    "ax = sns.barplot(x = ['F', 'M', 'NB'], y = churn_inputs_and_preds.groupby('Gender').mean()['churn_Y'])\n",
    "\n",
    "ax.set_title('Churn By Gender')\n",
    "ax.set_ylabel('Proportion')\n",
    "ax.set_xlabel('Gender')\n",
    "fig = ax.get_figure()\n",
    "fig.set_size_inches(12,4)\n",
    "plt.gcf().subplots_adjust(left=0.5)\n",
    "\n",
    "fig.savefig('/mnt/code/Viz/protected_class_monitoring.png')"
   ]
  },
  {
   "cell_type": "code",
   "execution_count": 26,
   "id": "49794746-8f5f-42a5-82dd-54a3a74b9a62",
   "metadata": {},
   "outputs": [
    {
     "name": "stdout",
     "output_type": "stream",
     "text": [
      "Length Check Pass: True\n",
      "ID Check Pass: True\n"
     ]
    }
   ],
   "source": [
    "## Run two checks below to validate input and GT data is of same size and contains same custIDs\n",
    "\n",
    "lenCheck = churn_inputs_and_preds.shape[0]==churn_groundTruth.shape[0]\n",
    "print('Length Check Pass:', lenCheck)\n",
    "\n",
    "idCheck= (churn_inputs_and_preds.custid.sort_values()==churn_groundTruth.custid.sort_values())\\\n",
    ".sum() ==churn_inputs_and_preds.shape[0]\n",
    "print('ID Check Pass:', idCheck)"
   ]
  },
  {
   "cell_type": "code",
   "execution_count": 27,
   "id": "f82ead28-b8aa-4fc1-b0a6-85c82e7a711c",
   "metadata": {},
   "outputs": [
    {
     "data": {
      "text/plain": [
       "(293, 9)"
      ]
     },
     "execution_count": 27,
     "metadata": {},
     "output_type": "execute_result"
    }
   ],
   "source": [
    "churn_inputs_and_preds.shape"
   ]
  },
  {
   "cell_type": "code",
   "execution_count": 28,
   "id": "c98da9fe-1c92-43e1-88a1-ab1abe4d9896",
   "metadata": {},
   "outputs": [
    {
     "data": {
      "text/plain": [
       "(293, 2)"
      ]
     },
     "execution_count": 28,
     "metadata": {},
     "output_type": "execute_result"
    }
   ],
   "source": [
    "churn_groundTruth.shape"
   ]
  },
  {
   "cell_type": "code",
   "execution_count": 29,
   "id": "57590c04-151a-410f-bf51-a5fb578ffd60",
   "metadata": {},
   "outputs": [],
   "source": [
    "#Write input and pred data to DailyData folder # ---> this is the ground truth\n",
    "#daily_data_path = '/mnt/CustomerChurn46/DailyData/'\n",
    "\n",
    "#daily_data_path = '/mnt/CustomerChurn46/DailyData/'\n",
    "daily_data_path = '/mnt/code/DailyData/'\n",
    "\n",
    "input_and_pred_path = str(daily_data_path+'inputs_and_preds_'+str(datetime.date.today())+'.csv')\n",
    "churn_inputs_and_preds.to_csv(input_and_pred_path, index = False)"
   ]
  },
  {
   "cell_type": "code",
   "execution_count": 30,
   "id": "2b37e2a0-10eb-4f3e-aa76-2576bc9711f3",
   "metadata": {},
   "outputs": [],
   "source": [
    "#Write GT data to DailyData folder\n",
    "ground_truth_path = str(daily_data_path+'ground_truth_'+str(datetime.date.today())+'.csv')\n",
    "churn_groundTruth.to_csv(ground_truth_path, index = False)"
   ]
  },
  {
   "cell_type": "code",
   "execution_count": null,
   "id": "0f9778d8-cf14-4154-8a93-d135a4f6480c",
   "metadata": {},
   "outputs": [],
   "source": []
  },
  {
   "cell_type": "code",
   "execution_count": null,
   "id": "76623338-6525-474a-b3f0-f9e943db68f6",
   "metadata": {},
   "outputs": [],
   "source": []
  },
  {
   "cell_type": "code",
   "execution_count": 31,
   "id": "197458ad-6bc6-4f5b-999a-7eaa923b1d29",
   "metadata": {},
   "outputs": [
    {
     "name": "stdout",
     "output_type": "stream",
     "text": [
      "inputs_and_preds_2022-05-05.csv Upload Successful\n",
      "ground_truth_2022-05-05.csv Upload Successful\n"
     ]
    },
    {
     "data": {
      "text/plain": [
       "True"
      ]
     },
     "execution_count": 31,
     "metadata": {},
     "output_type": "execute_result"
    }
   ],
   "source": [
    "import upload_to_s3\n",
    "#Upload input&pred data and GT data to s3 bucket \n",
    "upload_to_s3.upload(input_and_pred_path, bucket)\n",
    "upload_to_s3.upload(ground_truth_path, bucket)"
   ]
  },
  {
   "cell_type": "markdown",
   "id": "b6fa5f89-e74e-4e72-9a67-d5fd5fb93021",
   "metadata": {},
   "source": [
    "## At this point we are done with s3"
   ]
  },
  {
   "cell_type": "code",
   "execution_count": null,
   "id": "f49184f8-3986-43b2-8510-2b9f111428b6",
   "metadata": {},
   "outputs": [],
   "source": [
    "#Define file names for payload construction below\n",
    "inputs_file_name = str('inputs_and_preds_'+str(datetime.date.today())+'.csv')\n",
    "ground_truth_file_name = str('ground_truth_'+str(datetime.date.today())+'.csv')"
   ]
  },
  {
   "cell_type": "code",
   "execution_count": null,
   "id": "9f36d096-ea91-41d4-b1a3-a872f086927f",
   "metadata": {},
   "outputs": [],
   "source": [
    "#Define api endpoint # Adding dmm model ID\n",
    "inputs_url = \"https://demo.dominodatalab.com/model-monitor/v2/api/model/{}/register-dataset/prediction\".format(model_id)"
   ]
  },
  {
   "cell_type": "code",
   "execution_count": null,
   "id": "8a759cf6-85fe-4705-a15e-69d2d8b229df",
   "metadata": {},
   "outputs": [],
   "source": [
    "inputs_file_name"
   ]
  },
  {
   "cell_type": "code",
   "execution_count": null,
   "id": "d8eddaf5-ea61-4ad6-b29a-e910d4edaed1",
   "metadata": {},
   "outputs": [],
   "source": [
    "#Create inputs and prediction data payload\n",
    "inputs_payload = \"\"\"\n",
    "{{\n",
    "\"datasetDetails\": {{\n",
    "        \"name\": \"{0}\",\n",
    "        \"datasetType\": \"file\",\n",
    "        \"datasetConfig\": {{\n",
    "            \"path\": \"{0}\",\n",
    "            \"fileFormat\": \"csv\"\n",
    "        }},\n",
    "        \"datasourceName\": \"churn-dmm-46\",\n",
    "        \"datasourceType\": \"s3\"\n",
    "    }}\n",
    "}}\n",
    "\"\"\".format(inputs_file_name)"
   ]
  },
  {
   "cell_type": "code",
   "execution_count": null,
   "id": "e6c5363b-6ac5-4f09-9ce9-4380cadd312c",
   "metadata": {},
   "outputs": [],
   "source": [
    "#Set up call headers  # Adding dmm_api_key\n",
    "headers = {\n",
    "           'X-DMM-API-KEY': dmm_api_key,\n",
    "           'Content-Type': 'application/json'\n",
    "          }"
   ]
  },
  {
   "cell_type": "code",
   "execution_count": null,
   "id": "7757d699-5ba0-4055-9c97-5f38db98df9c",
   "metadata": {},
   "outputs": [],
   "source": [
    "#Make API call # importing requests\n",
    "inputs_response = requests.request(\"PUT\", inputs_url, headers=headers, data = inputs_payload)"
   ]
  },
  {
   "cell_type": "code",
   "execution_count": null,
   "id": "aaf4cf08-adb8-4c30-bb34-12fa0d26c45d",
   "metadata": {},
   "outputs": [],
   "source": [
    "#create GT payload    \n",
    "ground_truth_payload = \"\"\"\n",
    "{{\n",
    "\n",
    "\"datasetDetails\": {{\n",
    "        \"name\": \"{0}\",\n",
    "        \"datasetType\": \"file\",\n",
    "        \"datasetConfig\": {{\n",
    "            \"path\": \"{0}\",\n",
    "            \"fileFormat\": \"csv\"\n",
    "        }},\n",
    "        \"datasourceName\": \"churn-dmm-46\",\n",
    "        \"datasourceType\": \"s3\"\n",
    "    }}\n",
    "}}\n",
    "\"\"\".format(ground_truth_file_name)"
   ]
  },
  {
   "cell_type": "code",
   "execution_count": null,
   "id": "c2133137-5899-4abe-9df6-f8bb654deb52",
   "metadata": {},
   "outputs": [],
   "source": [
    "#Define api endpoint\n",
    "ground_truth_url = \"https://demo.dominodatalab.com/model-monitor/v2/api/model/{}/register-dataset/ground_truth\".format(model_id)"
   ]
  },
  {
   "cell_type": "code",
   "execution_count": null,
   "id": "3e2ccdb3-7502-433a-8800-f0352c5a858e",
   "metadata": {},
   "outputs": [],
   "source": [
    "#Make api call\n",
    "ground_truth_response = requests.request(\"PUT\", ground_truth_url, headers=headers, data = ground_truth_payload)"
   ]
  },
  {
   "cell_type": "code",
   "execution_count": null,
   "id": "17d093da-3232-4ed6-af67-13d9b0c6a890",
   "metadata": {},
   "outputs": [],
   "source": [
    "#Print response\n",
    "print(ground_truth_response.text.encode('utf8'))"
   ]
  }
 ],
 "metadata": {
  "kernelspec": {
   "display_name": "Python 3 (ipykernel)",
   "language": "python",
   "name": "python3"
  },
  "language_info": {
   "codemirror_mode": {
    "name": "ipython",
    "version": 3
   },
   "file_extension": ".py",
   "mimetype": "text/x-python",
   "name": "python",
   "nbconvert_exporter": "python",
   "pygments_lexer": "ipython3",
   "version": "3.8.12"
  }
 },
 "nbformat": 4,
 "nbformat_minor": 5
}
