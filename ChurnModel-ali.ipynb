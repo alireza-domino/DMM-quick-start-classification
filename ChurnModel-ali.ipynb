{
 "cells": [
  {
   "cell_type": "markdown",
   "id": "3b1c843a-0b09-4f26-aa50-9da873c0212f",
   "metadata": {},
   "source": [
    "## Import Packages"
   ]
  },
  {
   "cell_type": "code",
   "execution_count": 1,
   "id": "d0fd14bf-cc44-4755-99b6-82e6226f1e3b",
   "metadata": {},
   "outputs": [],
   "source": [
    "import os\n",
    "import pandas as pd\n",
    "import numpy as np\n",
    "import random\n",
    "import pickle\n",
    "import datetime\n",
    "import seaborn as sns\n",
    "import matplotlib.pyplot as plt"
   ]
  },
  {
   "cell_type": "markdown",
   "id": "5c7c909e-9a5b-4a89-b20e-847be44a6040",
   "metadata": {},
   "source": [
    "## Read Training Data"
   ]
  },
  {
   "cell_type": "markdown",
   "id": "7691e9ee-edd5-4760-96fe-76b6fc7bda08",
   "metadata": {},
   "source": [
    "### Training Dataset is the same as the one which the model is trained on"
   ]
  },
  {
   "cell_type": "code",
   "execution_count": 2,
   "id": "a3c4473a-ead2-4a6d-9f56-5e48e3e9193e",
   "metadata": {},
   "outputs": [
    {
     "name": "stdout",
     "output_type": "stream",
     "text": [
      " The shape of training dataset is (7939, 7)\n",
      "* \n",
      "* \n",
      "*\n"
     ]
    },
    {
     "data": {
      "text/html": [
       "<div>\n",
       "<style scoped>\n",
       "    .dataframe tbody tr th:only-of-type {\n",
       "        vertical-align: middle;\n",
       "    }\n",
       "\n",
       "    .dataframe tbody tr th {\n",
       "        vertical-align: top;\n",
       "    }\n",
       "\n",
       "    .dataframe thead th {\n",
       "        text-align: right;\n",
       "    }\n",
       "</style>\n",
       "<table border=\"1\" class=\"dataframe\">\n",
       "  <thead>\n",
       "    <tr style=\"text-align: right;\">\n",
       "      <th></th>\n",
       "      <th>custid</th>\n",
       "      <th>dropperc</th>\n",
       "      <th>mins</th>\n",
       "      <th>consecmonths</th>\n",
       "      <th>income</th>\n",
       "      <th>age</th>\n",
       "      <th>churn_Y</th>\n",
       "    </tr>\n",
       "  </thead>\n",
       "  <tbody>\n",
       "    <tr>\n",
       "      <th>0</th>\n",
       "      <td>844336</td>\n",
       "      <td>0.016364</td>\n",
       "      <td>550</td>\n",
       "      <td>28</td>\n",
       "      <td>89.2</td>\n",
       "      <td>45</td>\n",
       "      <td>0</td>\n",
       "    </tr>\n",
       "    <tr>\n",
       "      <th>1</th>\n",
       "      <td>146041</td>\n",
       "      <td>0.018349</td>\n",
       "      <td>545</td>\n",
       "      <td>33</td>\n",
       "      <td>54.2</td>\n",
       "      <td>43</td>\n",
       "      <td>0</td>\n",
       "    </tr>\n",
       "    <tr>\n",
       "      <th>2</th>\n",
       "      <td>847745</td>\n",
       "      <td>0.018519</td>\n",
       "      <td>378</td>\n",
       "      <td>41</td>\n",
       "      <td>55.3</td>\n",
       "      <td>41</td>\n",
       "      <td>0</td>\n",
       "    </tr>\n",
       "    <tr>\n",
       "      <th>3</th>\n",
       "      <td>285565</td>\n",
       "      <td>0.014493</td>\n",
       "      <td>552</td>\n",
       "      <td>32</td>\n",
       "      <td>66.8</td>\n",
       "      <td>31</td>\n",
       "      <td>0</td>\n",
       "    </tr>\n",
       "    <tr>\n",
       "      <th>4</th>\n",
       "      <td>754611</td>\n",
       "      <td>0.012132</td>\n",
       "      <td>577</td>\n",
       "      <td>4</td>\n",
       "      <td>87.2</td>\n",
       "      <td>43</td>\n",
       "      <td>0</td>\n",
       "    </tr>\n",
       "  </tbody>\n",
       "</table>\n",
       "</div>"
      ],
      "text/plain": [
       "   custid  dropperc  mins  consecmonths  income  age  churn_Y\n",
       "0  844336  0.016364   550            28    89.2   45        0\n",
       "1  146041  0.018349   545            33    54.2   43        0\n",
       "2  847745  0.018519   378            41    55.3   41        0\n",
       "3  285565  0.014493   552            32    66.8   31        0\n",
       "4  754611  0.012132   577             4    87.2   43        0"
      ]
     },
     "execution_count": 2,
     "metadata": {},
     "output_type": "execute_result"
    }
   ],
   "source": [
    "#Bring in data used to train pickled model that is loaded in later\n",
    "df = pd.read_csv('/mnt/code/Test&TrainData/ChurnTrainingDataPP.csv')\n",
    "df.drop('predictionProbability', axis =1,inplace = True)\n",
    "print(f\" The shape of training dataset is {df.shape}\")\n",
    "print(\"\"\"* \\n* \\n*\"\"\")\n",
    "df.head()"
   ]
  },
  {
   "cell_type": "markdown",
   "id": "1062ebf8-fefb-4312-bae6-33b2259c4a5f",
   "metadata": {},
   "source": [
    "## Synthesizing Data (\"df_inf\")"
   ]
  },
  {
   "cell_type": "code",
   "execution_count": 3,
   "id": "0bac4eac-e64e-40d3-be60-0ac12f5f9265",
   "metadata": {},
   "outputs": [
    {
     "name": "stdout",
     "output_type": "stream",
     "text": [
      "Correlations between original and altered vars -\n",
      "custid: 1.0\n",
      "dropperc: 0.7293\n",
      "mins: 0.7419\n",
      "consecmonths: 0.9289\n",
      "income: 0.6261\n",
      "age: 0.9698\n",
      "churn_Y: 1.0\n"
     ]
    }
   ],
   "source": [
    "#append data to istelf to double volume\n",
    "df2 = df.append(df)\n",
    "\n",
    "#Reset custid field so that there are no repeats\n",
    "df2['custid'] = np.random.choice(range(df.custid.min(), df.custid.max()),df2.shape[0], replace=False)\n",
    "\n",
    "##For each input feature adjust data and round/cast as necessary\n",
    "#dropperc - 50%-150%\n",
    "droppJitter = df2.dropperc.apply(lambda x : x*(random.randrange(50,150))/100)\n",
    "#mins - 70%-130%\n",
    "minsJitter = df2.mins.apply(lambda x : x*(random.randrange(70,130)/100)).round(0).astype(int)\n",
    "#consecMonths - 80%-120%\n",
    "consecMonthsJitter = df2.consecmonths.apply(lambda x : x*(random.randrange(80,120)/100)).round(0).astype(int)\n",
    "#Income - 40%-160%\n",
    "incomeJitter = df2.income.apply(lambda x : x*(random.randrange(40,160)/100)).round(1)\n",
    "#age - 90%-110%\n",
    "ageJitter = df2.age.apply(lambda x : x*(random.randrange(90,110)/100)).round(0).astype(int)\n",
    "\n",
    "#Take all the new 'jittered' variables and write to a new df\n",
    "#Keep original custid and churn_Y fields\n",
    "df3 = pd.DataFrame({'custid': df2.custid,\n",
    "       'dropperc': droppJitter, \n",
    "       'mins': minsJitter,\n",
    "       'consecmonths': consecMonthsJitter,\n",
    "       'income': incomeJitter,\n",
    "       'age': ageJitter,\n",
    "       'churn_Y': df2.churn_Y\n",
    "                   })\n",
    "\n",
    "#Understand correlations between new jittered data and original\n",
    "#Should see larger data drift for lower correlations\n",
    "concatset = pd.concat([df2,df3], axis =1)\n",
    "concatset.columns=(list(df2.columns)+list('Jittered_'+df3.columns))\n",
    "print('Correlations between original and altered vars -')\n",
    "for i,k in enumerate(df2.columns):\n",
    "    print('{}: {}'.format(k, concatset.corr()[k]['Jittered_'+k].round(4)))"
   ]
  },
  {
   "cell_type": "code",
   "execution_count": 4,
   "id": "5127d0ab-ae6f-4c85-8155-19607bf3c4b5",
   "metadata": {},
   "outputs": [
    {
     "name": "stdout",
     "output_type": "stream",
     "text": [
      "378 records selected for sample\n",
      " The shape of df_inf for prediction data is (378, 7)\n",
      "* \n",
      "* \n",
      "*\n"
     ]
    },
    {
     "data": {
      "text/html": [
       "<div>\n",
       "<style scoped>\n",
       "    .dataframe tbody tr th:only-of-type {\n",
       "        vertical-align: middle;\n",
       "    }\n",
       "\n",
       "    .dataframe tbody tr th {\n",
       "        vertical-align: top;\n",
       "    }\n",
       "\n",
       "    .dataframe thead th {\n",
       "        text-align: right;\n",
       "    }\n",
       "</style>\n",
       "<table border=\"1\" class=\"dataframe\">\n",
       "  <thead>\n",
       "    <tr style=\"text-align: right;\">\n",
       "      <th></th>\n",
       "      <th>custid</th>\n",
       "      <th>dropperc</th>\n",
       "      <th>mins</th>\n",
       "      <th>consecmonths</th>\n",
       "      <th>income</th>\n",
       "      <th>age</th>\n",
       "      <th>churn_Y</th>\n",
       "    </tr>\n",
       "  </thead>\n",
       "  <tbody>\n",
       "    <tr>\n",
       "      <th>5765</th>\n",
       "      <td>220704</td>\n",
       "      <td>0.035347</td>\n",
       "      <td>248</td>\n",
       "      <td>20</td>\n",
       "      <td>31.3</td>\n",
       "      <td>43</td>\n",
       "      <td>0</td>\n",
       "    </tr>\n",
       "    <tr>\n",
       "      <th>6806</th>\n",
       "      <td>660734</td>\n",
       "      <td>0.052832</td>\n",
       "      <td>206</td>\n",
       "      <td>26</td>\n",
       "      <td>88.1</td>\n",
       "      <td>37</td>\n",
       "      <td>1</td>\n",
       "    </tr>\n",
       "    <tr>\n",
       "      <th>4488</th>\n",
       "      <td>196131</td>\n",
       "      <td>0.016316</td>\n",
       "      <td>334</td>\n",
       "      <td>34</td>\n",
       "      <td>79.1</td>\n",
       "      <td>37</td>\n",
       "      <td>0</td>\n",
       "    </tr>\n",
       "    <tr>\n",
       "      <th>7782</th>\n",
       "      <td>12769</td>\n",
       "      <td>0.034375</td>\n",
       "      <td>364</td>\n",
       "      <td>36</td>\n",
       "      <td>107.0</td>\n",
       "      <td>55</td>\n",
       "      <td>0</td>\n",
       "    </tr>\n",
       "    <tr>\n",
       "      <th>7271</th>\n",
       "      <td>176956</td>\n",
       "      <td>0.025911</td>\n",
       "      <td>698</td>\n",
       "      <td>32</td>\n",
       "      <td>115.9</td>\n",
       "      <td>50</td>\n",
       "      <td>0</td>\n",
       "    </tr>\n",
       "  </tbody>\n",
       "</table>\n",
       "</div>"
      ],
      "text/plain": [
       "      custid  dropperc  mins  consecmonths  income  age  churn_Y\n",
       "5765  220704  0.035347   248            20    31.3   43        0\n",
       "6806  660734  0.052832   206            26    88.1   37        1\n",
       "4488  196131  0.016316   334            34    79.1   37        0\n",
       "7782   12769  0.034375   364            36   107.0   55        0\n",
       "7271  176956  0.025911   698            32   115.9   50        0"
      ]
     },
     "execution_count": 4,
     "metadata": {},
     "output_type": "execute_result"
    }
   ],
   "source": [
    "#Grab between 100 and 500 random rows from jittered data\n",
    "df_inf = df3.sample(n = random.randint(100,500))\n",
    "print(df_inf.shape[0], \"records selected for sample\")\n",
    "df_inf.head()\n",
    "\n",
    "print(f\" The shape of df_inf for prediction data is {df_inf.shape}\")\n",
    "print(\"\"\"* \\n* \\n*\"\"\")\n",
    "df_inf.head()"
   ]
  },
  {
   "cell_type": "markdown",
   "id": "17b3ad1d-1dd7-497c-accf-b862a1a5587c",
   "metadata": {},
   "source": [
    "### Synthesize data features (\"X\")"
   ]
  },
  {
   "cell_type": "code",
   "execution_count": 5,
   "id": "71284ab4-c068-47bf-a57c-f608f6911951",
   "metadata": {},
   "outputs": [
    {
     "name": "stdout",
     "output_type": "stream",
     "text": [
      "shape of X is (378, 5)\n"
     ]
    },
    {
     "data": {
      "text/html": [
       "<div>\n",
       "<style scoped>\n",
       "    .dataframe tbody tr th:only-of-type {\n",
       "        vertical-align: middle;\n",
       "    }\n",
       "\n",
       "    .dataframe tbody tr th {\n",
       "        vertical-align: top;\n",
       "    }\n",
       "\n",
       "    .dataframe thead th {\n",
       "        text-align: right;\n",
       "    }\n",
       "</style>\n",
       "<table border=\"1\" class=\"dataframe\">\n",
       "  <thead>\n",
       "    <tr style=\"text-align: right;\">\n",
       "      <th></th>\n",
       "      <th>dropperc</th>\n",
       "      <th>mins</th>\n",
       "      <th>consecmonths</th>\n",
       "      <th>income</th>\n",
       "      <th>age</th>\n",
       "    </tr>\n",
       "  </thead>\n",
       "  <tbody>\n",
       "    <tr>\n",
       "      <th>5765</th>\n",
       "      <td>0.035347</td>\n",
       "      <td>248</td>\n",
       "      <td>20</td>\n",
       "      <td>31.3</td>\n",
       "      <td>43</td>\n",
       "    </tr>\n",
       "    <tr>\n",
       "      <th>6806</th>\n",
       "      <td>0.052832</td>\n",
       "      <td>206</td>\n",
       "      <td>26</td>\n",
       "      <td>88.1</td>\n",
       "      <td>37</td>\n",
       "    </tr>\n",
       "    <tr>\n",
       "      <th>4488</th>\n",
       "      <td>0.016316</td>\n",
       "      <td>334</td>\n",
       "      <td>34</td>\n",
       "      <td>79.1</td>\n",
       "      <td>37</td>\n",
       "    </tr>\n",
       "    <tr>\n",
       "      <th>7782</th>\n",
       "      <td>0.034375</td>\n",
       "      <td>364</td>\n",
       "      <td>36</td>\n",
       "      <td>107.0</td>\n",
       "      <td>55</td>\n",
       "    </tr>\n",
       "    <tr>\n",
       "      <th>7271</th>\n",
       "      <td>0.025911</td>\n",
       "      <td>698</td>\n",
       "      <td>32</td>\n",
       "      <td>115.9</td>\n",
       "      <td>50</td>\n",
       "    </tr>\n",
       "  </tbody>\n",
       "</table>\n",
       "</div>"
      ],
      "text/plain": [
       "      dropperc  mins  consecmonths  income  age\n",
       "5765  0.035347   248            20    31.3   43\n",
       "6806  0.052832   206            26    88.1   37\n",
       "4488  0.016316   334            34    79.1   37\n",
       "7782  0.034375   364            36   107.0   55\n",
       "7271  0.025911   698            32   115.9   50"
      ]
     },
     "execution_count": 5,
     "metadata": {},
     "output_type": "execute_result"
    }
   ],
   "source": [
    "#Save input features\n",
    "X = df_inf.loc[:, 'dropperc':'age']\n",
    "print(f\"shape of X is {X.shape}\")\n",
    "X.head()"
   ]
  },
  {
   "cell_type": "markdown",
   "id": "bfc48877-49dd-4c6f-b41c-9c73455db41f",
   "metadata": {},
   "source": [
    "## Load Model"
   ]
  },
  {
   "cell_type": "code",
   "execution_count": 6,
   "id": "a2a2f037-7b1b-4a1b-b3db-5c07f07813d1",
   "metadata": {},
   "outputs": [
    {
     "name": "stderr",
     "output_type": "stream",
     "text": [
      "/opt/conda/lib/python3.8/site-packages/sklearn/base.py:329: UserWarning: Trying to unpickle estimator DecisionTreeClassifier from version 0.22.2 when using version 1.0.2. This might lead to breaking code or invalid results. Use at your own risk. For more info please refer to:\n",
      "https://scikit-learn.org/stable/modules/model_persistence.html#security-maintainability-limitations\n",
      "  warnings.warn(\n",
      "/opt/conda/lib/python3.8/site-packages/sklearn/base.py:329: UserWarning: Trying to unpickle estimator AdaBoostClassifier from version 0.22.2 when using version 1.0.2. This might lead to breaking code or invalid results. Use at your own risk. For more info please refer to:\n",
      "https://scikit-learn.org/stable/modules/model_persistence.html#security-maintainability-limitations\n",
      "  warnings.warn(\n"
     ]
    }
   ],
   "source": [
    "#Load in trained model object    \n",
    "loaded_model = pickle.load(open('/mnt/code/models/ChurnBinaryClassifier.pkl', 'rb'))"
   ]
  },
  {
   "cell_type": "markdown",
   "id": "5ed88b68-44a5-4344-977b-bdd6f9a3cc93",
   "metadata": {},
   "source": [
    "### a. \"predictions\" values \n",
    "#### Array of binary values which is from loaded model using features of Synthesized data (X) **** 0 or 1"
   ]
  },
  {
   "cell_type": "code",
   "execution_count": 7,
   "id": "feeef570-b4a9-49f7-ae39-38bf85d17701",
   "metadata": {},
   "outputs": [
    {
     "name": "stdout",
     "output_type": "stream",
     "text": [
      "lenght of prediction is 378\n"
     ]
    },
    {
     "name": "stderr",
     "output_type": "stream",
     "text": [
      "/opt/conda/lib/python3.8/site-packages/sklearn/base.py:443: UserWarning: X has feature names, but AdaBoostClassifier was fitted without feature names\n",
      "  warnings.warn(\n"
     ]
    },
    {
     "data": {
      "text/plain": [
       "array([0, 1, 0, 0, 0])"
      ]
     },
     "execution_count": 7,
     "metadata": {},
     "output_type": "execute_result"
    }
   ],
   "source": [
    "#Get model predictions for the sample of input features defined above\n",
    "predictions = loaded_model.predict(X)\n",
    "print(f\"lenght of prediction is {len(predictions)}\")\n",
    "predictions[:5]"
   ]
  },
  {
   "cell_type": "markdown",
   "id": "37d3a54c-6318-443e-90fc-9b1f0371845f",
   "metadata": {},
   "source": [
    "### b. \"probas\" Prediction probability range using features of Synthesized data (df_inf) **** between [0.xx, 0.xx]"
   ]
  },
  {
   "cell_type": "code",
   "execution_count": 8,
   "id": "cd100fb1-93a2-489f-ad10-7655e3aae290",
   "metadata": {},
   "outputs": [
    {
     "name": "stdout",
     "output_type": "stream",
     "text": [
      "lenght of probas is 378\n"
     ]
    },
    {
     "name": "stderr",
     "output_type": "stream",
     "text": [
      "/opt/conda/lib/python3.8/site-packages/sklearn/base.py:443: UserWarning: X has feature names, but AdaBoostClassifier was fitted without feature names\n",
      "  warnings.warn(\n"
     ]
    },
    {
     "data": {
      "text/plain": [
       "[[0.5654623848243298, 0.4345376151756703],\n",
       " [0.4769609444286945, 0.5230390555713055],\n",
       " [0.5700527753821446, 0.42994722461785545],\n",
       " [0.5001771019412123, 0.49982289805878777]]"
      ]
     },
     "execution_count": 8,
     "metadata": {},
     "output_type": "execute_result"
    }
   ],
   "source": [
    "#Get model prediction probabilities for the sample of input features defined above\n",
    "#probas = tuple(loaded_model.predict_proba(X).tolist()) # converting from array to list to be compatible for dataframe probability range\n",
    "probas = loaded_model.predict_proba(X).tolist() # converting from array to list to be compatible for dataframe probability range\n",
    "\n",
    "print(f\"lenght of probas is {len(probas)}\") # probas is a list of ranges\n",
    "probas[:4]"
   ]
  },
  {
   "cell_type": "markdown",
   "id": "fc9632bf-77e6-4b61-9f16-42a5a44448f4",
   "metadata": {},
   "source": []
  },
  {
   "cell_type": "markdown",
   "id": "a920d75b-3d24-4288-a6e3-84a40c18bff0",
   "metadata": {},
   "source": [
    "## ***\"churn_groundTruth\"*** \n",
    "### Synthesized data feature selection only index and output which are custid and churn_Y renamed to y_gt)"
   ]
  },
  {
   "cell_type": "code",
   "execution_count": 9,
   "id": "b98e69aa-edae-4a3d-bbd1-daaa2c280dab",
   "metadata": {},
   "outputs": [
    {
     "data": {
      "text/html": [
       "<div>\n",
       "<style scoped>\n",
       "    .dataframe tbody tr th:only-of-type {\n",
       "        vertical-align: middle;\n",
       "    }\n",
       "\n",
       "    .dataframe tbody tr th {\n",
       "        vertical-align: top;\n",
       "    }\n",
       "\n",
       "    .dataframe thead th {\n",
       "        text-align: right;\n",
       "    }\n",
       "</style>\n",
       "<table border=\"1\" class=\"dataframe\">\n",
       "  <thead>\n",
       "    <tr style=\"text-align: right;\">\n",
       "      <th></th>\n",
       "      <th>custid</th>\n",
       "      <th>y_gt</th>\n",
       "    </tr>\n",
       "  </thead>\n",
       "  <tbody>\n",
       "    <tr>\n",
       "      <th>5765</th>\n",
       "      <td>220704</td>\n",
       "      <td>0</td>\n",
       "    </tr>\n",
       "    <tr>\n",
       "      <th>6806</th>\n",
       "      <td>660734</td>\n",
       "      <td>1</td>\n",
       "    </tr>\n",
       "    <tr>\n",
       "      <th>4488</th>\n",
       "      <td>196131</td>\n",
       "      <td>0</td>\n",
       "    </tr>\n",
       "    <tr>\n",
       "      <th>7782</th>\n",
       "      <td>12769</td>\n",
       "      <td>0</td>\n",
       "    </tr>\n",
       "    <tr>\n",
       "      <th>7271</th>\n",
       "      <td>176956</td>\n",
       "      <td>0</td>\n",
       "    </tr>\n",
       "  </tbody>\n",
       "</table>\n",
       "</div>"
      ],
      "text/plain": [
       "      custid  y_gt\n",
       "5765  220704     0\n",
       "6806  660734     1\n",
       "4488  196131     0\n",
       "7782   12769     0\n",
       "7271  176956     0"
      ]
     },
     "execution_count": 9,
     "metadata": {},
     "output_type": "execute_result"
    }
   ],
   "source": [
    "churn_groundTruth = pd.DataFrame(df_inf[['custid','churn_Y']]).rename(columns = {'churn_Y': 'y_gt'})\n",
    "churn_groundTruth.head()"
   ]
  },
  {
   "cell_type": "markdown",
   "id": "5d33ab5f-8666-4da2-8d66-f69b4d72d16a",
   "metadata": {},
   "source": [
    "## ***\"churn_inputs_and_preds\"***\n",
    "#### Synthesized data df_inf - output(or churn_Y) + predictions (binaries) + probas (probability range)"
   ]
  },
  {
   "cell_type": "code",
   "execution_count": 10,
   "id": "64468112-c2d1-4863-ab37-8e5c097aab11",
   "metadata": {},
   "outputs": [],
   "source": [
    "#Create data set with predictions and pred probabilities\n",
    "preds_df = pd.DataFrame(data=predictions, columns=['churn_Y'], index=churn_groundTruth.index)\n",
    "#preds_df.head()"
   ]
  },
  {
   "cell_type": "code",
   "execution_count": 11,
   "id": "bfbe8e29-f770-4c4b-afeb-b29e67403952",
   "metadata": {},
   "outputs": [],
   "source": [
    "preds_df['predictionProbability']= probas\n",
    "#preds_df.head()"
   ]
  },
  {
   "cell_type": "code",
   "execution_count": 14,
   "id": "b11e27d7-7afa-46d2-8451-69134c4c234c",
   "metadata": {},
   "outputs": [],
   "source": [
    "#join prediction and prob data with input features dropping churn_Y\n",
    "churn_inputs_and_preds = df_inf.drop('churn_Y', axis =1)\\\n",
    ".join(preds_df, how = 'inner').drop_duplicates(subset = 'custid')"
   ]
  },
  {
   "cell_type": "markdown",
   "id": "9e1786b5-ccd4-47b0-a6e1-cf14696cea5b",
   "metadata": {},
   "source": [
    "#### Adding Gender feature to the churn_inputs_and_preds"
   ]
  },
  {
   "cell_type": "code",
   "execution_count": 15,
   "id": "a34a6bd2-939b-4f87-824e-be13c14cb846",
   "metadata": {},
   "outputs": [
    {
     "data": {
      "text/html": [
       "<div>\n",
       "<style scoped>\n",
       "    .dataframe tbody tr th:only-of-type {\n",
       "        vertical-align: middle;\n",
       "    }\n",
       "\n",
       "    .dataframe tbody tr th {\n",
       "        vertical-align: top;\n",
       "    }\n",
       "\n",
       "    .dataframe thead th {\n",
       "        text-align: right;\n",
       "    }\n",
       "</style>\n",
       "<table border=\"1\" class=\"dataframe\">\n",
       "  <thead>\n",
       "    <tr style=\"text-align: right;\">\n",
       "      <th></th>\n",
       "      <th>custid</th>\n",
       "      <th>dropperc</th>\n",
       "      <th>mins</th>\n",
       "      <th>consecmonths</th>\n",
       "      <th>income</th>\n",
       "      <th>age</th>\n",
       "      <th>churn_Y</th>\n",
       "      <th>predictionProbability</th>\n",
       "      <th>Gender</th>\n",
       "    </tr>\n",
       "  </thead>\n",
       "  <tbody>\n",
       "    <tr>\n",
       "      <th>34</th>\n",
       "      <td>637086</td>\n",
       "      <td>0.018440</td>\n",
       "      <td>508</td>\n",
       "      <td>21</td>\n",
       "      <td>48.7</td>\n",
       "      <td>50</td>\n",
       "      <td>0</td>\n",
       "      <td>[0.6090107986648576, 0.3909892013351424]</td>\n",
       "      <td>F</td>\n",
       "    </tr>\n",
       "    <tr>\n",
       "      <th>52</th>\n",
       "      <td>104723</td>\n",
       "      <td>0.020000</td>\n",
       "      <td>270</td>\n",
       "      <td>36</td>\n",
       "      <td>48.0</td>\n",
       "      <td>57</td>\n",
       "      <td>0</td>\n",
       "      <td>[0.5734636468975443, 0.4265363531024557]</td>\n",
       "      <td>NB</td>\n",
       "    </tr>\n",
       "    <tr>\n",
       "      <th>85</th>\n",
       "      <td>710781</td>\n",
       "      <td>0.022294</td>\n",
       "      <td>382</td>\n",
       "      <td>36</td>\n",
       "      <td>139.4</td>\n",
       "      <td>44</td>\n",
       "      <td>0</td>\n",
       "      <td>[0.5389269651462885, 0.46107303485371154]</td>\n",
       "      <td>F</td>\n",
       "    </tr>\n",
       "    <tr>\n",
       "      <th>92</th>\n",
       "      <td>474931</td>\n",
       "      <td>0.018239</td>\n",
       "      <td>439</td>\n",
       "      <td>30</td>\n",
       "      <td>121.3</td>\n",
       "      <td>50</td>\n",
       "      <td>0</td>\n",
       "      <td>[0.5582189574030647, 0.44178104259693524]</td>\n",
       "      <td>M</td>\n",
       "    </tr>\n",
       "    <tr>\n",
       "      <th>112</th>\n",
       "      <td>830428</td>\n",
       "      <td>0.020872</td>\n",
       "      <td>632</td>\n",
       "      <td>26</td>\n",
       "      <td>35.0</td>\n",
       "      <td>45</td>\n",
       "      <td>0</td>\n",
       "      <td>[0.5511284096124742, 0.4488715903875259]</td>\n",
       "      <td>NB</td>\n",
       "    </tr>\n",
       "  </tbody>\n",
       "</table>\n",
       "</div>"
      ],
      "text/plain": [
       "     custid  dropperc  mins  consecmonths  income  age  churn_Y  \\\n",
       "34   637086  0.018440   508            21    48.7   50        0   \n",
       "52   104723  0.020000   270            36    48.0   57        0   \n",
       "85   710781  0.022294   382            36   139.4   44        0   \n",
       "92   474931  0.018239   439            30   121.3   50        0   \n",
       "112  830428  0.020872   632            26    35.0   45        0   \n",
       "\n",
       "                         predictionProbability Gender  \n",
       "34    [0.6090107986648576, 0.3909892013351424]      F  \n",
       "52    [0.5734636468975443, 0.4265363531024557]     NB  \n",
       "85   [0.5389269651462885, 0.46107303485371154]      F  \n",
       "92   [0.5582189574030647, 0.44178104259693524]      M  \n",
       "112   [0.5511284096124742, 0.4488715903875259]     NB  "
      ]
     },
     "execution_count": 15,
     "metadata": {},
     "output_type": "execute_result"
    }
   ],
   "source": [
    "#Create 'protected class' feature to monitor for disparity in target distribution\n",
    "churn_inputs_and_preds['Gender']=np.random.randint(0,3, churn_inputs_and_preds.shape[0])\n",
    "mymap = {0:'M',1: 'F', 2: 'NB'}\n",
    "churn_inputs_and_preds['Gender'] = churn_inputs_and_preds['Gender'].apply(lambda x: mymap.get(x))\n",
    "churn_inputs_and_preds.head()"
   ]
  },
  {
   "cell_type": "markdown",
   "id": "9b47aadf-bfc4-4308-8d9f-0f50a5a67ea8",
   "metadata": {},
   "source": [
    "## Visualization (Gender vs Churn_Y (average))"
   ]
  },
  {
   "cell_type": "code",
   "execution_count": 16,
   "id": "9b331d1c-fe3d-4128-8ec8-b087e31d00ad",
   "metadata": {},
   "outputs": [
    {
     "data": {
      "image/png": "[encoded data removed]",
      "text/plain": [
       "<Figure size 864x288 with 1 Axes>"
      ]
     },
     "metadata": {
      "needs_background": "light"
     },
     "output_type": "display_data"
    }
   ],
   "source": [
    "#Add visualization of protected class for tracking purposes\n",
    "ax = sns.barplot(x = ['F', 'M', 'NB'], y = churn_inputs_and_preds.groupby('Gender').mean()['churn_Y'])\n",
    "\n",
    "ax.set_title('Churn By Gender')\n",
    "ax.set_ylabel('Proportion')\n",
    "ax.set_xlabel('Gender')\n",
    "fig = ax.get_figure()\n",
    "fig.set_size_inches(12,4)\n",
    "plt.gcf().subplots_adjust(left=0.5)\n",
    "\n",
    "#fig.savefig('/mnt/code/Viz/protected_class_monitoring.png')"
   ]
  },
  {
   "cell_type": "markdown",
   "id": "863d3a9d-d4d4-4a31-bd30-7862d76f01b2",
   "metadata": {},
   "source": [
    "## Check Pass for Writing Data ***inputs_and_preds*** & ***groundTruth***"
   ]
  },
  {
   "cell_type": "code",
   "execution_count": 17,
   "id": "49794746-8f5f-42a5-82dd-54a3a74b9a62",
   "metadata": {},
   "outputs": [
    {
     "name": "stdout",
     "output_type": "stream",
     "text": [
      "Length Check Pass: True\n",
      "ID Check Pass: True\n"
     ]
    }
   ],
   "source": [
    "## Run two checks below to validate input and GT data is of same size and contains same custIDs\n",
    "\n",
    "lenCheck = churn_inputs_and_preds.shape[0]==churn_groundTruth.shape[0]\n",
    "print('Length Check Pass:', lenCheck)\n",
    "\n",
    "idCheck= (churn_inputs_and_preds.custid.sort_values()==churn_groundTruth.custid.sort_values())\\\n",
    ".sum() ==churn_inputs_and_preds.shape[0]\n",
    "print('ID Check Pass:', idCheck)"
   ]
  },
  {
   "cell_type": "code",
   "execution_count": 1,
   "id": "f82ead28-b8aa-4fc1-b0a6-85c82e7a711c",
   "metadata": {},
   "outputs": [
    {
     "ename": "NameError",
     "evalue": "name 'churn_inputs_and_preds' is not defined",
     "output_type": "error",
     "traceback": [
      "\u001b[0;31m---------------------------------------------------------------------------\u001b[0m",
      "\u001b[0;31mNameError\u001b[0m                                 Traceback (most recent call last)",
      "Input \u001b[0;32mIn [1]\u001b[0m, in \u001b[0;36m<module>\u001b[0;34m\u001b[0m\n\u001b[0;32m----> 1\u001b[0m \u001b[43mchurn_inputs_and_preds\u001b[49m\u001b[38;5;241m.\u001b[39mshape\n",
      "\u001b[0;31mNameError\u001b[0m: name 'churn_inputs_and_preds' is not defined"
     ]
    }
   ],
   "source": [
    "churn_inputs_and_preds.shape"
   ]
  },
  {
   "cell_type": "code",
   "execution_count": 19,
   "id": "c98da9fe-1c92-43e1-88a1-ab1abe4d9896",
   "metadata": {},
   "outputs": [
    {
     "data": {
      "text/plain": [
       "(378, 2)"
      ]
     },
     "execution_count": 19,
     "metadata": {},
     "output_type": "execute_result"
    }
   ],
   "source": [
    "churn_groundTruth.shape"
   ]
  },
  {
   "cell_type": "markdown",
   "id": "544c3e60-231c-476c-bd93-3d0d1cb26c78",
   "metadata": {},
   "source": [
    "## Writing Prediction and GT data locally to DailyData directory"
   ]
  },
  {
   "cell_type": "code",
   "execution_count": 20,
   "id": "57590c04-151a-410f-bf51-a5fb578ffd60",
   "metadata": {},
   "outputs": [],
   "source": [
    "# Write input and pred data to DailyData folder #\n",
    "daily_data_path = '/mnt/code/DailyData/'\n",
    "input_and_pred_path = str(daily_data_path+'inputs_and_preds_'+str(datetime.date.today())+'.csv')\n",
    "ground_truth_path = str(daily_data_path+'ground_truth_'+str(datetime.date.today())+'.csv')\n",
    "\n",
    "# saving Prediction data to csv\n",
    "churn_inputs_and_preds.to_csv(input_and_pred_path, index = False)\n",
    "\n",
    "# saving Ground Truth data to csv\n",
    "churn_groundTruth.to_csv(ground_truth_path, index = False)"
   ]
  },
  {
   "cell_type": "markdown",
   "id": "079cdf17-a611-4cd1-9c89-edad0150c987",
   "metadata": {},
   "source": [
    "## Upload the Prediction data and Ground Truth to S3 bucket"
   ]
  },
  {
   "cell_type": "raw",
   "id": "3183cc37-b949-43f6-b268-5c9ef400990e",
   "metadata": {},
   "source": [
    "creating certs.py in the current directory and adding the following\n",
    "\n",
    "bucket = \"\"\n",
    "AWS_ACCESS_KEY_ID = \"\"\n",
    "AWS_SECRET_ACCESS_KEY = \"\"\n"
   ]
  },
  {
   "cell_type": "code",
   "execution_count": 21,
   "id": "76623338-6525-474a-b3f0-f9e943db68f6",
   "metadata": {},
   "outputs": [],
   "source": [
    "import certs\n",
    "bucket = certs.bucket"
   ]
  },
  {
   "cell_type": "code",
   "execution_count": 22,
   "id": "197458ad-6bc6-4f5b-999a-7eaa923b1d29",
   "metadata": {},
   "outputs": [
    {
     "name": "stdout",
     "output_type": "stream",
     "text": [
      "inputs_and_preds_2022-05-06.csv Upload Successful\n",
      "ground_truth_2022-05-06.csv Upload Successful\n"
     ]
    },
    {
     "data": {
      "text/plain": [
       "True"
      ]
     },
     "execution_count": 22,
     "metadata": {},
     "output_type": "execute_result"
    }
   ],
   "source": [
    "import upload_to_s3\n",
    "#Upload input&pred data and GT data to s3 bucket \n",
    "upload_to_s3.upload(input_and_pred_path, bucket)\n",
    "upload_to_s3.upload(ground_truth_path, bucket)"
   ]
  },
  {
   "cell_type": "markdown",
   "id": "5e340b01-80d4-4c55-9106-22a060e399c7",
   "metadata": {},
   "source": [
    "## DMM Prediction and GT registration"
   ]
  },
  {
   "cell_type": "markdown",
   "id": "1589f76f-edbb-4297-a93d-6112a60537b2",
   "metadata": {},
   "source": [
    "At the end of the above stage there must be at least 5 files in your Amazon S3 bucket:\n",
    "1. ChurnTrainingDataPP.csv\n",
    "2. inputs_and_preds_2021-09-16.csv\n",
    "3. ground_truth_2021-09-16.csv\n",
    "4. inputs_and_preds_xxxx-xx-xx.csv\n",
    "5. ground_truth_xxxx-xx-xx.csv"
   ]
  },
  {
   "cell_type": "markdown",
   "id": "068dbefa-6aa7-42d9-9a3d-62ad80f08c7f",
   "metadata": {},
   "source": [
    "### 1. Register the model using the following format"
   ]
  },
  {
   "cell_type": "raw",
   "id": "3d55e4e8-a11f-4ce1-b295-a342f6740635",
   "metadata": {},
   "source": [
    "{\n",
    "    \"variables\": [\n",
    "        {\n",
    "            \"name\": \"custid\",\n",
    "            \"valueType\": \"string\",\n",
    "            \"variableType\": \"row_identifier\"\n",
    "        },\n",
    "        {\n",
    "            \"name\": \"dropperc\",\n",
    "            \"valueType\": \"numerical\",\n",
    "            \"variableType\": \"feature\",\n",
    "            \"featureImportance\": 0.7\n",
    "        },\n",
    "        {\n",
    "            \"name\": \"mins\",\n",
    "            \"valueType\": \"numerical\",\n",
    "            \"variableType\": \"feature\",\n",
    "            \"featureImportance\": 0.9\n",
    "        },\n",
    "        {\n",
    "            \"name\": \"consecmonths\",\n",
    "            \"valueType\": \"numerical\",\n",
    "            \"variableType\": \"feature\",\n",
    "            \"featureImportance\": 0.1\n",
    "        },\n",
    "        {\n",
    "            \"name\": \"income\",\n",
    "            \"valueType\": \"numerical\",\n",
    "            \"variableType\": \"feature\",\n",
    "            \"featureImportance\": 0.3\n",
    "        },\n",
    "        {\n",
    "            \"name\": \"age\",\n",
    "            \"valueType\": \"numerical\",\n",
    "            \"variableType\": \"feature\",\n",
    "            \"featureImportance\": 0.5\n",
    "        },\n",
    "        {\n",
    "            \"name\": \"churn_Y\",\n",
    "            \"valueType\": \"categorical\",\n",
    "            \"variableType\": \"prediction\"\n",
    "        },\n",
    "        {\n",
    "            \"name\": \"predictionProbability\",\n",
    "            \"valueType\": \"numerical\",\n",
    "            \"variableType\": \"prediction_probability\",\n",
    "            \"forPredictionOutput\": \"churn_Y\"\n",
    "        }\n",
    "    ],\n",
    "    \"datasetDetails\": {\n",
    "        \"name\": \"ChurnTrainingDataPP.csv\",\n",
    "        \"datasetType\": \"file\",\n",
    "        \"datasetConfig\": {\n",
    "            \"path\": \"ChurnTrainingDataPP.csv\",    \n",
    "            \"fileFormat\": \"csv\"\n",
    "        },\n",
    "        \"datasourceName\": \"DMM-Classification-S3\", # Change it to yours\n",
    "        \"datasourceType\": \"s3\"\n",
    "    },\n",
    "    \"modelMetadata\": {\n",
    "        \"name\": \"customer-churn\",                  # Change it to yours\n",
    "        \"modelType\": \"classification\",\n",
    "        \"version\": \"1.0\",\n",
    "        \"description\": \"Classification model to predict customer churn\",\n",
    "        \"author\": \"Alireza Mounesi\"                # Change it to yours\n",
    "    }\n",
    "}"
   ]
  },
  {
   "cell_type": "markdown",
   "id": "2e47e080-2e61-4e31-8f01-10e1291531e7",
   "metadata": {},
   "source": [
    "### 2. Register the Prediction data"
   ]
  },
  {
   "cell_type": "raw",
   "id": "64a378ed-ac12-4942-ada4-9a3ce9439310",
   "metadata": {},
   "source": [
    "{\n",
    "\n",
    "    \"datasetDetails\": {\n",
    "        \"name\": \"inputs_and_preds_2021-09-16.csv\",\n",
    "        \"datasetType\": \"file\",\n",
    "        \"datasetConfig\": {\n",
    "            \"path\": \"inputs_and_preds_2021-09-16.csv\",\n",
    "            \"fileFormat\": \"csv\"\n",
    "        },\n",
    "        \"datasourceName\": \"DMM-Classification-S3\",      # Change it to yours\n",
    "        \"datasourceType\": \"s3\"\n",
    "    }\n",
    "}"
   ]
  },
  {
   "cell_type": "markdown",
   "id": "fd031350-9f2a-4eec-8220-a4c4223788c6",
   "metadata": {},
   "source": [
    "### 3. Register the Ground Truth data *initial registration*"
   ]
  },
  {
   "cell_type": "raw",
   "id": "18f3f04a-8bd0-48fc-a23b-8a5860173a7a",
   "metadata": {},
   "source": [
    "{\n",
    "    \"variables\": [                                 # Only first time\n",
    "        {                                          # Only first time\n",
    "            \"valueType\": \"categorical\",            # Only first time\n",
    "            \"variableType\": \"ground_truth\",        # Only first time\n",
    "            \"name\": \"y_gt\",                        # Only first time\n",
    "            \"forPredictionOutput\": \"churn_Y\"       # Only first time\n",
    "        }                                          # Only first time\n",
    "    ],                                             # Only first time\n",
    "\n",
    "    \"datasetDetails\": {\n",
    "        \"name\": \"ground_truth_2021-09-16.csv\",     # Change it to yours \n",
    "        \"datasetType\": \"file\",\n",
    "        \"datasetConfig\": {\n",
    "            \"path\": \"ground_truth_2021-09-16.csv\", # Change it to yours\n",
    "            \"fileFormat\": \"csv\"\n",
    "        },\n",
    "        \"datasourceName\": \"DMM-Classification-S3\", # Change it to yours\n",
    "        \"datasourceType\": \"s3\"\n",
    "    }\n",
    "}"
   ]
  },
  {
   "cell_type": "markdown",
   "id": "0d16603d-0510-4cc1-9e3d-ae69304dba45",
   "metadata": {},
   "source": [
    "### 4. Register the Prediction data (calculated in this notebook)"
   ]
  },
  {
   "cell_type": "raw",
   "id": "e5298c2c-e114-48db-90b3-963f22dc6740",
   "metadata": {},
   "source": [
    "{\n",
    "\n",
    "    \"datasetDetails\": {\n",
    "        \"name\": \"inputs_and_preds_xxxx-xx-xx.csv\",\n",
    "        \"datasetType\": \"file\",\n",
    "        \"datasetConfig\": {\n",
    "            \"path\": \"inputs_and_preds_xxxx-xx-xx.csv\",\n",
    "            \"fileFormat\": \"csv\"\n",
    "        },\n",
    "        \"datasourceName\": \"DMM-Classification-S3\",      # Change it to yours\n",
    "        \"datasourceType\": \"s3\"\n",
    "    }\n",
    "}"
   ]
  },
  {
   "cell_type": "markdown",
   "id": "e72bd0c0-6534-4cac-a17c-de1fafcda30c",
   "metadata": {},
   "source": [
    "### 5. Register the Ground Truth data (calculated in this notebook)"
   ]
  },
  {
   "cell_type": "raw",
   "id": "8bbf4b84-b60a-4954-9920-02253d374267",
   "metadata": {},
   "source": [
    "{\n",
    "    \"datasetDetails\": {\n",
    "        \"name\": \"ground_truth_xxxx-xx-xx.csv\",     # Change it to what calculated in this jupyter file\n",
    "        \"datasetType\": \"file\",\n",
    "        \"datasetConfig\": {\n",
    "            \"path\": \"ground_truth_xxxx-xx-xx.csv\", # Change it to what calculated in this jupyter file\n",
    "            \"fileFormat\": \"csv\"\n",
    "        },\n",
    "        \"datasourceName\": \"DMM-Classification-S3\", # Change it to yours\n",
    "        \"datasourceType\": \"s3\"\n",
    "    }\n",
    "}"
   ]
  }
 ],
 "metadata": {
  "kernelspec": {
   "display_name": "Python 3 (ipykernel)",
   "language": "python",
   "name": "python3"
  },
  "language_info": {
   "codemirror_mode": {
    "name": "ipython",
    "version": 3
   },
   "file_extension": ".py",
   "mimetype": "text/x-python",
   "name": "python",
   "nbconvert_exporter": "python",
   "pygments_lexer": "ipython3",
   "version": "3.8.12"
  }
 },
 "nbformat": 4,
 "nbformat_minor": 5
}
