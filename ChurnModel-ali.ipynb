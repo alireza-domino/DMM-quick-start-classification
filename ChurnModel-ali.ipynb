{
 "cells": [
  {
   "cell_type": "code",
   "execution_count": 45,
   "id": "d0fd14bf-cc44-4755-99b6-82e6226f1e3b",
   "metadata": {},
   "outputs": [],
   "source": [
    "import pandas as pd\n",
    "import numpy as np\n",
    "import random\n",
    "import pickle\n",
    "import datetime\n",
    "import seaborn as sns\n",
    "import matplotlib as plt"
   ]
  },
  {
   "cell_type": "code",
   "execution_count": null,
   "id": "c0c9f2a5-920b-4279-977b-ab4a775dc834",
   "metadata": {},
   "outputs": [],
   "source": []
  },
  {
   "cell_type": "code",
   "execution_count": null,
   "id": "7fc2d8e4-732c-4940-8e23-bd50d8689e21",
   "metadata": {},
   "outputs": [],
   "source": []
  },
  {
   "cell_type": "code",
   "execution_count": 4,
   "id": "a3c4473a-ead2-4a6d-9f56-5e48e3e9193e",
   "metadata": {},
   "outputs": [
    {
     "name": "stdout",
     "output_type": "stream",
     "text": [
      "(7939, 7)\n"
     ]
    }
   ],
   "source": [
    "#Bring in data used to train pickled model that is loaded in later\n",
    "df = pd.read_csv('/mnt/code/Test&TrainData/ChurnTrainingDataPP.csv')\n",
    "df.drop('predictionProbability', axis =1,inplace = True)\n",
    "print(df.shape)\n"
   ]
  },
  {
   "cell_type": "code",
   "execution_count": 5,
   "id": "0bac4eac-e64e-40d3-be60-0ac12f5f9265",
   "metadata": {},
   "outputs": [],
   "source": [
    "#append data to istelf to double volume\n",
    "df2 = df.append(df)"
   ]
  },
  {
   "cell_type": "code",
   "execution_count": 8,
   "id": "e55e03e1-1912-4277-8927-e4be35763095",
   "metadata": {},
   "outputs": [],
   "source": [
    "#Reset custid field so that there are no repeats\n",
    "df2['custid'] = np.random.choice(range(df.custid.min(), df.custid.max()),df2.shape[0], replace=False)"
   ]
  },
  {
   "cell_type": "code",
   "execution_count": 11,
   "id": "42892713-7770-402b-be93-3ec622566e97",
   "metadata": {},
   "outputs": [],
   "source": [
    "##For each input feature adjust data and round/cast as necessary\n",
    "#dropperc - 50%-150%\n",
    "droppJitter = df2.dropperc.apply(lambda x : x*(random.randrange(50,150))/100)\n",
    "#mins - 70%-130%\n",
    "minsJitter = df2.mins.apply(lambda x : x*(random.randrange(70,130)/100)).round(0).astype(int)\n",
    "#consecMonths - 80%-120%\n",
    "consecMonthsJitter = df2.consecmonths.apply(lambda x : x*(random.randrange(80,120)/100)).round(0).astype(int)\n",
    "#Income - 40%-160%\n",
    "incomeJitter = df2.income.apply(lambda x : x*(random.randrange(40,160)/100)).round(1)\n",
    "#age - 90%-110%\n",
    "ageJitter = df2.age.apply(lambda x : x*(random.randrange(90,110)/100)).round(0).astype(int)\n"
   ]
  },
  {
   "cell_type": "code",
   "execution_count": 12,
   "id": "48cec2c7-4d95-444b-9573-015dae2f6312",
   "metadata": {},
   "outputs": [],
   "source": [
    "#Take all the new 'jittered' variables and write to a new df\n",
    "#Keep original custid and churn_Y fields\n",
    "df3 = pd.DataFrame({'custid': df2.custid,\n",
    "       'dropperc': droppJitter, \n",
    "       'mins': minsJitter,\n",
    "       'consecmonths': consecMonthsJitter,\n",
    "       'income': incomeJitter,\n",
    "       'age': ageJitter,\n",
    "       'churn_Y': df2.churn_Y\n",
    "                   })"
   ]
  },
  {
   "cell_type": "code",
   "execution_count": 13,
   "id": "201a84f1-e34d-4dd4-af3c-ba8f4769f0e6",
   "metadata": {},
   "outputs": [
    {
     "data": {
      "text/html": [
       "<div>\n",
       "<style scoped>\n",
       "    .dataframe tbody tr th:only-of-type {\n",
       "        vertical-align: middle;\n",
       "    }\n",
       "\n",
       "    .dataframe tbody tr th {\n",
       "        vertical-align: top;\n",
       "    }\n",
       "\n",
       "    .dataframe thead th {\n",
       "        text-align: right;\n",
       "    }\n",
       "</style>\n",
       "<table border=\"1\" class=\"dataframe\">\n",
       "  <thead>\n",
       "    <tr style=\"text-align: right;\">\n",
       "      <th></th>\n",
       "      <th>custid</th>\n",
       "      <th>dropperc</th>\n",
       "      <th>mins</th>\n",
       "      <th>consecmonths</th>\n",
       "      <th>income</th>\n",
       "      <th>age</th>\n",
       "      <th>churn_Y</th>\n",
       "    </tr>\n",
       "  </thead>\n",
       "  <tbody>\n",
       "    <tr>\n",
       "      <th>0</th>\n",
       "      <td>747546</td>\n",
       "      <td>0.013418</td>\n",
       "      <td>484</td>\n",
       "      <td>27</td>\n",
       "      <td>86.5</td>\n",
       "      <td>42</td>\n",
       "      <td>0</td>\n",
       "    </tr>\n",
       "    <tr>\n",
       "      <th>1</th>\n",
       "      <td>68948</td>\n",
       "      <td>0.019266</td>\n",
       "      <td>382</td>\n",
       "      <td>38</td>\n",
       "      <td>58.5</td>\n",
       "      <td>39</td>\n",
       "      <td>0</td>\n",
       "    </tr>\n",
       "    <tr>\n",
       "      <th>2</th>\n",
       "      <td>757063</td>\n",
       "      <td>0.020556</td>\n",
       "      <td>484</td>\n",
       "      <td>34</td>\n",
       "      <td>36.5</td>\n",
       "      <td>44</td>\n",
       "      <td>0</td>\n",
       "    </tr>\n",
       "    <tr>\n",
       "      <th>3</th>\n",
       "      <td>571585</td>\n",
       "      <td>0.007246</td>\n",
       "      <td>651</td>\n",
       "      <td>32</td>\n",
       "      <td>72.1</td>\n",
       "      <td>32</td>\n",
       "      <td>0</td>\n",
       "    </tr>\n",
       "    <tr>\n",
       "      <th>4</th>\n",
       "      <td>802558</td>\n",
       "      <td>0.014194</td>\n",
       "      <td>635</td>\n",
       "      <td>5</td>\n",
       "      <td>116.8</td>\n",
       "      <td>45</td>\n",
       "      <td>0</td>\n",
       "    </tr>\n",
       "  </tbody>\n",
       "</table>\n",
       "</div>"
      ],
      "text/plain": [
       "   custid  dropperc  mins  consecmonths  income  age  churn_Y\n",
       "0  747546  0.013418   484            27    86.5   42        0\n",
       "1   68948  0.019266   382            38    58.5   39        0\n",
       "2  757063  0.020556   484            34    36.5   44        0\n",
       "3  571585  0.007246   651            32    72.1   32        0\n",
       "4  802558  0.014194   635             5   116.8   45        0"
      ]
     },
     "execution_count": 13,
     "metadata": {},
     "output_type": "execute_result"
    }
   ],
   "source": [
    "df3.head()"
   ]
  },
  {
   "cell_type": "code",
   "execution_count": 14,
   "id": "948141f0-b4d9-4bc2-966e-51a04def9167",
   "metadata": {},
   "outputs": [
    {
     "name": "stdout",
     "output_type": "stream",
     "text": [
      "Correlations between original and altered vars -\n",
      "custid: 1.0\n",
      "dropperc: 0.7212\n",
      "mins: 0.7447\n",
      "consecmonths: 0.9287\n",
      "income: 0.6172\n",
      "age: 0.9691\n",
      "churn_Y: 1.0\n"
     ]
    }
   ],
   "source": [
    "#Understand correlations between new jittered data and original\n",
    "#Should see larger data drift for lower correlations\n",
    "concatset = pd.concat([df2,df3], axis =1)\n",
    "concatset.columns=(list(df2.columns)+list('Jittered_'+df3.columns))\n",
    "print('Correlations between original and altered vars -')\n",
    "for i,k in enumerate(df2.columns):\n",
    "    print('{}: {}'.format(k, concatset.corr()[k]['Jittered_'+k].round(4)))\n"
   ]
  },
  {
   "cell_type": "code",
   "execution_count": 17,
   "id": "a2a2f037-7b1b-4a1b-b3db-5c07f07813d1",
   "metadata": {},
   "outputs": [
    {
     "name": "stderr",
     "output_type": "stream",
     "text": [
      "/opt/conda/lib/python3.8/site-packages/sklearn/base.py:324: UserWarning: Trying to unpickle estimator DecisionTreeClassifier from version 0.22.2 when using version 1.0.1. This might lead to breaking code or invalid results. Use at your own risk. For more info please refer to:\n",
      "https://scikit-learn.org/stable/modules/model_persistence.html#security-maintainability-limitations\n",
      "  warnings.warn(\n",
      "/opt/conda/lib/python3.8/site-packages/sklearn/base.py:324: UserWarning: Trying to unpickle estimator AdaBoostClassifier from version 0.22.2 when using version 1.0.1. This might lead to breaking code or invalid results. Use at your own risk. For more info please refer to:\n",
      "https://scikit-learn.org/stable/modules/model_persistence.html#security-maintainability-limitations\n",
      "  warnings.warn(\n"
     ]
    }
   ],
   "source": [
    "#Load in trained model object    \n",
    "loaded_model = pickle.load(open('/mnt/code/models/ChurnBinaryClassifier.pkl', 'rb'))"
   ]
  },
  {
   "cell_type": "code",
   "execution_count": 18,
   "id": "eede2ca9-0a9b-4701-b318-c6598959d7df",
   "metadata": {},
   "outputs": [
    {
     "name": "stdout",
     "output_type": "stream",
     "text": [
      "381 records selected for sample\n"
     ]
    }
   ],
   "source": [
    "#Grab between 100 and 500 random rows from jittered data\n",
    "df_inf = df3.sample(n = random.randint(100,500))\n",
    "print(df_inf.shape[0], \"records selected for sample\")"
   ]
  },
  {
   "cell_type": "code",
   "execution_count": 28,
   "id": "a29b4f6d-bf9f-4f26-b3eb-20658cd6b0b5",
   "metadata": {},
   "outputs": [
    {
     "data": {
      "text/html": [
       "<div>\n",
       "<style scoped>\n",
       "    .dataframe tbody tr th:only-of-type {\n",
       "        vertical-align: middle;\n",
       "    }\n",
       "\n",
       "    .dataframe tbody tr th {\n",
       "        vertical-align: top;\n",
       "    }\n",
       "\n",
       "    .dataframe thead th {\n",
       "        text-align: right;\n",
       "    }\n",
       "</style>\n",
       "<table border=\"1\" class=\"dataframe\">\n",
       "  <thead>\n",
       "    <tr style=\"text-align: right;\">\n",
       "      <th></th>\n",
       "      <th>dropperc</th>\n",
       "      <th>mins</th>\n",
       "      <th>consecmonths</th>\n",
       "      <th>income</th>\n",
       "      <th>age</th>\n",
       "    </tr>\n",
       "  </thead>\n",
       "  <tbody>\n",
       "    <tr>\n",
       "      <th>385</th>\n",
       "      <td>0.007078</td>\n",
       "      <td>683</td>\n",
       "      <td>40</td>\n",
       "      <td>139.0</td>\n",
       "      <td>42</td>\n",
       "    </tr>\n",
       "    <tr>\n",
       "      <th>6510</th>\n",
       "      <td>0.018528</td>\n",
       "      <td>415</td>\n",
       "      <td>29</td>\n",
       "      <td>77.7</td>\n",
       "      <td>53</td>\n",
       "    </tr>\n",
       "    <tr>\n",
       "      <th>2450</th>\n",
       "      <td>0.023496</td>\n",
       "      <td>335</td>\n",
       "      <td>28</td>\n",
       "      <td>53.0</td>\n",
       "      <td>49</td>\n",
       "    </tr>\n",
       "    <tr>\n",
       "      <th>2812</th>\n",
       "      <td>0.019167</td>\n",
       "      <td>519</td>\n",
       "      <td>16</td>\n",
       "      <td>57.7</td>\n",
       "      <td>26</td>\n",
       "    </tr>\n",
       "    <tr>\n",
       "      <th>3028</th>\n",
       "      <td>0.023949</td>\n",
       "      <td>532</td>\n",
       "      <td>6</td>\n",
       "      <td>51.2</td>\n",
       "      <td>47</td>\n",
       "    </tr>\n",
       "  </tbody>\n",
       "</table>\n",
       "</div>"
      ],
      "text/plain": [
       "      dropperc  mins  consecmonths  income  age\n",
       "385   0.007078   683            40   139.0   42\n",
       "6510  0.018528   415            29    77.7   53\n",
       "2450  0.023496   335            28    53.0   49\n",
       "2812  0.019167   519            16    57.7   26\n",
       "3028  0.023949   532             6    51.2   47"
      ]
     },
     "execution_count": 28,
     "metadata": {},
     "output_type": "execute_result"
    }
   ],
   "source": [
    "#Save input features\n",
    "X = df_inf.loc[:, 'dropperc':'age']\n",
    "X.head()"
   ]
  },
  {
   "cell_type": "code",
   "execution_count": 20,
   "id": "97da2edc-97ad-4857-b348-cb3ad5683052",
   "metadata": {},
   "outputs": [
    {
     "name": "stderr",
     "output_type": "stream",
     "text": [
      "/opt/conda/lib/python3.8/site-packages/sklearn/base.py:438: UserWarning: X has feature names, but AdaBoostClassifier was fitted without feature names\n",
      "  warnings.warn(\n",
      "/opt/conda/lib/python3.8/site-packages/sklearn/base.py:438: UserWarning: X has feature names, but AdaBoostClassifier was fitted without feature names\n",
      "  warnings.warn(\n"
     ]
    }
   ],
   "source": [
    "#Get model predictions for the sample of input features defined above\n",
    "predictions = loaded_model.predict(X)\n",
    "#Get model prediction probabilities for the sample of input features defined above\n",
    "probas = loaded_model.predict_proba(X)"
   ]
  },
  {
   "cell_type": "code",
   "execution_count": 22,
   "id": "d9d747ac-7bb8-4276-afc2-62356a7e3891",
   "metadata": {},
   "outputs": [
    {
     "data": {
      "text/html": [
       "<div>\n",
       "<style scoped>\n",
       "    .dataframe tbody tr th:only-of-type {\n",
       "        vertical-align: middle;\n",
       "    }\n",
       "\n",
       "    .dataframe tbody tr th {\n",
       "        vertical-align: top;\n",
       "    }\n",
       "\n",
       "    .dataframe thead th {\n",
       "        text-align: right;\n",
       "    }\n",
       "</style>\n",
       "<table border=\"1\" class=\"dataframe\">\n",
       "  <thead>\n",
       "    <tr style=\"text-align: right;\">\n",
       "      <th></th>\n",
       "      <th>custid</th>\n",
       "      <th>dropperc</th>\n",
       "      <th>mins</th>\n",
       "      <th>consecmonths</th>\n",
       "      <th>income</th>\n",
       "      <th>age</th>\n",
       "      <th>churn_Y</th>\n",
       "    </tr>\n",
       "  </thead>\n",
       "  <tbody>\n",
       "    <tr>\n",
       "      <th>385</th>\n",
       "      <td>683338</td>\n",
       "      <td>0.007078</td>\n",
       "      <td>683</td>\n",
       "      <td>40</td>\n",
       "      <td>139.0</td>\n",
       "      <td>42</td>\n",
       "      <td>0</td>\n",
       "    </tr>\n",
       "    <tr>\n",
       "      <th>6510</th>\n",
       "      <td>659899</td>\n",
       "      <td>0.018528</td>\n",
       "      <td>415</td>\n",
       "      <td>29</td>\n",
       "      <td>77.7</td>\n",
       "      <td>53</td>\n",
       "      <td>0</td>\n",
       "    </tr>\n",
       "    <tr>\n",
       "      <th>2450</th>\n",
       "      <td>117604</td>\n",
       "      <td>0.023496</td>\n",
       "      <td>335</td>\n",
       "      <td>28</td>\n",
       "      <td>53.0</td>\n",
       "      <td>49</td>\n",
       "      <td>0</td>\n",
       "    </tr>\n",
       "    <tr>\n",
       "      <th>2812</th>\n",
       "      <td>255747</td>\n",
       "      <td>0.019167</td>\n",
       "      <td>519</td>\n",
       "      <td>16</td>\n",
       "      <td>57.7</td>\n",
       "      <td>26</td>\n",
       "      <td>0</td>\n",
       "    </tr>\n",
       "    <tr>\n",
       "      <th>3028</th>\n",
       "      <td>492236</td>\n",
       "      <td>0.023949</td>\n",
       "      <td>532</td>\n",
       "      <td>6</td>\n",
       "      <td>51.2</td>\n",
       "      <td>47</td>\n",
       "      <td>0</td>\n",
       "    </tr>\n",
       "  </tbody>\n",
       "</table>\n",
       "</div>"
      ],
      "text/plain": [
       "      custid  dropperc  mins  consecmonths  income  age  churn_Y\n",
       "385   683338  0.007078   683            40   139.0   42        0\n",
       "6510  659899  0.018528   415            29    77.7   53        0\n",
       "2450  117604  0.023496   335            28    53.0   49        0\n",
       "2812  255747  0.019167   519            16    57.7   26        0\n",
       "3028  492236  0.023949   532             6    51.2   47        0"
      ]
     },
     "execution_count": 22,
     "metadata": {},
     "output_type": "execute_result"
    }
   ],
   "source": [
    "df_inf.head()"
   ]
  },
  {
   "cell_type": "code",
   "execution_count": 24,
   "id": "e98e6303-283c-472c-ba68-258dafca8798",
   "metadata": {},
   "outputs": [
    {
     "data": {
      "text/html": [
       "<div>\n",
       "<style scoped>\n",
       "    .dataframe tbody tr th:only-of-type {\n",
       "        vertical-align: middle;\n",
       "    }\n",
       "\n",
       "    .dataframe tbody tr th {\n",
       "        vertical-align: top;\n",
       "    }\n",
       "\n",
       "    .dataframe thead th {\n",
       "        text-align: right;\n",
       "    }\n",
       "</style>\n",
       "<table border=\"1\" class=\"dataframe\">\n",
       "  <thead>\n",
       "    <tr style=\"text-align: right;\">\n",
       "      <th></th>\n",
       "      <th>custid</th>\n",
       "      <th>churn_Y</th>\n",
       "    </tr>\n",
       "  </thead>\n",
       "  <tbody>\n",
       "    <tr>\n",
       "      <th>385</th>\n",
       "      <td>683338</td>\n",
       "      <td>0</td>\n",
       "    </tr>\n",
       "    <tr>\n",
       "      <th>6510</th>\n",
       "      <td>659899</td>\n",
       "      <td>0</td>\n",
       "    </tr>\n",
       "    <tr>\n",
       "      <th>2450</th>\n",
       "      <td>117604</td>\n",
       "      <td>0</td>\n",
       "    </tr>\n",
       "    <tr>\n",
       "      <th>2812</th>\n",
       "      <td>255747</td>\n",
       "      <td>0</td>\n",
       "    </tr>\n",
       "    <tr>\n",
       "      <th>3028</th>\n",
       "      <td>492236</td>\n",
       "      <td>0</td>\n",
       "    </tr>\n",
       "  </tbody>\n",
       "</table>\n",
       "</div>"
      ],
      "text/plain": [
       "      custid  churn_Y\n",
       "385   683338        0\n",
       "6510  659899        0\n",
       "2450  117604        0\n",
       "2812  255747        0\n",
       "3028  492236        0"
      ]
     },
     "execution_count": 24,
     "metadata": {},
     "output_type": "execute_result"
    }
   ],
   "source": [
    "x_df_1= df_inf[['custid','churn_Y']]\n",
    "x_df_1.head()"
   ]
  },
  {
   "cell_type": "code",
   "execution_count": 26,
   "id": "1af429fb-e8e2-4b4c-a376-fafeb57351af",
   "metadata": {},
   "outputs": [
    {
     "data": {
      "text/html": [
       "<div>\n",
       "<style scoped>\n",
       "    .dataframe tbody tr th:only-of-type {\n",
       "        vertical-align: middle;\n",
       "    }\n",
       "\n",
       "    .dataframe tbody tr th {\n",
       "        vertical-align: top;\n",
       "    }\n",
       "\n",
       "    .dataframe thead th {\n",
       "        text-align: right;\n",
       "    }\n",
       "</style>\n",
       "<table border=\"1\" class=\"dataframe\">\n",
       "  <thead>\n",
       "    <tr style=\"text-align: right;\">\n",
       "      <th></th>\n",
       "      <th>custid</th>\n",
       "      <th>y_gt</th>\n",
       "    </tr>\n",
       "  </thead>\n",
       "  <tbody>\n",
       "    <tr>\n",
       "      <th>385</th>\n",
       "      <td>683338</td>\n",
       "      <td>0</td>\n",
       "    </tr>\n",
       "    <tr>\n",
       "      <th>6510</th>\n",
       "      <td>659899</td>\n",
       "      <td>0</td>\n",
       "    </tr>\n",
       "    <tr>\n",
       "      <th>2450</th>\n",
       "      <td>117604</td>\n",
       "      <td>0</td>\n",
       "    </tr>\n",
       "    <tr>\n",
       "      <th>2812</th>\n",
       "      <td>255747</td>\n",
       "      <td>0</td>\n",
       "    </tr>\n",
       "    <tr>\n",
       "      <th>3028</th>\n",
       "      <td>492236</td>\n",
       "      <td>0</td>\n",
       "    </tr>\n",
       "  </tbody>\n",
       "</table>\n",
       "</div>"
      ],
      "text/plain": [
       "      custid  y_gt\n",
       "385   683338     0\n",
       "6510  659899     0\n",
       "2450  117604     0\n",
       "2812  255747     0\n",
       "3028  492236     0"
      ]
     },
     "execution_count": 26,
     "metadata": {},
     "output_type": "execute_result"
    }
   ],
   "source": [
    "x_df_2 = x_df_1.rename(columns = {'churn_Y': 'y_gt'})\n",
    "x_df_2.head()"
   ]
  },
  {
   "cell_type": "code",
   "execution_count": 29,
   "id": "b98e69aa-edae-4a3d-bbd1-daaa2c280dab",
   "metadata": {},
   "outputs": [],
   "source": [
    "#write ground truth data out\n",
    "churn_groundTruth = pd.DataFrame(df_inf[['custid','churn_Y']]).rename(columns = {'churn_Y': 'y_gt'})"
   ]
  },
  {
   "cell_type": "code",
   "execution_count": 31,
   "id": "64468112-c2d1-4863-ab37-8e5c097aab11",
   "metadata": {},
   "outputs": [],
   "source": [
    "#Create data set with predictions and pred probabilities\n",
    "preds_df = pd.DataFrame(data=predictions, columns=['churn_Y'], index=churn_groundTruth.index)\n",
    "preds_df['predictionProbability']= tuple(probas)"
   ]
  },
  {
   "cell_type": "code",
   "execution_count": 32,
   "id": "7a1e90f6-03ad-485a-8293-fd911548a836",
   "metadata": {},
   "outputs": [],
   "source": [
    "#adjust format of pred probabilities\n",
    "preds_df['predictionProbability']=preds_df.predictionProbability.apply(lambda x : str(x).replace('(', '[').replace(')', ']'))"
   ]
  },
  {
   "cell_type": "code",
   "execution_count": 33,
   "id": "b11e27d7-7afa-46d2-8451-69134c4c234c",
   "metadata": {},
   "outputs": [],
   "source": [
    "#join prediction and prob data with input features\n",
    "churn_inputs_and_preds = df_inf.drop('churn_Y', axis =1)\\\n",
    ".join(preds_df, how = 'inner').drop_duplicates(subset = 'custid')"
   ]
  },
  {
   "cell_type": "code",
   "execution_count": 34,
   "id": "a34a6bd2-939b-4f87-824e-be13c14cb846",
   "metadata": {},
   "outputs": [],
   "source": [
    "#Create 'protected class' feature to monitor for disparity in target distribution\n",
    "churn_inputs_and_preds['Gender']=np.random.randint(0,3, churn_inputs_and_preds.shape[0])\n",
    "mymap = {0:'M',1: 'F', 2: 'NB'}\n",
    "churn_inputs_and_preds['Gender'] = churn_inputs_and_preds['Gender'].apply(lambda x: mymap.get(x))"
   ]
  },
  {
   "cell_type": "code",
   "execution_count": 41,
   "id": "9b331d1c-fe3d-4128-8ec8-b087e31d00ad",
   "metadata": {},
   "outputs": [
    {
     "ename": "AttributeError",
     "evalue": "module 'matplotlib' has no attribute 'gcf'",
     "output_type": "error",
     "traceback": [
      "\u001b[0;31m---------------------------------------------------------------------------\u001b[0m",
      "\u001b[0;31mAttributeError\u001b[0m                            Traceback (most recent call last)",
      "\u001b[0;32m/tmp/ipykernel_300/2289696352.py\u001b[0m in \u001b[0;36m<module>\u001b[0;34m\u001b[0m\n\u001b[1;32m      7\u001b[0m \u001b[0mfig\u001b[0m \u001b[0;34m=\u001b[0m \u001b[0max\u001b[0m\u001b[0;34m.\u001b[0m\u001b[0mget_figure\u001b[0m\u001b[0;34m(\u001b[0m\u001b[0;34m)\u001b[0m\u001b[0;34m\u001b[0m\u001b[0;34m\u001b[0m\u001b[0m\n\u001b[1;32m      8\u001b[0m \u001b[0mfig\u001b[0m\u001b[0;34m.\u001b[0m\u001b[0mset_size_inches\u001b[0m\u001b[0;34m(\u001b[0m\u001b[0;36m12\u001b[0m\u001b[0;34m,\u001b[0m\u001b[0;36m4\u001b[0m\u001b[0;34m)\u001b[0m\u001b[0;34m\u001b[0m\u001b[0;34m\u001b[0m\u001b[0m\n\u001b[0;32m----> 9\u001b[0;31m \u001b[0mplt\u001b[0m\u001b[0;34m.\u001b[0m\u001b[0mgcf\u001b[0m\u001b[0;34m(\u001b[0m\u001b[0;34m)\u001b[0m\u001b[0;34m.\u001b[0m\u001b[0msubplots_adjust\u001b[0m\u001b[0;34m(\u001b[0m\u001b[0mleft\u001b[0m\u001b[0;34m=\u001b[0m\u001b[0;36m0.5\u001b[0m\u001b[0;34m)\u001b[0m\u001b[0;34m\u001b[0m\u001b[0;34m\u001b[0m\u001b[0m\n\u001b[0m\u001b[1;32m     10\u001b[0m \u001b[0;34m\u001b[0m\u001b[0m\n\u001b[1;32m     11\u001b[0m \u001b[0mfig\u001b[0m\u001b[0;34m.\u001b[0m\u001b[0msavefig\u001b[0m\u001b[0;34m(\u001b[0m\u001b[0;34m'/mnt/Viz/protected_class_monitoring.png'\u001b[0m\u001b[0;34m)\u001b[0m\u001b[0;34m\u001b[0m\u001b[0;34m\u001b[0m\u001b[0m\n",
      "\u001b[0;32m/opt/conda/lib/python3.8/site-packages/matplotlib/_api/__init__.py\u001b[0m in \u001b[0;36m__getattr__\u001b[0;34m(name)\u001b[0m\n\u001b[1;32m    220\u001b[0m         \u001b[0;32mif\u001b[0m \u001b[0mname\u001b[0m \u001b[0;32min\u001b[0m \u001b[0mprops\u001b[0m\u001b[0;34m:\u001b[0m\u001b[0;34m\u001b[0m\u001b[0;34m\u001b[0m\u001b[0m\n\u001b[1;32m    221\u001b[0m             \u001b[0;32mreturn\u001b[0m \u001b[0mprops\u001b[0m\u001b[0;34m[\u001b[0m\u001b[0mname\u001b[0m\u001b[0;34m]\u001b[0m\u001b[0;34m.\u001b[0m\u001b[0m__get__\u001b[0m\u001b[0;34m(\u001b[0m\u001b[0minstance\u001b[0m\u001b[0;34m)\u001b[0m\u001b[0;34m\u001b[0m\u001b[0;34m\u001b[0m\u001b[0m\n\u001b[0;32m--> 222\u001b[0;31m         raise AttributeError(\n\u001b[0m\u001b[1;32m    223\u001b[0m             f\"module {cls.__module__!r} has no attribute {name!r}\")\n\u001b[1;32m    224\u001b[0m \u001b[0;34m\u001b[0m\u001b[0m\n",
      "\u001b[0;31mAttributeError\u001b[0m: module 'matplotlib' has no attribute 'gcf'"
     ]
    },
    {
     "data": {
      "image/png": "[encoded data removed]",
      "text/plain": [
       "<Figure size 864x288 with 1 Axes>"
      ]
     },
     "metadata": {
      "needs_background": "light"
     },
     "output_type": "display_data"
    }
   ],
   "source": [
    "#Add visualization of protected class for tracking purposes\n",
    "ax = sns.barplot(x = ['F', 'M', 'NB'], y = churn_inputs_and_preds.groupby('Gender').mean()['churn_Y'])\n",
    "\n",
    "ax.set_title('Churn By Gender')\n",
    "ax.set_ylabel('Proportion')\n",
    "ax.set_xlabel('Gender')\n",
    "fig = ax.get_figure()\n",
    "fig.set_size_inches(12,4)\n",
    "plt.gcf().subplots_adjust(left=0.5)\n",
    "\n",
    "fig.savefig('/mnt/Viz/protected_class_monitoring.png')"
   ]
  },
  {
   "cell_type": "code",
   "execution_count": 42,
   "id": "49794746-8f5f-42a5-82dd-54a3a74b9a62",
   "metadata": {},
   "outputs": [
    {
     "name": "stdout",
     "output_type": "stream",
     "text": [
      "Length Check Pass: True\n",
      "ID Check Pass: True\n"
     ]
    }
   ],
   "source": [
    "## Run two checks below to validate input and GT data is of same size and contains same custIDs\n",
    "\n",
    "lenCheck = churn_inputs_and_preds.shape[0]==churn_groundTruth.shape[0]\n",
    "print('Length Check Pass:', lenCheck)\n",
    "\n",
    "idCheck= (churn_inputs_and_preds.custid.sort_values()==churn_groundTruth.custid.sort_values())\\\n",
    ".sum() ==churn_inputs_and_preds.shape[0]\n",
    "print('ID Check Pass:', idCheck)"
   ]
  },
  {
   "cell_type": "code",
   "execution_count": 46,
   "id": "57590c04-151a-410f-bf51-a5fb578ffd60",
   "metadata": {},
   "outputs": [],
   "source": [
    "#Write input and pred data to DailyData folder # ---> this is the ground truth\n",
    "#daily_data_path = '/mnt/CustomerChurn46/DailyData/'\n",
    "\n",
    "#daily_data_path = '/mnt/CustomerChurn46/DailyData/'\n",
    "daily_data_path = '/mnt/data/DMM-classification/DailyData/'\n",
    "\n",
    "\n",
    "input_and_pred_path = str(daily_data_path+'inputs_and_preds_'+str(datetime.date.today())+'.csv')\n",
    "churn_inputs_and_preds.to_csv(input_and_pred_path, index = False)"
   ]
  },
  {
   "cell_type": "code",
   "execution_count": 47,
   "id": "2b37e2a0-10eb-4f3e-aa76-2576bc9711f3",
   "metadata": {},
   "outputs": [],
   "source": [
    "#Write GT data to DailyData folder\n",
    "ground_truth_path = str(daily_data_path+'ground_truth_'+str(datetime.date.today())+'.csv')\n",
    "churn_groundTruth.to_csv(ground_truth_path, index = False)"
   ]
  },
  {
   "cell_type": "code",
   "execution_count": 48,
   "id": "197458ad-6bc6-4f5b-999a-7eaa923b1d29",
   "metadata": {},
   "outputs": [
    {
     "ename": "NameError",
     "evalue": "name 'upload_to_s3' is not defined",
     "output_type": "error",
     "traceback": [
      "\u001b[0;31m---------------------------------------------------------------------------\u001b[0m",
      "\u001b[0;31mNameError\u001b[0m                                 Traceback (most recent call last)",
      "\u001b[0;32m/tmp/ipykernel_300/1943355448.py\u001b[0m in \u001b[0;36m<module>\u001b[0;34m\u001b[0m\n\u001b[1;32m      1\u001b[0m \u001b[0;31m#Upload input&pred data and GT data to s3 bucket\u001b[0m\u001b[0;34m\u001b[0m\u001b[0;34m\u001b[0m\u001b[0;34m\u001b[0m\u001b[0m\n\u001b[0;32m----> 2\u001b[0;31m \u001b[0mupload_to_s3\u001b[0m\u001b[0;34m.\u001b[0m\u001b[0mupload\u001b[0m\u001b[0;34m(\u001b[0m\u001b[0minput_and_pred_path\u001b[0m\u001b[0;34m,\u001b[0m \u001b[0mbucket\u001b[0m\u001b[0;34m)\u001b[0m\u001b[0;34m\u001b[0m\u001b[0;34m\u001b[0m\u001b[0m\n\u001b[0m\u001b[1;32m      3\u001b[0m \u001b[0mupload_to_s3\u001b[0m\u001b[0;34m.\u001b[0m\u001b[0mupload\u001b[0m\u001b[0;34m(\u001b[0m\u001b[0mground_truth_path\u001b[0m\u001b[0;34m,\u001b[0m \u001b[0mbucket\u001b[0m\u001b[0;34m)\u001b[0m\u001b[0;34m\u001b[0m\u001b[0;34m\u001b[0m\u001b[0m\n",
      "\u001b[0;31mNameError\u001b[0m: name 'upload_to_s3' is not defined"
     ]
    }
   ],
   "source": [
    "#Upload input&pred data and GT data to s3 bucket \n",
    "upload_to_s3.upload(input_and_pred_path, bucket)\n",
    "upload_to_s3.upload(ground_truth_path, bucket)"
   ]
  },
  {
   "cell_type": "code",
   "execution_count": 49,
   "id": "acb0841f-37fd-4b01-986a-a50f5f2c960c",
   "metadata": {},
   "outputs": [],
   "source": [
    "## At this point we are done with s3"
   ]
  },
  {
   "cell_type": "code",
   "execution_count": 50,
   "id": "f49184f8-3986-43b2-8510-2b9f111428b6",
   "metadata": {},
   "outputs": [],
   "source": [
    "#Define file names for payload construction below\n",
    "inputs_file_name = str('inputs_and_preds_'+str(datetime.date.today())+'.csv')\n",
    "ground_truth_file_name = str('ground_truth_'+str(datetime.date.today())+'.csv')"
   ]
  },
  {
   "cell_type": "code",
   "execution_count": 51,
   "id": "8a759cf6-85fe-4705-a15e-69d2d8b229df",
   "metadata": {},
   "outputs": [
    {
     "data": {
      "text/plain": [
       "'inputs_and_preds_2022-05-04.csv'"
      ]
     },
     "execution_count": 51,
     "metadata": {},
     "output_type": "execute_result"
    }
   ],
   "source": [
    "inputs_file_name"
   ]
  },
  {
   "cell_type": "code",
   "execution_count": 52,
   "id": "d8eddaf5-ea61-4ad6-b29a-e910d4edaed1",
   "metadata": {},
   "outputs": [],
   "source": [
    "#Create inputs and prediction data payload\n",
    "inputs_payload = \"\"\"\n",
    "{{\n",
    "\"datasetDetails\": {{\n",
    "        \"name\": \"{0}\",\n",
    "        \"datasetType\": \"file\",\n",
    "        \"datasetConfig\": {{\n",
    "            \"path\": \"{0}\",\n",
    "            \"fileFormat\": \"csv\"\n",
    "        }},\n",
    "        \"datasourceName\": \"churn-dmm-46\",\n",
    "        \"datasourceType\": \"s3\"\n",
    "    }}\n",
    "}}\n",
    "\"\"\".format(inputs_file_name)"
   ]
  },
  {
   "cell_type": "code",
   "execution_count": 53,
   "id": "e3df2f70-473d-418e-997b-2ce68820727a",
   "metadata": {},
   "outputs": [
    {
     "ename": "NameError",
     "evalue": "name 'model_id' is not defined",
     "output_type": "error",
     "traceback": [
      "\u001b[0;31m---------------------------------------------------------------------------\u001b[0m",
      "\u001b[0;31mNameError\u001b[0m                                 Traceback (most recent call last)",
      "\u001b[0;32m/tmp/ipykernel_300/2193187163.py\u001b[0m in \u001b[0;36m<module>\u001b[0;34m\u001b[0m\n\u001b[1;32m      1\u001b[0m \u001b[0;31m#Define api endpoint\u001b[0m\u001b[0;34m\u001b[0m\u001b[0;34m\u001b[0m\u001b[0;34m\u001b[0m\u001b[0m\n\u001b[0;32m----> 2\u001b[0;31m \u001b[0minputs_url\u001b[0m \u001b[0;34m=\u001b[0m \u001b[0;34m\"https://demo.dominodatalab.com/model-monitor/v2/api/model/{}/register-dataset/prediction\"\u001b[0m\u001b[0;34m.\u001b[0m\u001b[0mformat\u001b[0m\u001b[0;34m(\u001b[0m\u001b[0mmodel_id\u001b[0m\u001b[0;34m)\u001b[0m\u001b[0;34m\u001b[0m\u001b[0;34m\u001b[0m\u001b[0m\n\u001b[0m",
      "\u001b[0;31mNameError\u001b[0m: name 'model_id' is not defined"
     ]
    }
   ],
   "source": [
    "#Define api endpoint # Adding dmm model ID\n",
    "inputs_url = \"https://demo.dominodatalab.com/model-monitor/v2/api/model/{}/register-dataset/prediction\".format(model_id)"
   ]
  },
  {
   "cell_type": "code",
   "execution_count": 55,
   "id": "e6c5363b-6ac5-4f09-9ce9-4380cadd312c",
   "metadata": {},
   "outputs": [
    {
     "ename": "NameError",
     "evalue": "name 'dmm_api_key' is not defined",
     "output_type": "error",
     "traceback": [
      "\u001b[0;31m---------------------------------------------------------------------------\u001b[0m",
      "\u001b[0;31mNameError\u001b[0m                                 Traceback (most recent call last)",
      "\u001b[0;32m/tmp/ipykernel_300/3355358117.py\u001b[0m in \u001b[0;36m<module>\u001b[0;34m\u001b[0m\n\u001b[1;32m      1\u001b[0m \u001b[0;31m#Set up call headers  # Adding dmm_api_key\u001b[0m\u001b[0;34m\u001b[0m\u001b[0;34m\u001b[0m\u001b[0;34m\u001b[0m\u001b[0m\n\u001b[1;32m      2\u001b[0m headers = {\n\u001b[0;32m----> 3\u001b[0;31m            \u001b[0;34m'X-DMM-API-KEY'\u001b[0m\u001b[0;34m:\u001b[0m \u001b[0mdmm_api_key\u001b[0m\u001b[0;34m,\u001b[0m\u001b[0;34m\u001b[0m\u001b[0;34m\u001b[0m\u001b[0m\n\u001b[0m\u001b[1;32m      4\u001b[0m            \u001b[0;34m'Content-Type'\u001b[0m\u001b[0;34m:\u001b[0m \u001b[0;34m'application/json'\u001b[0m\u001b[0;34m\u001b[0m\u001b[0;34m\u001b[0m\u001b[0m\n\u001b[1;32m      5\u001b[0m           }\n",
      "\u001b[0;31mNameError\u001b[0m: name 'dmm_api_key' is not defined"
     ]
    }
   ],
   "source": [
    "#Set up call headers  # Adding dmm_api_key\n",
    "headers = {\n",
    "           'X-DMM-API-KEY': dmm_api_key,\n",
    "           'Content-Type': 'application/json'\n",
    "          }"
   ]
  },
  {
   "cell_type": "code",
   "execution_count": 57,
   "id": "7757d699-5ba0-4055-9c97-5f38db98df9c",
   "metadata": {},
   "outputs": [
    {
     "ename": "NameError",
     "evalue": "name 'requests' is not defined",
     "output_type": "error",
     "traceback": [
      "\u001b[0;31m---------------------------------------------------------------------------\u001b[0m",
      "\u001b[0;31mNameError\u001b[0m                                 Traceback (most recent call last)",
      "\u001b[0;32m/tmp/ipykernel_300/3547246546.py\u001b[0m in \u001b[0;36m<module>\u001b[0;34m\u001b[0m\n\u001b[1;32m      1\u001b[0m \u001b[0;31m#Make API call # importing requests\u001b[0m\u001b[0;34m\u001b[0m\u001b[0;34m\u001b[0m\u001b[0;34m\u001b[0m\u001b[0m\n\u001b[0;32m----> 2\u001b[0;31m \u001b[0minputs_response\u001b[0m \u001b[0;34m=\u001b[0m \u001b[0mrequests\u001b[0m\u001b[0;34m.\u001b[0m\u001b[0mrequest\u001b[0m\u001b[0;34m(\u001b[0m\u001b[0;34m\"PUT\"\u001b[0m\u001b[0;34m,\u001b[0m \u001b[0minputs_url\u001b[0m\u001b[0;34m,\u001b[0m \u001b[0mheaders\u001b[0m\u001b[0;34m=\u001b[0m\u001b[0mheaders\u001b[0m\u001b[0;34m,\u001b[0m \u001b[0mdata\u001b[0m \u001b[0;34m=\u001b[0m \u001b[0minputs_payload\u001b[0m\u001b[0;34m)\u001b[0m\u001b[0;34m\u001b[0m\u001b[0;34m\u001b[0m\u001b[0m\n\u001b[0m",
      "\u001b[0;31mNameError\u001b[0m: name 'requests' is not defined"
     ]
    }
   ],
   "source": [
    "#Make API call # importing requests\n",
    "inputs_response = requests.request(\"PUT\", inputs_url, headers=headers, data = inputs_payload)"
   ]
  },
  {
   "cell_type": "code",
   "execution_count": 58,
   "id": "aaf4cf08-adb8-4c30-bb34-12fa0d26c45d",
   "metadata": {},
   "outputs": [],
   "source": [
    "#create GT payload    \n",
    "ground_truth_payload = \"\"\"\n",
    "{{\n",
    "\n",
    "\"datasetDetails\": {{\n",
    "        \"name\": \"{0}\",\n",
    "        \"datasetType\": \"file\",\n",
    "        \"datasetConfig\": {{\n",
    "            \"path\": \"{0}\",\n",
    "            \"fileFormat\": \"csv\"\n",
    "        }},\n",
    "        \"datasourceName\": \"churn-dmm-46\",\n",
    "        \"datasourceType\": \"s3\"\n",
    "    }}\n",
    "}}\n",
    "\"\"\".format(ground_truth_file_name)"
   ]
  },
  {
   "cell_type": "code",
   "execution_count": 59,
   "id": "c2133137-5899-4abe-9df6-f8bb654deb52",
   "metadata": {},
   "outputs": [
    {
     "ename": "NameError",
     "evalue": "name 'model_id' is not defined",
     "output_type": "error",
     "traceback": [
      "\u001b[0;31m---------------------------------------------------------------------------\u001b[0m",
      "\u001b[0;31mNameError\u001b[0m                                 Traceback (most recent call last)",
      "\u001b[0;32m/tmp/ipykernel_300/3760294122.py\u001b[0m in \u001b[0;36m<module>\u001b[0;34m\u001b[0m\n\u001b[1;32m      1\u001b[0m \u001b[0;31m#Define api endpoint\u001b[0m\u001b[0;34m\u001b[0m\u001b[0;34m\u001b[0m\u001b[0;34m\u001b[0m\u001b[0m\n\u001b[0;32m----> 2\u001b[0;31m \u001b[0mground_truth_url\u001b[0m \u001b[0;34m=\u001b[0m \u001b[0;34m\"https://demo.dominodatalab.com/model-monitor/v2/api/model/{}/register-dataset/ground_truth\"\u001b[0m\u001b[0;34m.\u001b[0m\u001b[0mformat\u001b[0m\u001b[0;34m(\u001b[0m\u001b[0mmodel_id\u001b[0m\u001b[0;34m)\u001b[0m\u001b[0;34m\u001b[0m\u001b[0;34m\u001b[0m\u001b[0m\n\u001b[0m",
      "\u001b[0;31mNameError\u001b[0m: name 'model_id' is not defined"
     ]
    }
   ],
   "source": [
    "#Define api endpoint\n",
    "ground_truth_url = \"https://demo.dominodatalab.com/model-monitor/v2/api/model/{}/register-dataset/ground_truth\".format(model_id)"
   ]
  },
  {
   "cell_type": "code",
   "execution_count": 60,
   "id": "3e2ccdb3-7502-433a-8800-f0352c5a858e",
   "metadata": {},
   "outputs": [
    {
     "ename": "NameError",
     "evalue": "name 'requests' is not defined",
     "output_type": "error",
     "traceback": [
      "\u001b[0;31m---------------------------------------------------------------------------\u001b[0m",
      "\u001b[0;31mNameError\u001b[0m                                 Traceback (most recent call last)",
      "\u001b[0;32m/tmp/ipykernel_300/3821493117.py\u001b[0m in \u001b[0;36m<module>\u001b[0;34m\u001b[0m\n\u001b[1;32m      1\u001b[0m \u001b[0;31m#Make api call\u001b[0m\u001b[0;34m\u001b[0m\u001b[0;34m\u001b[0m\u001b[0;34m\u001b[0m\u001b[0m\n\u001b[0;32m----> 2\u001b[0;31m \u001b[0mground_truth_response\u001b[0m \u001b[0;34m=\u001b[0m \u001b[0mrequests\u001b[0m\u001b[0;34m.\u001b[0m\u001b[0mrequest\u001b[0m\u001b[0;34m(\u001b[0m\u001b[0;34m\"PUT\"\u001b[0m\u001b[0;34m,\u001b[0m \u001b[0mground_truth_url\u001b[0m\u001b[0;34m,\u001b[0m \u001b[0mheaders\u001b[0m\u001b[0;34m=\u001b[0m\u001b[0mheaders\u001b[0m\u001b[0;34m,\u001b[0m \u001b[0mdata\u001b[0m \u001b[0;34m=\u001b[0m \u001b[0mground_truth_payload\u001b[0m\u001b[0;34m)\u001b[0m\u001b[0;34m\u001b[0m\u001b[0;34m\u001b[0m\u001b[0m\n\u001b[0m",
      "\u001b[0;31mNameError\u001b[0m: name 'requests' is not defined"
     ]
    }
   ],
   "source": [
    "#Make api call\n",
    "ground_truth_response = requests.request(\"PUT\", ground_truth_url, headers=headers, data = ground_truth_payload)"
   ]
  },
  {
   "cell_type": "code",
   "execution_count": 61,
   "id": "17d093da-3232-4ed6-af67-13d9b0c6a890",
   "metadata": {},
   "outputs": [
    {
     "ename": "NameError",
     "evalue": "name 'ground_truth_response' is not defined",
     "output_type": "error",
     "traceback": [
      "\u001b[0;31m---------------------------------------------------------------------------\u001b[0m",
      "\u001b[0;31mNameError\u001b[0m                                 Traceback (most recent call last)",
      "\u001b[0;32m/tmp/ipykernel_300/3387391066.py\u001b[0m in \u001b[0;36m<module>\u001b[0;34m\u001b[0m\n\u001b[1;32m      1\u001b[0m \u001b[0;31m#Print response\u001b[0m\u001b[0;34m\u001b[0m\u001b[0;34m\u001b[0m\u001b[0;34m\u001b[0m\u001b[0m\n\u001b[0;32m----> 2\u001b[0;31m \u001b[0mprint\u001b[0m\u001b[0;34m(\u001b[0m\u001b[0mground_truth_response\u001b[0m\u001b[0;34m.\u001b[0m\u001b[0mtext\u001b[0m\u001b[0;34m.\u001b[0m\u001b[0mencode\u001b[0m\u001b[0;34m(\u001b[0m\u001b[0;34m'utf8'\u001b[0m\u001b[0;34m)\u001b[0m\u001b[0;34m)\u001b[0m\u001b[0;34m\u001b[0m\u001b[0;34m\u001b[0m\u001b[0m\n\u001b[0m",
      "\u001b[0;31mNameError\u001b[0m: name 'ground_truth_response' is not defined"
     ]
    }
   ],
   "source": [
    "#Print response\n",
    "print(ground_truth_response.text.encode('utf8'))"
   ]
  },
  {
   "cell_type": "code",
   "execution_count": null,
   "id": "1169a2da-a955-4c25-af93-292246e0a3cf",
   "metadata": {},
   "outputs": [],
   "source": []
  }
 ],
 "metadata": {
  "kernelspec": {
   "display_name": "Python 3 (ipykernel)",
   "language": "python",
   "name": "python3"
  },
  "language_info": {
   "codemirror_mode": {
    "name": "ipython",
    "version": 3
   },
   "file_extension": ".py",
   "mimetype": "text/x-python",
   "name": "python",
   "nbconvert_exporter": "python",
   "pygments_lexer": "ipython3",
   "version": "3.8.12"
  }
 },
 "nbformat": 4,
 "nbformat_minor": 5
}
