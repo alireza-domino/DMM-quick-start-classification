{
 "cells": [
  {
   "cell_type": "markdown",
   "id": "2671bc29-1a26-4172-926b-ee368a6227ef",
   "metadata": {},
   "source": [
    "# DMM Method B: Prediction and GT registration using API endpoint\n",
    "#### demonstrating the process for step 4 and 5"
   ]
  },
  {
   "cell_type": "markdown",
   "id": "b6fa5f89-e74e-4e72-9a67-d5fd5fb93021",
   "metadata": {},
   "source": [
    "#### At this point the input-pred.csv and the ground_truth.csv are saved in S3 bucket"
   ]
  },
  {
   "cell_type": "code",
   "execution_count": 1,
   "id": "4e268377-133d-4bee-a03f-1096c665d02d",
   "metadata": {},
   "outputs": [],
   "source": [
    "import requests"
   ]
  },
  {
   "cell_type": "code",
   "execution_count": 2,
   "id": "463055d0-d88c-43cf-824b-b97646a2a919",
   "metadata": {},
   "outputs": [],
   "source": [
    "#import certs\n",
    "import certs\n",
    "\n",
    "dmm_api_key = certs.dmm_api_key\n",
    "\n",
    "#model_id = '<dmm-model-id>'\n",
    "model_id = certs.model_id"
   ]
  },
  {
   "cell_type": "code",
   "execution_count": 3,
   "id": "c8cbe7b5-8f14-4109-b6bb-d6fccc56de46",
   "metadata": {},
   "outputs": [
    {
     "data": {
      "text/plain": [
       "'62814811f2f2f348d538b82e'"
      ]
     },
     "execution_count": 3,
     "metadata": {},
     "output_type": "execute_result"
    }
   ],
   "source": [
    "model_id"
   ]
  },
  {
   "cell_type": "code",
   "execution_count": 4,
   "id": "40929795-9496-480c-a81a-1a47408a3695",
   "metadata": {},
   "outputs": [],
   "source": [
    "# deployment address\n",
    "#domino_deploy_url = \"https://demo.dominodatalab.com/\"\n",
    "domino_deploy_url = \"https://imm-demo16176.cs.domino.tech/\""
   ]
  },
  {
   "cell_type": "code",
   "execution_count": 5,
   "id": "f49184f8-3986-43b2-8510-2b9f111428b6",
   "metadata": {},
   "outputs": [
    {
     "name": "stdout",
     "output_type": "stream",
     "text": [
      " the input_file_name is: inputs_and_preds_2022-05-09.csv\n",
      " The ground_truth_file_name is: ground_truth_2022-05-09.csv\n"
     ]
    }
   ],
   "source": [
    "#Define file names for payload construction below\n",
    "#inputs_file_name = str('inputs_and_preds_'+str(datetime.date.today())+'.csv')\n",
    "inputs_file_name = str('inputs_and_preds_'+'2022-05-09'+'.csv')\n",
    "print(f\" the input_file_name is: {inputs_file_name}\")\n",
    "\n",
    "#ground_truth_file_name = str('ground_truth_'+str(datetime.date.today())+'.csv')\n",
    "ground_truth_file_name = str('ground_truth_'+'2022-05-09'+'.csv')\n",
    "print(f\" The ground_truth_file_name is: {ground_truth_file_name}\")"
   ]
  },
  {
   "cell_type": "code",
   "execution_count": 6,
   "id": "9f36d096-ea91-41d4-b1a3-a872f086927f",
   "metadata": {},
   "outputs": [],
   "source": [
    "#Define api endpoint # Adding dmm model ID\n",
    "inputs_url = domino_deploy_url + \"model-monitor/v2/api/model/{}/register-dataset/prediction\".format(model_id)"
   ]
  },
  {
   "cell_type": "code",
   "execution_count": 7,
   "id": "d8eddaf5-ea61-4ad6-b29a-e910d4edaed1",
   "metadata": {},
   "outputs": [],
   "source": [
    "#Create inputs and prediction data payload\n",
    "inputs_payload = \"\"\"\n",
    "{{\n",
    "\"datasetDetails\": {{\n",
    "        \"name\": \"{0}\",\n",
    "        \"datasetType\": \"file\",\n",
    "        \"datasetConfig\": {{\n",
    "            \"path\": \"{0}\",\n",
    "            \"fileFormat\": \"csv\"\n",
    "        }},\n",
    "        \"datasourceName\": \"DMM-Classification-S3\",\n",
    "        \"datasourceType\": \"s3\"\n",
    "    }}\n",
    "}}\n",
    "\"\"\".format(inputs_file_name)"
   ]
  },
  {
   "cell_type": "code",
   "execution_count": 8,
   "id": "e6c5363b-6ac5-4f09-9ce9-4380cadd312c",
   "metadata": {},
   "outputs": [],
   "source": [
    "#Set up call headers  # Adding dmm_api_key\n",
    "headers = {\n",
    "           'X-DMM-API-KEY': dmm_api_key,\n",
    "           'Content-Type': 'application/json'\n",
    "          }"
   ]
  },
  {
   "cell_type": "code",
   "execution_count": 9,
   "id": "7757d699-5ba0-4055-9c97-5f38db98df9c",
   "metadata": {},
   "outputs": [],
   "source": [
    "#Make API call # importing requests\n",
    "inputs_response = requests.request(\"PUT\", inputs_url, headers=headers, data = inputs_payload)"
   ]
  },
  {
   "cell_type": "code",
   "execution_count": 10,
   "id": "aaf4cf08-adb8-4c30-bb34-12fa0d26c45d",
   "metadata": {},
   "outputs": [],
   "source": [
    "#create GT payload    \n",
    "ground_truth_payload = \"\"\"\n",
    "{{\n",
    "\n",
    "\"datasetDetails\": {{\n",
    "        \"name\": \"{0}\",\n",
    "        \"datasetType\": \"file\",\n",
    "        \"datasetConfig\": {{\n",
    "            \"path\": \"{0}\",\n",
    "            \"fileFormat\": \"csv\"\n",
    "        }},\n",
    "        \"datasourceName\": \"DMM-Classification-S3\",\n",
    "        \"datasourceType\": \"s3\"\n",
    "    }}\n",
    "}}\n",
    "\"\"\".format(ground_truth_file_name)"
   ]
  },
  {
   "cell_type": "code",
   "execution_count": 11,
   "id": "c2133137-5899-4abe-9df6-f8bb654deb52",
   "metadata": {},
   "outputs": [],
   "source": [
    "#Define api endpoint\n",
    "ground_truth_url = domino_deploy_url + \"model-monitor/v2/api/model/{}/register-dataset/ground_truth\".format(model_id)"
   ]
  },
  {
   "cell_type": "code",
   "execution_count": 12,
   "id": "3e2ccdb3-7502-433a-8800-f0352c5a858e",
   "metadata": {},
   "outputs": [],
   "source": [
    "#Make api call\n",
    "ground_truth_response = requests.request(\"PUT\", ground_truth_url, headers=headers, data = ground_truth_payload)"
   ]
  },
  {
   "cell_type": "code",
   "execution_count": 13,
   "id": "17d093da-3232-4ed6-af67-13d9b0c6a890",
   "metadata": {},
   "outputs": [
    {
     "name": "stdout",
     "output_type": "stream",
     "text": [
      "b''\n"
     ]
    }
   ],
   "source": [
    "#Print response\n",
    "print(ground_truth_response.text.encode('utf8'))"
   ]
  },
  {
   "cell_type": "code",
   "execution_count": null,
   "id": "f8ad8631-61b9-418b-89ab-72b491e1f07b",
   "metadata": {},
   "outputs": [],
   "source": []
  }
 ],
 "metadata": {
  "kernelspec": {
   "display_name": "Python 3 (ipykernel)",
   "language": "python",
   "name": "python3"
  },
  "language_info": {
   "codemirror_mode": {
    "name": "ipython",
    "version": 3
   },
   "file_extension": ".py",
   "mimetype": "text/x-python",
   "name": "python",
   "nbconvert_exporter": "python",
   "pygments_lexer": "ipython3",
   "version": "3.8.12"
  }
 },
 "nbformat": 4,
 "nbformat_minor": 5
}
