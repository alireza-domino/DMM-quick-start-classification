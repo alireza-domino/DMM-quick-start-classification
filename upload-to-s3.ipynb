{
 "cells": [
  {
   "cell_type": "code",
   "execution_count": 1,
   "id": "e4402607-dfa5-451b-a369-234d53ace4d1",
   "metadata": {},
   "outputs": [],
   "source": [
    "# upload to S3\n",
    " \n",
    "import boto3\n",
    "from botocore.exceptions import NoCredentialsError\n",
    "import os\n",
    "import numpy as np\n",
    "from datetime import date\n",
    "import certs"
   ]
  },
  {
   "cell_type": "code",
   "execution_count": 2,
   "id": "3550b2b3-a610-4089-b583-dac6921068a4",
   "metadata": {},
   "outputs": [],
   "source": [
    "#passing env var to python variables\n",
    "domino_user = os.getenv('DOMINO_STARTING_USERNAME')\n",
    "domino_project = os.getenv('DOMINO_PROJECT_NAME')"
   ]
  },
  {
   "cell_type": "code",
   "execution_count": 3,
   "id": "7cb8fd0e-a560-460e-80ac-a900c7c998a2",
   "metadata": {},
   "outputs": [
    {
     "data": {
      "text/plain": [
       "'dmm-classification'"
      ]
     },
     "execution_count": 3,
     "metadata": {},
     "output_type": "execute_result"
    }
   ],
   "source": [
    "domino_project"
   ]
  },
  {
   "cell_type": "code",
   "execution_count": 4,
   "id": "acddf6a8-c237-4503-8c99-ea50a644ffb5",
   "metadata": {},
   "outputs": [],
   "source": [
    "def upload(local_file, bucket):\n",
    "    s3 = boto3.client('s3', aws_access_key_id=certs.AWS_ACCESS_KEY_ID ,\n",
    "                      aws_secret_access_key=certs.AWS_SECRET_ACCESS_KEY)\n",
    "    \n",
    "    s3_file_name = '{}'.format(os.path.basename(local_file))\n",
    "    \n",
    "    try:\n",
    "        s3.upload_file(local_file, bucket, s3_file_name, ExtraArgs={'ACL':'public-read'})\n",
    "        print(str(s3_file_name) + \" Upload Successful\")\n",
    "        return True\n",
    "    except FileNotFoundError:\n",
    "        print(\"The file was not found\")\n",
    "        return False\n",
    "    except NoCredentialsError:\n",
    "        print(\"Credentials not available\")\n",
    "        return False"
   ]
  },
  {
   "cell_type": "raw",
   "id": "99276d50-67da-431c-9195-e361cc3ca564",
   "metadata": {},
   "source": [
    "\n",
    "def upload(local_file, bucket):\n",
    "    s3 = boto3.client('s3', aws_access_key_id=os.environ['AWS_ACCESS_KEY_ID'],\n",
    "                      aws_secret_access_key=os.environ['AWS_SECRET_ACCESS_KEY'])\n",
    "    \n",
    "    s3_file_name = '{}'.format(os.path.basename(local_file))\n",
    "    \n",
    "    try:\n",
    "        s3.upload_file(local_file, bucket, s3_file_name, ExtraArgs={'ACL':'public-read'})\n",
    "        print(str(s3_file_name) + \" Upload Successful\")\n",
    "        return True\n",
    "    except FileNotFoundError:\n",
    "        print(\"The file was not found\")\n",
    "        return False\n",
    "    except NoCredentialsError:\n",
    "        print(\"Credentials not available\")\n",
    "        return False"
   ]
  }
 ],
 "metadata": {
  "kernelspec": {
   "display_name": "Python 3 (ipykernel)",
   "language": "python",
   "name": "python3"
  },
  "language_info": {
   "codemirror_mode": {
    "name": "ipython",
    "version": 3
   },
   "file_extension": ".py",
   "mimetype": "text/x-python",
   "name": "python",
   "nbconvert_exporter": "python",
   "pygments_lexer": "ipython3",
   "version": "3.8.12"
  }
 },
 "nbformat": 4,
 "nbformat_minor": 5
}
